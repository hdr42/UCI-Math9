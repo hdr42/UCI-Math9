{
 "cells": [
  {
   "cell_type": "markdown",
   "metadata": {},
   "source": [
    "## Lab Assignment 2\n",
    "\n",
    "Please fill this notebook with your code and explainations, run everything, save the notebook and upload to canvas.\n",
    "\n",
    "This lab assignment contains four problems. Read each problem carefully and answer them the best you can.\n",
    "\n",
    "Be sure to provide an explaination to your work using a comment."
   ]
  },
  {
   "cell_type": "markdown",
   "metadata": {},
   "source": [
    "### Problem 1\n",
    "\n",
    "Print the first 10 positive integers divisible by 9 with the last digit 1 using a loop."
   ]
  },
  {
   "cell_type": "code",
   "execution_count": 1,
   "metadata": {
    "collapsed": false
   },
   "outputs": [
    {
     "name": "stdout",
     "output_type": "stream",
     "text": [
      "81\n",
      "171\n",
      "261\n",
      "351\n",
      "441\n",
      "531\n",
      "621\n",
      "711\n",
      "801\n",
      "891\n"
     ]
    }
   ],
   "source": [
    "# For Problem 1.\n",
    "n = 0 # Counts the number of positive integers found.\n",
    "s = 1 # Stores current positive integer being checked.\n",
    "while n < 10:\n",
    "    if (s % 9 == 0) and (s % 10 == 1):\n",
    "        # Checks if (s is divisible by 9, that is s has remainder 0 mod 9) and (s has remainder 1 mod 10)\n",
    "        print(s)   # print the number that satisfies both conditions\n",
    "        n += 1     # increase n\n",
    "    s += 1         # increase s to check next number."
   ]
  },
  {
   "cell_type": "markdown",
   "metadata": {},
   "source": [
    "### Problem 2\n",
    "\n",
    "Estimate pi by adding the first 1000 terms in the formula: $$\\pi/4 = 1 - 1/3 + 1/5 - 1/7 + ...$$ compare the answer to the built-in `math.pi`. (by the way, this comes from the Taylor expansion of arctan)"
   ]
  },
  {
   "cell_type": "code",
   "execution_count": 6,
   "metadata": {
    "collapsed": false
   },
   "outputs": [
    {
     "name": "stdout",
     "output_type": "stream",
     "text": [
      "3.140592653839794\n",
      "3.141592653589793\n",
      "1000\n"
     ]
    }
   ],
   "source": [
    "# For Problem 2.\n",
    "n = 0 # Stores our current position.\n",
    "s = 0 # Stores the sum of first n terms.\n",
    "while n<1000:\n",
    "    n += 1 # Increase position by 1.\n",
    "    s = s + (-1)**(n+1)/(2*n-1)  # add n-th term to variable s.\n",
    "    # Alternatively can use s += (-1)**(n+1)/(2*n-1)\n",
    "print(4*s) # print out 4*s to approximate pi (since s approximates pi/4).\n",
    "import math\n",
    "print(math.pi)"
   ]
  },
  {
   "cell_type": "markdown",
   "metadata": {},
   "source": [
    "### Problem 3\n",
    "\n",
    "Recall from lecture that you can determine whether a number is prime or not using the following code:"
   ]
  },
  {
   "cell_type": "code",
   "execution_count": 3,
   "metadata": {
    "collapsed": true
   },
   "outputs": [],
   "source": [
    "def isprime(n):\n",
    "    if n <= 1:\n",
    "        return False\n",
    "    d = 2\n",
    "    while d<n:\n",
    "        if n % d  == 0:\n",
    "            return False\n",
    "        d += 1\n",
    "    return True"
   ]
  },
  {
   "cell_type": "markdown",
   "metadata": {},
   "source": [
    "Create a function `primes(n)` that prints the first n prime numbers using a while loop.\n",
    "\n",
    "You may use the function isprime(n)."
   ]
  },
  {
   "cell_type": "code",
   "execution_count": 4,
   "metadata": {
    "collapsed": true
   },
   "outputs": [],
   "source": [
    "# For Problem 3.\n",
    "def primes(n):\n",
    "    k = 0 # Counts number of primes found.\n",
    "    p = 2 # The current positive integer being checked if prime.\n",
    "    while k<n:  # while our total count is less than n....\n",
    "        if isprime(p): # if p is a prime number...\n",
    "            print(p)       # print the prime number p\n",
    "            k +=1          # increase count number\n",
    "        p += 1         # increase p by 1."
   ]
  },
  {
   "cell_type": "code",
   "execution_count": 5,
   "metadata": {
    "collapsed": false
   },
   "outputs": [
    {
     "name": "stdout",
     "output_type": "stream",
     "text": [
      "2\n",
      "3\n",
      "5\n",
      "7\n",
      "11\n",
      "13\n",
      "17\n",
      "19\n",
      "23\n",
      "29\n"
     ]
    }
   ],
   "source": [
    "primes(10)"
   ]
  }
 ],
 "metadata": {
  "anaconda-cloud": {},
  "kernelspec": {
   "display_name": "Python [default]",
   "language": "python",
   "name": "python3"
  },
  "language_info": {
   "codemirror_mode": {
    "name": "ipython",
    "version": 3
   },
   "file_extension": ".py",
   "mimetype": "text/x-python",
   "name": "python",
   "nbconvert_exporter": "python",
   "pygments_lexer": "ipython3",
   "version": "3.5.2"
  }
 },
 "nbformat": 4,
 "nbformat_minor": 2
}
