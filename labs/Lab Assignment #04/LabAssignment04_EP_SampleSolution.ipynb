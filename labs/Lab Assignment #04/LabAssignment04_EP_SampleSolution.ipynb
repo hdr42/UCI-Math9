{
 "cells": [
  {
   "cell_type": "markdown",
   "metadata": {},
   "source": [
    "## Lab Assignment 4\n",
    "\n",
    "Please fill this notebook with your code and explainations, run everything, save the notebook and upload to canvas.\n",
    "\n",
    "This lab assignment contains ***`FOUR`*** problems. Read each problem carefully and answer them the best you can.\n",
    "\n",
    "Be sure to provide an explaination to your work using a comment."
   ]
  },
  {
   "cell_type": "markdown",
   "metadata": {},
   "source": [
    "### Problem 1\n",
    "Write a function funOne(mylist) that returns a list that reverses the order of mylist.\n",
    "\n",
    "You may use loops or list comprehensions.\n",
    "\n",
    "Your final answer should not use any built-in functions.\n",
    "\n",
    "Example: funOne( [ -4, \"Hello\", [3,4,1] ] ) returns [ [3,4,1], \"Hello\", -4 ]."
   ]
  },
  {
   "cell_type": "code",
   "execution_count": 7,
   "metadata": {
    "collapsed": false
   },
   "outputs": [],
   "source": [
    "# For Problem 1.\n",
    "def funOneV1(mylist): # Doesn't modify the original list.\n",
    "    mylist = [x for x in mylist[::-1]]\n",
    "    return mylist\n",
    "\n",
    "def funOneV2(mylist): # Does modify the original list.\n",
    "    for j in range(0,len(mylist)//2):\n",
    "        dum = mylist[j]\n",
    "        mylist[j] = mylist[-(j+1)]\n",
    "        mylist[-(j+1)] = dum\n",
    "    return mylist"
   ]
  },
  {
   "cell_type": "code",
   "execution_count": 10,
   "metadata": {
    "collapsed": false
   },
   "outputs": [
    {
     "name": "stdout",
     "output_type": "stream",
     "text": [
      "[-4, 'Hello', [3, 4, 1]]\n",
      "[[3, 4, 1], 'Hello', -4]\n",
      "[-4, 'Hello', [3, 4, 1]]\n"
     ]
    }
   ],
   "source": [
    "xs = [-4,\"Hello\",[3,4,1]]\n",
    "print(xs)\n",
    "\n",
    "rxs = funOneV1(xs)\n",
    "print(rxs)\n",
    "print(xs)"
   ]
  },
  {
   "cell_type": "code",
   "execution_count": 11,
   "metadata": {
    "collapsed": false
   },
   "outputs": [
    {
     "name": "stdout",
     "output_type": "stream",
     "text": [
      "[-4, 'Hello', [3, 4, 1]]\n",
      "[[3, 4, 1], 'Hello', -4]\n",
      "[[3, 4, 1], 'Hello', -4]\n"
     ]
    }
   ],
   "source": [
    "ys = [-4,\"Hello\",[3,4,1]]\n",
    "print(ys)\n",
    "\n",
    "rys = funOneV2(ys)\n",
    "print(rys)\n",
    "print(ys)"
   ]
  },
  {
   "cell_type": "markdown",
   "metadata": {},
   "source": [
    "### Problem 2\n",
    "Use list comprehensions to form the following list:\n",
    "\n",
    "[1,\n",
    " 101,\n",
    " 10101,\n",
    " 1010101,\n",
    " 101010101]\n",
    " \n",
    " Afterwards, make a function funTwo(N) that returns a list of length N following the same pattern."
   ]
  },
  {
   "cell_type": "code",
   "execution_count": 16,
   "metadata": {
    "collapsed": false
   },
   "outputs": [
    {
     "name": "stdout",
     "output_type": "stream",
     "text": [
      "[1, 101, 10101, 1010101, 101010101]\n",
      "[1, 101, 10101, 1010101, 101010101]\n",
      "[1, 101, 10101, 1010101, 101010101, 10101010101, 1010101010101]\n"
     ]
    }
   ],
   "source": [
    "# For Problem 2.\n",
    "samplelist = [ int('1' + k*'01') for k in range(0,5) ]\n",
    "print(samplelist)\n",
    "\n",
    "def funTwo(N):\n",
    "    samplelist = [ int('1' + k*'01') for k in range(0,N) ]\n",
    "    return samplelist\n",
    "\n",
    "print(funTwo(5))\n",
    "print(funTwo(7))"
   ]
  },
  {
   "cell_type": "markdown",
   "metadata": {},
   "source": [
    "### Problem 3\n",
    "Suppose you are given the list `xs = [ -2, 7 , 1 , 3, 8, 0, -1 , 2, 4 ]`.\n",
    "\n",
    "###### Part 1:\n",
    "\n",
    "Write out your Psuedocode/Idea/Thoughts about how you might create the list ys = `[-2,0,2,4,8,-1,1,3,7]` using your list xs. You should give a step by step list of how you plan to solve the problem using only words and basic descriptions .\n",
    "\n",
    "###### Part 2:\n",
    "\n",
    "You only get credit for Part 2 if you fully described each step of your procedure in Part 1.\n",
    "\n",
    "Attempt to code up your idea. It doesn't need to be complete or fully correct.\n",
    "\n",
    "What part of your Psuedocode/Idea worked? What part didn't work? Give a short summary/conclusion.\n"
   ]
  },
  {
   "cell_type": "markdown",
   "metadata": {},
   "source": [
    "**Sample solution:**\n",
    "\n",
    "*For Problem 3 (Part 1):*\n",
    "\n",
    "One idea that would work for a list of integers:\n",
    "\n",
    "Step 1: Form two separate lists of even integers and odd integers.\n",
    "\n",
    "Step 2: Sort each of the lists from least to greatest.\n",
    "\n",
    "Step 3: Recombine the two lists."
   ]
  },
  {
   "cell_type": "code",
   "execution_count": 35,
   "metadata": {
    "collapsed": false
   },
   "outputs": [
    {
     "name": "stdout",
     "output_type": "stream",
     "text": [
      "[-2, 7, 1, 3, 8, 0, -1, 2, 4]\n",
      "[-2, 0, 2, 4, 8, -1, 1, 3, 7]\n"
     ]
    }
   ],
   "source": [
    "# For Problem 3 (Part 2).\n",
    "xs = [ -2, 7 , 1 , 3, 8, 0, -1 , 2, 4 ]\n",
    "print(xs)\n",
    "\n",
    "evenlist = []\n",
    "oddlist = []\n",
    "for j in range(0,len(xs)):\n",
    "    if xs[j] % 2 == 0:\n",
    "        evenlist += [ xs[j] ]\n",
    "    else:\n",
    "        oddlist += [ xs[j] ]\n",
    "\n",
    "#print(evenlist)\n",
    "#print(oddlist)\n",
    "\n",
    "# Taking sort code from Lecture 10:\n",
    "def argmax(xs):\n",
    "    current_max = xs[0]\n",
    "    current_max_location = 0\n",
    "    for i,x in enumerate(xs):   # use enumerate to cycle through i and xs[i] at the same time\n",
    "        if current_max < x:\n",
    "            current_max = x\n",
    "            current_max_location = i\n",
    "    return current_max_location            \n",
    "\n",
    "def swap(xs, i, j):\n",
    "    dum = xs[i]\n",
    "    xs[i] = xs[j]\n",
    "    xs[j] = dum\n",
    "    \n",
    "def sort(xs):\n",
    "    N = len(xs)\n",
    "    for i in range(N):\n",
    "        swap(xs, i + argmax(xs[i:N]), i)\n",
    "    return xs\n",
    "\n",
    "# This sort function done in class sorts in decreasing order. We need to reverse it. Use problem 1.\n",
    "#print(sort(evenlist))\n",
    "#print(sort(oddlist))\n",
    "#print(funOneV1(sort(evenlist)))\n",
    "#print(funOneV1(sort(oddlist)))\n",
    "\n",
    "\n",
    "newlist = funOneV1(sort(evenlist)) + funOneV1(sort(oddlist))\n",
    "\n",
    "print(newlist)"
   ]
  },
  {
   "cell_type": "markdown",
   "metadata": {},
   "source": [
    "### Problem 4\n",
    "\n",
    "Come up with one question you consider to be a fair midterm problem to ask your classmates.\n",
    "\n",
    "Remember all such problems should be answered only using pen/pencil on paper.\n",
    "\n",
    "Be as creative as you like, but try not to make it too wordy.\n",
    "\n",
    "Optional: Provide a solution using Markdown."
   ]
  },
  {
   "cell_type": "markdown",
   "metadata": {},
   "source": [
    "For Problem 4.\n",
    "\n",
    "See sample midterm exam.\n",
    "\n"
   ]
  }
 ],
 "metadata": {
  "anaconda-cloud": {},
  "kernelspec": {
   "display_name": "Python [default]",
   "language": "python",
   "name": "python3"
  },
  "language_info": {
   "codemirror_mode": {
    "name": "ipython",
    "version": 3
   },
   "file_extension": ".py",
   "mimetype": "text/x-python",
   "name": "python",
   "nbconvert_exporter": "python",
   "pygments_lexer": "ipython3",
   "version": "3.5.2"
  }
 },
 "nbformat": 4,
 "nbformat_minor": 2
}
