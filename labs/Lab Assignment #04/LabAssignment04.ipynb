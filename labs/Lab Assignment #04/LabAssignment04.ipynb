{
 "cells": [
  {
   "cell_type": "markdown",
   "metadata": {},
   "source": [
    "## Lab Assignment 4\n",
    "\n",
    "Please fill this notebook with your code and explainations, run everything, save the notebook and upload to canvas.\n",
    "\n",
    "This lab assignment contains ***`FOUR`*** problems. Read each problem carefully and answer them the best you can.\n",
    "\n",
    "Be sure to provide an explaination to your work using a comment."
   ]
  },
  {
   "cell_type": "markdown",
   "metadata": {},
   "source": [
    "### Problem 1\n",
    "Write a function funOne(mylist) that returns a list that reverses the order of mylist.\n",
    "\n",
    "You may use loops or list comprehensions.\n",
    "\n",
    "Your final answer should not use any built-in functions.\n",
    "\n",
    "Example: funOne( [ -4, \"Hello\", [3,4,1] ] ) returns [ [3,4,1], \"Hello\", -4 ]."
   ]
  },
  {
   "cell_type": "code",
   "execution_count": 6,
   "metadata": {
    "collapsed": false
   },
   "outputs": [],
   "source": [
    "# For Problem 1.\n"
   ]
  },
  {
   "cell_type": "markdown",
   "metadata": {},
   "source": [
    "### Problem 2\n",
    "Use list comprehensions to form the following list:\n",
    "\n",
    "[1,\n",
    " 101,\n",
    " 10101,\n",
    " 1010101,\n",
    " 101010101]\n",
    " \n",
    " Afterwards, make a function funTwo(N) that returns a list of length N following the same pattern."
   ]
  },
  {
   "cell_type": "code",
   "execution_count": 33,
   "metadata": {
    "collapsed": false
   },
   "outputs": [],
   "source": [
    "# For Problem 2.\n"
   ]
  },
  {
   "cell_type": "markdown",
   "metadata": {},
   "source": [
    "### Problem 3\n",
    "Suppose you are given the list `xs = [ -2, 7 , 1 , 3, 8, 0, -1 , 2, 4 ]`.\n",
    "\n",
    "###### Part 1:\n",
    "\n",
    "Write out your Psuedocode/Idea/Thoughts about how you might create the list ys = `[-2,0,2,4,8,-1,1,3,7]` using your list xs. You should give a step by step list of how you plan to solve the problem using only words and basic descriptions .\n",
    "\n",
    "###### Part 2:\n",
    "\n",
    "You only get credit for Part 2 if you fully described each step of your procedure in Part 1.\n",
    "\n",
    "Attempt to code up your idea. It doesn't need to be complete or fully correct.\n",
    "\n",
    "What part of your Psuedocode/Idea worked? What part didn't work? Give a short summary/conclusion.\n"
   ]
  },
  {
   "cell_type": "markdown",
   "metadata": {},
   "source": [
    "For Problem 3 (Part 1):\n",
    "\n",
    ".\n"
   ]
  },
  {
   "cell_type": "code",
   "execution_count": 34,
   "metadata": {
    "collapsed": false
   },
   "outputs": [],
   "source": [
    "# For Problem 3 (Part 2).\n",
    " "
   ]
  },
  {
   "cell_type": "markdown",
   "metadata": {},
   "source": [
    "### Problem 4\n",
    "\n",
    "Come up with one question you consider to be a fair midterm problem to ask your classmates.\n",
    "\n",
    "Remember all such problems should be answered only using pen/pencil on paper.\n",
    "\n",
    "Be as creative as you like, but try not to make it too wordy.\n",
    "\n",
    "Optional: Provide a solution using Markdown."
   ]
  },
  {
   "cell_type": "markdown",
   "metadata": {},
   "source": [
    "For Problem 4.\n",
    "\n",
    ".\n",
    "\n"
   ]
  },
  {
   "cell_type": "code",
   "execution_count": null,
   "metadata": {
    "collapsed": true
   },
   "outputs": [],
   "source": []
  }
 ],
 "metadata": {
  "anaconda-cloud": {},
  "kernelspec": {
   "display_name": "Python [default]",
   "language": "python",
   "name": "python3"
  },
  "language_info": {
   "codemirror_mode": {
    "name": "ipython",
    "version": 3
   },
   "file_extension": ".py",
   "mimetype": "text/x-python",
   "name": "python",
   "nbconvert_exporter": "python",
   "pygments_lexer": "ipython3",
   "version": "3.5.2"
  }
 },
 "nbformat": 4,
 "nbformat_minor": 2
}
