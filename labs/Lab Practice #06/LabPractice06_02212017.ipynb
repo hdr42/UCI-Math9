{
 "cells": [
  {
   "cell_type": "markdown",
   "metadata": {},
   "source": [
    "# Lab Practice #06\n",
    "\n",
    "This notebook does not need to be submitted. This is only for you to gain experience and get some practice."
   ]
  },
  {
   "cell_type": "markdown",
   "metadata": {},
   "source": [
    "## Classes"
   ]
  },
  {
   "cell_type": "code",
   "execution_count": null,
   "metadata": {
    "collapsed": false,
    "scrolled": true
   },
   "outputs": [],
   "source": [
    "# Recall from lecture you created a class called Vector."
   ]
  },
  {
   "cell_type": "code",
   "execution_count": null,
   "metadata": {
    "collapsed": false,
    "scrolled": true
   },
   "outputs": [],
   "source": [
    "import math\n",
    "\n",
    "class Vector():\n",
    "    \n",
    "    def __init__(self, xx, yy, zz):\n",
    "        self.x = xx\n",
    "        self.y = yy\n",
    "        self.z = zz\n",
    "        \n",
    "    def __repr__(self):\n",
    "        return str(self.x) + \",\" + str(self.y) + \",\" + str(self.z)        \n",
    "\n",
    "    def __add__(self, w):\n",
    "        return Vector(self.x + w.x, self.y + w.y, self.z + w.z)\n",
    "    \n",
    "    \n",
    "    def norm(self):\n",
    "        return math.sqrt(self.x*self.x + self.y*self.y + self.z*self.z)\n",
    "\n",
    "    def normalize(self):\n",
    "        no = self.norm()\n",
    "        self.x /= no\n",
    "        self.y /= no\n",
    "        self.z /= no        \n",
    "    \n",
    "    def dot(self, w):\n",
    "        return self.x * w.x + self.y * w.y + self.z * w.z\n",
    "    \n",
    "# note that every function has self in it, so that it can access the information of the class"
   ]
  },
  {
   "cell_type": "code",
   "execution_count": null,
   "metadata": {
    "collapsed": false,
    "scrolled": true
   },
   "outputs": [],
   "source": [
    "x = Vector(3,4,5)\n",
    "print(x)\n",
    "y = x+x\n",
    "print(y)"
   ]
  },
  {
   "cell_type": "code",
   "execution_count": null,
   "metadata": {
    "collapsed": false
   },
   "outputs": [],
   "source": [
    "print(y.norm())\n",
    "print(y)"
   ]
  },
  {
   "cell_type": "code",
   "execution_count": null,
   "metadata": {
    "collapsed": false,
    "scrolled": true
   },
   "outputs": [],
   "source": [
    "y.normalize() # Note that you may not get exactly one, but close to one. Some numerical error.\n",
    "print(y.norm())\n",
    "print(y)\n"
   ]
  },
  {
   "cell_type": "markdown",
   "metadata": {},
   "source": [
    "Here for fun, I created a Math 9 class that will keep track of the students.\n",
    "Note: This has only the basics!"
   ]
  },
  {
   "cell_type": "code",
   "execution_count": null,
   "metadata": {
    "collapsed": false,
    "scrolled": true
   },
   "outputs": [],
   "source": [
    "class Math9():\n",
    "    def __init__(self):\n",
    "        self.roster = []\n",
    "        self.count = 0\n",
    "        \n",
    "    def __repr__(self):\n",
    "        return \"Names are restricted, but you have \" + str(self.count) + \" students in the list.\"   \n",
    "\n",
    "    def __add__(self, w):\n",
    "        self.roster.extend(w.roster)\n",
    "        w.roster = []\n",
    "        w.count = 0\n",
    "        return self.roster.extend(w.roster)\n",
    "        \n",
    "\n",
    "    def addstudent(self,name):\n",
    "        self.roster.append(name)\n",
    "        self.count += 1\n",
    "        \n",
    "    def removestudent(self,name):\n",
    "        self.roster.remove(name)        \n",
    "        self.count -= 1"
   ]
  },
  {
   "cell_type": "code",
   "execution_count": null,
   "metadata": {
    "collapsed": true
   },
   "outputs": [],
   "source": [
    "W2017 = Math9()\n",
    "W2017WaitListed = Math9()"
   ]
  },
  {
   "cell_type": "code",
   "execution_count": null,
   "metadata": {
    "collapsed": false
   },
   "outputs": [],
   "source": [
    "print(W2017.roster)\n",
    "print(W2017.count)"
   ]
  },
  {
   "cell_type": "code",
   "execution_count": null,
   "metadata": {
    "collapsed": false,
    "scrolled": true
   },
   "outputs": [],
   "source": [
    "W2017.addstudent(\"EJP\")"
   ]
  },
  {
   "cell_type": "code",
   "execution_count": null,
   "metadata": {
    "collapsed": false
   },
   "outputs": [],
   "source": [
    "print(W2017.roster)\n",
    "print(W2017.count)"
   ]
  },
  {
   "cell_type": "code",
   "execution_count": null,
   "metadata": {
    "collapsed": false
   },
   "outputs": [],
   "source": [
    "W2017.addstudent(\"Timmy\")\n",
    "W2017.addstudent(\"Karen\")\n",
    "W2017.addstudent(\"Peter the Anteater\")\n",
    "print(W2017.roster)\n",
    "print(W2017.count)"
   ]
  },
  {
   "cell_type": "code",
   "execution_count": null,
   "metadata": {
    "collapsed": false
   },
   "outputs": [],
   "source": [
    "W2017.removestudent(\"Timmy\")\n",
    "print(W2017.roster)\n",
    "print(W2017.count)"
   ]
  },
  {
   "cell_type": "code",
   "execution_count": null,
   "metadata": {
    "collapsed": false
   },
   "outputs": [],
   "source": [
    "W2017WaitListed.addstudent(\"Pikachu\")\n",
    "print(W2017WaitListed.roster)\n",
    "print(W2017WaitListed.count)"
   ]
  },
  {
   "cell_type": "code",
   "execution_count": null,
   "metadata": {
    "collapsed": false
   },
   "outputs": [],
   "source": [
    "W2017 + W2017WaitListed\n",
    "print(W2017)\n",
    "print(W2017WaitListed)"
   ]
  },
  {
   "cell_type": "code",
   "execution_count": null,
   "metadata": {
    "collapsed": false
   },
   "outputs": [],
   "source": [
    "print(W2017.roster)\n",
    "print(W2017WaitListed.roster)"
   ]
  },
  {
   "cell_type": "markdown",
   "metadata": {},
   "source": [
    "### For the following exercises...be creative and make a shopping list!"
   ]
  },
  {
   "cell_type": "markdown",
   "metadata": {
    "collapsed": false
   },
   "source": [
    "### Exercise 1:\n",
    "Make a class called `item`. Write the `__init__(self,item_name,item_price)`, `__repr__(self)`: methods for the class. This class should keep track of the items name and price value of item."
   ]
  },
  {
   "cell_type": "code",
   "execution_count": null,
   "metadata": {
    "collapsed": false,
    "scrolled": true
   },
   "outputs": [],
   "source": [
    "# Complete Exercise 1 here.\n"
   ]
  },
  {
   "cell_type": "markdown",
   "metadata": {},
   "source": [
    "### Exercise 2:\n",
    "Make a class called `myGroceryList` that keeps track of your grocey list and money using the 'item' class created in exercise 1. Write the `__init__(self,current_money)`, `__repr__(self)` and `__add__(self, another_List):` methods for the class. To shop you probably need money...so you should be keeping track of your money. Create other methods such as add_money() in case you withdraw cash from an ATM. You should add various methods that will help you shop effectively."
   ]
  },
  {
   "cell_type": "code",
   "execution_count": null,
   "metadata": {
    "collapsed": true
   },
   "outputs": [],
   "source": [
    "# Complete Exercise 2 here.\n"
   ]
  }
 ],
 "metadata": {
  "anaconda-cloud": {},
  "kernelspec": {
   "display_name": "Python [conda root]",
   "language": "python",
   "name": "conda-root-py"
  },
  "language_info": {
   "codemirror_mode": {
    "name": "ipython",
    "version": 3
   },
   "file_extension": ".py",
   "mimetype": "text/x-python",
   "name": "python",
   "nbconvert_exporter": "python",
   "pygments_lexer": "ipython3",
   "version": "3.5.2"
  }
 },
 "nbformat": 4,
 "nbformat_minor": 2
}
