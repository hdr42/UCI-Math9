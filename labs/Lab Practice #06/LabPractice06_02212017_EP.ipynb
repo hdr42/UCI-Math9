{
 "cells": [
  {
   "cell_type": "markdown",
   "metadata": {},
   "source": [
    "# Lab Practice #06\n",
    "\n",
    "This notebook does not need to be submitted. This is only for you to gain experience and get some practice."
   ]
  },
  {
   "cell_type": "markdown",
   "metadata": {},
   "source": [
    "## Classes"
   ]
  },
  {
   "cell_type": "code",
   "execution_count": null,
   "metadata": {
    "collapsed": false,
    "scrolled": true
   },
   "outputs": [],
   "source": [
    "# Recall from lecture you created a class called Vector."
   ]
  },
  {
   "cell_type": "code",
   "execution_count": 1,
   "metadata": {
    "collapsed": false,
    "scrolled": true
   },
   "outputs": [],
   "source": [
    "import math\n",
    "\n",
    "class Vector():\n",
    "    \n",
    "    def __init__(self, xx, yy, zz):\n",
    "        self.x = xx\n",
    "        self.y = yy\n",
    "        self.z = zz\n",
    "        \n",
    "    def __repr__(self):\n",
    "        return str(self.x) + \",\" + str(self.y) + \",\" + str(self.z)        \n",
    "\n",
    "    def __add__(self, w):\n",
    "        return Vector(self.x + w.x, self.y + w.y, self.z + w.z)\n",
    "    \n",
    "    \n",
    "    def norm(self):\n",
    "        return math.sqrt(self.x*self.x + self.y*self.y + self.z*self.z)\n",
    "\n",
    "    def normalize(self):\n",
    "        no = self.norm()\n",
    "        self.x /= no\n",
    "        self.y /= no\n",
    "        self.z /= no        \n",
    "    \n",
    "    def dot(self, w):\n",
    "        return self.x * w.x + self.y * w.y + self.z * w.z\n",
    "    \n",
    "# note that every function has self in it, so that it can access the information of the class"
   ]
  },
  {
   "cell_type": "code",
   "execution_count": 11,
   "metadata": {
    "collapsed": false,
    "scrolled": true
   },
   "outputs": [
    {
     "name": "stdout",
     "output_type": "stream",
     "text": [
      "3,4,5\n",
      "6,8,10\n"
     ]
    }
   ],
   "source": [
    "x = Vector(3,4,5)\n",
    "print(x)\n",
    "y = x+x\n",
    "print(y)"
   ]
  },
  {
   "cell_type": "code",
   "execution_count": 12,
   "metadata": {
    "collapsed": false
   },
   "outputs": [
    {
     "name": "stdout",
     "output_type": "stream",
     "text": [
      "14.142135623730951\n",
      "6,8,10\n"
     ]
    }
   ],
   "source": [
    "print(y.norm())\n",
    "print(y)"
   ]
  },
  {
   "cell_type": "code",
   "execution_count": 13,
   "metadata": {
    "collapsed": false,
    "scrolled": true
   },
   "outputs": [
    {
     "name": "stdout",
     "output_type": "stream",
     "text": [
      "0.9999999999999999\n",
      "0.4242640687119285,0.565685424949238,0.7071067811865475\n"
     ]
    }
   ],
   "source": [
    "y.normalize() # Note that you may not get exactly one, but close to one. Some numerical error.\n",
    "print(y.norm())\n",
    "print(y)\n"
   ]
  },
  {
   "cell_type": "markdown",
   "metadata": {},
   "source": [
    "Here for fun, I created a Math 9 class that will keep track of the students.\n",
    "Note: This has only the basics!"
   ]
  },
  {
   "cell_type": "code",
   "execution_count": 25,
   "metadata": {
    "collapsed": false,
    "scrolled": true
   },
   "outputs": [],
   "source": [
    "class Math9():\n",
    "    def __init__(self):\n",
    "        self.roster = []\n",
    "        self.count = 0\n",
    "        \n",
    "    def __repr__(self):\n",
    "        return \"Names are restricted, but you have \" + str(self.count) + \" students in the list.\"   \n",
    "\n",
    "    def __add__(self, w):\n",
    "        self.roster.extend(w.roster)\n",
    "        self.count = self.count + w.count\n",
    "        \n",
    "        w.roster = []\n",
    "        w.count = 0\n",
    "        \n",
    "        return self.roster.extend(w.roster)\n",
    "        \n",
    "\n",
    "    def addstudent(self,name):\n",
    "        self.roster.append(name)\n",
    "        self.count += 1\n",
    "        \n",
    "    def removestudent(self,name):\n",
    "        self.roster.remove(name)        \n",
    "        self.count -= 1"
   ]
  },
  {
   "cell_type": "code",
   "execution_count": 26,
   "metadata": {
    "collapsed": true
   },
   "outputs": [],
   "source": [
    "W2017 = Math9()\n",
    "W2017WaitListed = Math9()"
   ]
  },
  {
   "cell_type": "code",
   "execution_count": 27,
   "metadata": {
    "collapsed": false
   },
   "outputs": [
    {
     "name": "stdout",
     "output_type": "stream",
     "text": [
      "[]\n",
      "0\n"
     ]
    }
   ],
   "source": [
    "print(W2017.roster)\n",
    "print(W2017.count)"
   ]
  },
  {
   "cell_type": "code",
   "execution_count": 28,
   "metadata": {
    "collapsed": false,
    "scrolled": true
   },
   "outputs": [],
   "source": [
    "W2017.addstudent(\"EJP\")"
   ]
  },
  {
   "cell_type": "code",
   "execution_count": 29,
   "metadata": {
    "collapsed": false
   },
   "outputs": [
    {
     "name": "stdout",
     "output_type": "stream",
     "text": [
      "['EJP']\n",
      "1\n"
     ]
    }
   ],
   "source": [
    "print(W2017.roster)\n",
    "print(W2017.count)"
   ]
  },
  {
   "cell_type": "code",
   "execution_count": 30,
   "metadata": {
    "collapsed": false
   },
   "outputs": [
    {
     "name": "stdout",
     "output_type": "stream",
     "text": [
      "['EJP', 'Timmy', 'Karen', 'Peter the Anteater']\n",
      "4\n"
     ]
    }
   ],
   "source": [
    "W2017.addstudent(\"Timmy\")\n",
    "W2017.addstudent(\"Karen\")\n",
    "W2017.addstudent(\"Peter the Anteater\")\n",
    "print(W2017.roster)\n",
    "print(W2017.count)\n",
    "\n"
   ]
  },
  {
   "cell_type": "code",
   "execution_count": 31,
   "metadata": {
    "collapsed": false
   },
   "outputs": [
    {
     "name": "stdout",
     "output_type": "stream",
     "text": [
      "Names are restricted, but you have 4 students in the list.\n"
     ]
    }
   ],
   "source": [
    "print(W2017)"
   ]
  },
  {
   "cell_type": "code",
   "execution_count": 32,
   "metadata": {
    "collapsed": false
   },
   "outputs": [
    {
     "name": "stdout",
     "output_type": "stream",
     "text": [
      "['EJP', 'Karen', 'Peter the Anteater']\n",
      "3\n"
     ]
    }
   ],
   "source": [
    "W2017.removestudent(\"Timmy\")\n",
    "print(W2017.roster)\n",
    "print(W2017.count)"
   ]
  },
  {
   "cell_type": "code",
   "execution_count": 33,
   "metadata": {
    "collapsed": false
   },
   "outputs": [
    {
     "name": "stdout",
     "output_type": "stream",
     "text": [
      "['Pikachu']\n",
      "1\n"
     ]
    }
   ],
   "source": [
    "W2017WaitListed.addstudent(\"Pikachu\")\n",
    "print(W2017WaitListed.roster)\n",
    "print(W2017WaitListed.count)"
   ]
  },
  {
   "cell_type": "code",
   "execution_count": 34,
   "metadata": {
    "collapsed": false
   },
   "outputs": [
    {
     "name": "stdout",
     "output_type": "stream",
     "text": [
      "Names are restricted, but you have 4 students in the list.\n",
      "Names are restricted, but you have 0 students in the list.\n"
     ]
    }
   ],
   "source": [
    "W2017 + W2017WaitListed\n",
    "print(W2017)\n",
    "print(W2017WaitListed)"
   ]
  },
  {
   "cell_type": "code",
   "execution_count": 35,
   "metadata": {
    "collapsed": false
   },
   "outputs": [
    {
     "name": "stdout",
     "output_type": "stream",
     "text": [
      "['EJP', 'Karen', 'Peter the Anteater', 'Pikachu']\n",
      "[]\n"
     ]
    }
   ],
   "source": [
    "print(W2017.roster)\n",
    "print(W2017WaitListed.roster)"
   ]
  },
  {
   "cell_type": "markdown",
   "metadata": {},
   "source": [
    "### For the following exercises...be creative and make a shopping list!"
   ]
  },
  {
   "cell_type": "markdown",
   "metadata": {
    "collapsed": false
   },
   "source": [
    "### Exercise 1:\n",
    "Make a class called `item`. Write the `__init__(self,item_name,item_price)`, `__repr__(self)`: methods for the class. This class should keep track of the items name and price value of item."
   ]
  },
  {
   "cell_type": "code",
   "execution_count": 50,
   "metadata": {
    "collapsed": false,
    "scrolled": true
   },
   "outputs": [],
   "source": [
    "# Complete Exercise 1 here.\n",
    "class item():\n",
    "    def __init__(self,item_name,item_price):\n",
    "        self.name = item_name\n",
    "        self.price = item_price\n",
    "        \n",
    "    def __repr__(self):\n",
    "        return \"This is a(n) \" + self.name + \" and costs $\" + str(self.price)+\".\"    \n"
   ]
  },
  {
   "cell_type": "code",
   "execution_count": 53,
   "metadata": {
    "collapsed": false
   },
   "outputs": [
    {
     "name": "stdout",
     "output_type": "stream",
     "text": [
      "This is a(n) onion and costs $0.99.\n",
      "onion\n",
      "0.99\n"
     ]
    }
   ],
   "source": [
    "itemOne = item(\"onion\",0.99)\n",
    "print(itemOne)\n",
    "print(itemOne.name)\n",
    "print(itemOne.price)"
   ]
  },
  {
   "cell_type": "code",
   "execution_count": 55,
   "metadata": {
    "collapsed": false
   },
   "outputs": [
    {
     "name": "stdout",
     "output_type": "stream",
     "text": [
      "This is a(n) mutated space onion and costs $100.\n",
      "mutated space onion\n",
      "100\n"
     ]
    }
   ],
   "source": [
    "itemTwo = item(\"mutated space onion\",100)\n",
    "print(itemTwo)\n",
    "print(itemTwo.name)\n",
    "print(itemTwo.price)"
   ]
  },
  {
   "cell_type": "code",
   "execution_count": 57,
   "metadata": {
    "collapsed": false
   },
   "outputs": [
    {
     "name": "stdout",
     "output_type": "stream",
     "text": [
      "[This is a(n) onion and costs $0.99., This is a(n) mutated space onion and costs $100.]\n"
     ]
    }
   ],
   "source": [
    "mylist = []\n",
    "mylist.append(itemOne)\n",
    "mylist.append(itemTwo)\n",
    "print(mylist) # It prints out the representation of the corresponding item object."
   ]
  },
  {
   "cell_type": "markdown",
   "metadata": {},
   "source": [
    "### Exercise 2:\n",
    "Make a class called `myGroceryList` that keeps track of your grocey list and money using the 'item' class created in exercise 1. Write the `__init__(self,current_money)`, `__repr__(self)` and `__add__(self, another_List):` methods for the class. To shop you probably need money...so you should be keeping track of your money. Create other methods such as add_money() in case you withdraw cash from an ATM. You should add various methods that will help you shop effectively."
   ]
  },
  {
   "cell_type": "code",
   "execution_count": 17,
   "metadata": {
    "collapsed": false
   },
   "outputs": [],
   "source": [
    "# Complete Exercise 2 here.\n",
    "class myGroceryList():\n",
    "    def __init__(self,current_money,shop_name):\n",
    "        self.spendable = current_money\n",
    "        self.name = shop_name\n",
    "    def __repr__(self):\n",
    "        return \"I can only spend $\"+str(self.spendable)+\" at \"+self.name+\".\"\n",
    "    def __add__(self,other_shop):\n",
    "        return myGroceryList(self.spendable+other_shop.spendable,self.name +\" and \"+ other_shop.name)"
   ]
  },
  {
   "cell_type": "code",
   "execution_count": 18,
   "metadata": {
    "collapsed": false
   },
   "outputs": [],
   "source": [
    "ShopOne = myGroceryList(15,\"FakeShop2Go\")\n",
    "ShopTwo = myGroceryList(30,\"RealShop2Go\")"
   ]
  },
  {
   "cell_type": "code",
   "execution_count": 19,
   "metadata": {
    "collapsed": false
   },
   "outputs": [
    {
     "name": "stdout",
     "output_type": "stream",
     "text": [
      "15\n",
      "FakeShop2Go\n",
      "I can only spend $15 at FakeShop2Go.\n"
     ]
    }
   ],
   "source": [
    "print(ShopOne.spendable)\n",
    "print(ShopOne.name)\n",
    "print(ShopOne)"
   ]
  },
  {
   "cell_type": "code",
   "execution_count": 20,
   "metadata": {
    "collapsed": false
   },
   "outputs": [
    {
     "name": "stdout",
     "output_type": "stream",
     "text": [
      "30\n",
      "RealShop2Go\n",
      "I can only spend $30 at RealShop2Go.\n"
     ]
    }
   ],
   "source": [
    "print(ShopTwo.spendable)\n",
    "print(ShopTwo.name)\n",
    "print(ShopTwo)"
   ]
  },
  {
   "cell_type": "code",
   "execution_count": 21,
   "metadata": {
    "collapsed": false
   },
   "outputs": [],
   "source": [
    "mergedList = ShopOne+ShopTwo"
   ]
  },
  {
   "cell_type": "code",
   "execution_count": 23,
   "metadata": {
    "collapsed": false
   },
   "outputs": [
    {
     "name": "stdout",
     "output_type": "stream",
     "text": [
      "I can only spend $45 at FakeShop2Go and RealShop2Go.\n"
     ]
    }
   ],
   "source": [
    "print(mergedList)"
   ]
  }
 ],
 "metadata": {
  "anaconda-cloud": {},
  "kernelspec": {
   "display_name": "Python [conda root]",
   "language": "python",
   "name": "conda-root-py"
  },
  "language_info": {
   "codemirror_mode": {
    "name": "ipython",
    "version": 3
   },
   "file_extension": ".py",
   "mimetype": "text/x-python",
   "name": "python",
   "nbconvert_exporter": "python",
   "pygments_lexer": "ipython3",
   "version": "3.5.2"
  }
 },
 "nbformat": 4,
 "nbformat_minor": 2
}
