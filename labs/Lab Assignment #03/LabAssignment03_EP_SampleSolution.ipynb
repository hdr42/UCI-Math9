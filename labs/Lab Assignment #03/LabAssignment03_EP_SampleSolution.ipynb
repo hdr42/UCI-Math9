{
 "cells": [
  {
   "cell_type": "markdown",
   "metadata": {},
   "source": [
    "## Lab Assignment 3\n",
    "\n",
    "Please fill this notebook with your code and explainations, run everything, save the notebook and upload to canvas.\n",
    "\n",
    "This lab assignment contains three problems. Read each problem carefully and answer them the best you can.\n",
    "\n",
    "Be sure to provide an explaination to your work using a comment."
   ]
  },
  {
   "cell_type": "markdown",
   "metadata": {},
   "source": [
    "Consider the following operation on an arbitrary positive integer:\n",
    "\n",
    "    If the number is even, divide it by two.\n",
    "    If the number is odd, triple it and add one.\n",
    "    \n",
    "That is, $$ f(n) =\n",
    "  \\begin{cases}\n",
    "    \\frac{n}{2}       & \\quad \\text{if } n \\text{ is even}\\\\\n",
    "    3n+ 1 & \\quad \\text{if } n \\text{ is odd}\\\\\n",
    "  \\end{cases}$$\n",
    "    \n",
    "The Collatz conjecture (3n+1 conjecture) is:\n",
    "\n",
    "Define the following sequence $a_{i}$ for any given positive integer n: \n",
    "$$a_{i}={\\begin{cases}n&{\\text{for }}i=0\\\\f(a_{i-1})&{\\text{for }}i>0\\end{cases}}$$\n",
    "Then, $a_{i} = 1$ for some $i\\geq0$."
   ]
  },
  {
   "cell_type": "markdown",
   "metadata": {},
   "source": [
    "### Problem 1\n",
    "Create the function f(n) given above."
   ]
  },
  {
   "cell_type": "code",
   "execution_count": 1,
   "metadata": {
    "collapsed": true
   },
   "outputs": [],
   "source": [
    "# For Problem 1.\n",
    "def f(n):\n",
    "    return n/2 if n%2==0 else 3*n+1"
   ]
  },
  {
   "cell_type": "markdown",
   "metadata": {},
   "source": [
    "### Problem 2\n",
    "\n",
    "Using f(n) and while loops, demonstrate the conjecture holds for every n between 1 and 100.\n",
    "\n",
    "Also determine how many number of steps it took to reach the number 1 from n."
   ]
  },
  {
   "cell_type": "code",
   "execution_count": 2,
   "metadata": {
    "collapsed": false
   },
   "outputs": [
    {
     "name": "stdout",
     "output_type": "stream",
     "text": [
      "The conjecture holds for n =  1  and it takes  0  steps to reach the number 1 from  1 .\n",
      "The conjecture holds for n =  2  and it takes  1  steps to reach the number 1 from  2 .\n",
      "The conjecture holds for n =  3  and it takes  7  steps to reach the number 1 from  3 .\n",
      "The conjecture holds for n =  4  and it takes  2  steps to reach the number 1 from  4 .\n",
      "The conjecture holds for n =  5  and it takes  5  steps to reach the number 1 from  5 .\n",
      "The conjecture holds for n =  6  and it takes  8  steps to reach the number 1 from  6 .\n",
      "The conjecture holds for n =  7  and it takes  16  steps to reach the number 1 from  7 .\n",
      "The conjecture holds for n =  8  and it takes  3  steps to reach the number 1 from  8 .\n",
      "The conjecture holds for n =  9  and it takes  19  steps to reach the number 1 from  9 .\n",
      "The conjecture holds for n =  10  and it takes  6  steps to reach the number 1 from  10 .\n",
      "The conjecture holds for n =  11  and it takes  14  steps to reach the number 1 from  11 .\n",
      "The conjecture holds for n =  12  and it takes  9  steps to reach the number 1 from  12 .\n",
      "The conjecture holds for n =  13  and it takes  9  steps to reach the number 1 from  13 .\n",
      "The conjecture holds for n =  14  and it takes  17  steps to reach the number 1 from  14 .\n",
      "The conjecture holds for n =  15  and it takes  17  steps to reach the number 1 from  15 .\n",
      "The conjecture holds for n =  16  and it takes  4  steps to reach the number 1 from  16 .\n",
      "The conjecture holds for n =  17  and it takes  12  steps to reach the number 1 from  17 .\n",
      "The conjecture holds for n =  18  and it takes  20  steps to reach the number 1 from  18 .\n",
      "The conjecture holds for n =  19  and it takes  20  steps to reach the number 1 from  19 .\n",
      "The conjecture holds for n =  20  and it takes  7  steps to reach the number 1 from  20 .\n",
      "The conjecture holds for n =  21  and it takes  7  steps to reach the number 1 from  21 .\n",
      "The conjecture holds for n =  22  and it takes  15  steps to reach the number 1 from  22 .\n",
      "The conjecture holds for n =  23  and it takes  15  steps to reach the number 1 from  23 .\n",
      "The conjecture holds for n =  24  and it takes  10  steps to reach the number 1 from  24 .\n",
      "The conjecture holds for n =  25  and it takes  23  steps to reach the number 1 from  25 .\n",
      "The conjecture holds for n =  26  and it takes  10  steps to reach the number 1 from  26 .\n",
      "The conjecture holds for n =  27  and it takes  111  steps to reach the number 1 from  27 .\n",
      "The conjecture holds for n =  28  and it takes  18  steps to reach the number 1 from  28 .\n",
      "The conjecture holds for n =  29  and it takes  18  steps to reach the number 1 from  29 .\n",
      "The conjecture holds for n =  30  and it takes  18  steps to reach the number 1 from  30 .\n",
      "The conjecture holds for n =  31  and it takes  106  steps to reach the number 1 from  31 .\n",
      "The conjecture holds for n =  32  and it takes  5  steps to reach the number 1 from  32 .\n",
      "The conjecture holds for n =  33  and it takes  26  steps to reach the number 1 from  33 .\n",
      "The conjecture holds for n =  34  and it takes  13  steps to reach the number 1 from  34 .\n",
      "The conjecture holds for n =  35  and it takes  13  steps to reach the number 1 from  35 .\n",
      "The conjecture holds for n =  36  and it takes  21  steps to reach the number 1 from  36 .\n",
      "The conjecture holds for n =  37  and it takes  21  steps to reach the number 1 from  37 .\n",
      "The conjecture holds for n =  38  and it takes  21  steps to reach the number 1 from  38 .\n",
      "The conjecture holds for n =  39  and it takes  34  steps to reach the number 1 from  39 .\n",
      "The conjecture holds for n =  40  and it takes  8  steps to reach the number 1 from  40 .\n",
      "The conjecture holds for n =  41  and it takes  109  steps to reach the number 1 from  41 .\n",
      "The conjecture holds for n =  42  and it takes  8  steps to reach the number 1 from  42 .\n",
      "The conjecture holds for n =  43  and it takes  29  steps to reach the number 1 from  43 .\n",
      "The conjecture holds for n =  44  and it takes  16  steps to reach the number 1 from  44 .\n",
      "The conjecture holds for n =  45  and it takes  16  steps to reach the number 1 from  45 .\n",
      "The conjecture holds for n =  46  and it takes  16  steps to reach the number 1 from  46 .\n",
      "The conjecture holds for n =  47  and it takes  104  steps to reach the number 1 from  47 .\n",
      "The conjecture holds for n =  48  and it takes  11  steps to reach the number 1 from  48 .\n",
      "The conjecture holds for n =  49  and it takes  24  steps to reach the number 1 from  49 .\n",
      "The conjecture holds for n =  50  and it takes  24  steps to reach the number 1 from  50 .\n",
      "The conjecture holds for n =  51  and it takes  24  steps to reach the number 1 from  51 .\n",
      "The conjecture holds for n =  52  and it takes  11  steps to reach the number 1 from  52 .\n",
      "The conjecture holds for n =  53  and it takes  11  steps to reach the number 1 from  53 .\n",
      "The conjecture holds for n =  54  and it takes  112  steps to reach the number 1 from  54 .\n",
      "The conjecture holds for n =  55  and it takes  112  steps to reach the number 1 from  55 .\n",
      "The conjecture holds for n =  56  and it takes  19  steps to reach the number 1 from  56 .\n",
      "The conjecture holds for n =  57  and it takes  32  steps to reach the number 1 from  57 .\n",
      "The conjecture holds for n =  58  and it takes  19  steps to reach the number 1 from  58 .\n",
      "The conjecture holds for n =  59  and it takes  32  steps to reach the number 1 from  59 .\n",
      "The conjecture holds for n =  60  and it takes  19  steps to reach the number 1 from  60 .\n",
      "The conjecture holds for n =  61  and it takes  19  steps to reach the number 1 from  61 .\n",
      "The conjecture holds for n =  62  and it takes  107  steps to reach the number 1 from  62 .\n",
      "The conjecture holds for n =  63  and it takes  107  steps to reach the number 1 from  63 .\n",
      "The conjecture holds for n =  64  and it takes  6  steps to reach the number 1 from  64 .\n",
      "The conjecture holds for n =  65  and it takes  27  steps to reach the number 1 from  65 .\n",
      "The conjecture holds for n =  66  and it takes  27  steps to reach the number 1 from  66 .\n",
      "The conjecture holds for n =  67  and it takes  27  steps to reach the number 1 from  67 .\n",
      "The conjecture holds for n =  68  and it takes  14  steps to reach the number 1 from  68 .\n",
      "The conjecture holds for n =  69  and it takes  14  steps to reach the number 1 from  69 .\n",
      "The conjecture holds for n =  70  and it takes  14  steps to reach the number 1 from  70 .\n",
      "The conjecture holds for n =  71  and it takes  102  steps to reach the number 1 from  71 .\n",
      "The conjecture holds for n =  72  and it takes  22  steps to reach the number 1 from  72 .\n",
      "The conjecture holds for n =  73  and it takes  115  steps to reach the number 1 from  73 .\n",
      "The conjecture holds for n =  74  and it takes  22  steps to reach the number 1 from  74 .\n",
      "The conjecture holds for n =  75  and it takes  14  steps to reach the number 1 from  75 .\n",
      "The conjecture holds for n =  76  and it takes  22  steps to reach the number 1 from  76 .\n",
      "The conjecture holds for n =  77  and it takes  22  steps to reach the number 1 from  77 .\n",
      "The conjecture holds for n =  78  and it takes  35  steps to reach the number 1 from  78 .\n",
      "The conjecture holds for n =  79  and it takes  35  steps to reach the number 1 from  79 .\n",
      "The conjecture holds for n =  80  and it takes  9  steps to reach the number 1 from  80 .\n",
      "The conjecture holds for n =  81  and it takes  22  steps to reach the number 1 from  81 .\n",
      "The conjecture holds for n =  82  and it takes  110  steps to reach the number 1 from  82 .\n",
      "The conjecture holds for n =  83  and it takes  110  steps to reach the number 1 from  83 .\n",
      "The conjecture holds for n =  84  and it takes  9  steps to reach the number 1 from  84 .\n",
      "The conjecture holds for n =  85  and it takes  9  steps to reach the number 1 from  85 .\n",
      "The conjecture holds for n =  86  and it takes  30  steps to reach the number 1 from  86 .\n",
      "The conjecture holds for n =  87  and it takes  30  steps to reach the number 1 from  87 .\n",
      "The conjecture holds for n =  88  and it takes  17  steps to reach the number 1 from  88 .\n",
      "The conjecture holds for n =  89  and it takes  30  steps to reach the number 1 from  89 .\n",
      "The conjecture holds for n =  90  and it takes  17  steps to reach the number 1 from  90 .\n",
      "The conjecture holds for n =  91  and it takes  92  steps to reach the number 1 from  91 .\n",
      "The conjecture holds for n =  92  and it takes  17  steps to reach the number 1 from  92 .\n",
      "The conjecture holds for n =  93  and it takes  17  steps to reach the number 1 from  93 .\n",
      "The conjecture holds for n =  94  and it takes  105  steps to reach the number 1 from  94 .\n",
      "The conjecture holds for n =  95  and it takes  105  steps to reach the number 1 from  95 .\n",
      "The conjecture holds for n =  96  and it takes  12  steps to reach the number 1 from  96 .\n",
      "The conjecture holds for n =  97  and it takes  118  steps to reach the number 1 from  97 .\n",
      "The conjecture holds for n =  98  and it takes  25  steps to reach the number 1 from  98 .\n",
      "The conjecture holds for n =  99  and it takes  25  steps to reach the number 1 from  99 .\n",
      "The conjecture holds for n =  100  and it takes  25  steps to reach the number 1 from  100 .\n"
     ]
    }
   ],
   "source": [
    "# For Problem 2.\n",
    "j = 1\n",
    "while j <= 100:\n",
    "    k = j\n",
    "    steps = 0\n",
    "    while k>1:\n",
    "        k = f(k)        \n",
    "        steps +=1\n",
    "    print(\"The conjecture holds for n = \",j,\" and it takes \",steps, \" steps to reach the number 1 from \",j,\".\")            \n",
    "    j+=1"
   ]
  },
  {
   "cell_type": "markdown",
   "metadata": {},
   "source": [
    "### Problem 3\n",
    "\n",
    "Make a function `collist(n)`, that returns a list of how many steps it takes to reach the number 1 from m, for m between 1 and n. "
   ]
  },
  {
   "cell_type": "code",
   "execution_count": 3,
   "metadata": {
    "collapsed": false
   },
   "outputs": [],
   "source": [
    "# For Problem 3.\n",
    "\n",
    "# See the comments below for those who had trouble forming lists."
   ]
  },
  {
   "cell_type": "code",
   "execution_count": 4,
   "metadata": {
    "collapsed": false
   },
   "outputs": [
    {
     "ename": "NameError",
     "evalue": "name 'emptylist0' is not defined",
     "output_type": "error",
     "traceback": [
      "\u001b[0;31m---------------------------------------------------------------------------\u001b[0m",
      "\u001b[0;31mNameError\u001b[0m                                 Traceback (most recent call last)",
      "\u001b[0;32m<ipython-input-4-c599ed76a161>\u001b[0m in \u001b[0;36m<module>\u001b[0;34m()\u001b[0m\n\u001b[0;32m----> 1\u001b[0;31m \u001b[0memptylist0\u001b[0m\u001b[0;34m.\u001b[0m\u001b[0mappend\u001b[0m\u001b[0;34m(\u001b[0m\u001b[0;36m3\u001b[0m\u001b[0;34m)\u001b[0m\u001b[0;34m\u001b[0m\u001b[0m\n\u001b[0m\u001b[1;32m      2\u001b[0m \u001b[0;31m# The problem here is that we don't have a list called emptylist0 already existing.\u001b[0m\u001b[0;34m\u001b[0m\u001b[0;34m\u001b[0m\u001b[0m\n\u001b[1;32m      3\u001b[0m \u001b[0;31m# We must first create a variable of type list.\u001b[0m\u001b[0;34m\u001b[0m\u001b[0;34m\u001b[0m\u001b[0m\n\u001b[1;32m      4\u001b[0m \u001b[0;31m# We can't append anything to something that doesn't exist.\u001b[0m\u001b[0;34m\u001b[0m\u001b[0;34m\u001b[0m\u001b[0m\n",
      "\u001b[0;31mNameError\u001b[0m: name 'emptylist0' is not defined"
     ]
    }
   ],
   "source": [
    "emptylist0.append(3)\n",
    "# The problem here is that we don't have a list called emptylist0 already existing.\n",
    "# We must first create a variable of type list.\n",
    "# We can't append anything to something that doesn't exist."
   ]
  },
  {
   "cell_type": "code",
   "execution_count": 5,
   "metadata": {
    "collapsed": false
   },
   "outputs": [
    {
     "ename": "AttributeError",
     "evalue": "'int' object has no attribute 'append'",
     "output_type": "error",
     "traceback": [
      "\u001b[0;31m---------------------------------------------------------------------------\u001b[0m",
      "\u001b[0;31mAttributeError\u001b[0m                            Traceback (most recent call last)",
      "\u001b[0;32m<ipython-input-5-0408141f9c01>\u001b[0m in \u001b[0;36m<module>\u001b[0;34m()\u001b[0m\n\u001b[1;32m      1\u001b[0m \u001b[0mmyFakeList\u001b[0m \u001b[0;34m=\u001b[0m \u001b[0;36m1\u001b[0m\u001b[0;34m\u001b[0m\u001b[0m\n\u001b[0;32m----> 2\u001b[0;31m \u001b[0mmyFakeList\u001b[0m\u001b[0;34m.\u001b[0m\u001b[0mappend\u001b[0m\u001b[0;34m(\u001b[0m\u001b[0;36m4\u001b[0m\u001b[0;34m)\u001b[0m\u001b[0;34m\u001b[0m\u001b[0m\n\u001b[0m\u001b[1;32m      3\u001b[0m \u001b[0;31m# The problem here is that \"myFakeList\" is not a list. It's a variable of some type of number (not a list type).\u001b[0m\u001b[0;34m\u001b[0m\u001b[0;34m\u001b[0m\u001b[0m\n\u001b[1;32m      4\u001b[0m \u001b[0;31m# As above, we must first create a variable of type list.\u001b[0m\u001b[0;34m\u001b[0m\u001b[0;34m\u001b[0m\u001b[0m\n\u001b[1;32m      5\u001b[0m \u001b[0;31m# Numbers don't have an ability to \"append\" something.\u001b[0m\u001b[0;34m\u001b[0m\u001b[0;34m\u001b[0m\u001b[0m\n",
      "\u001b[0;31mAttributeError\u001b[0m: 'int' object has no attribute 'append'"
     ]
    }
   ],
   "source": [
    "myFakeList = 1\n",
    "myFakeList.append(4)\n",
    "# The problem here is that \"myFakeList\" is not a list. It's a variable of some type of number (not a list type).\n",
    "# As above, we must first create a variable of type list.\n",
    "# Numbers don't have an ability to \"append\" something."
   ]
  },
  {
   "cell_type": "code",
   "execution_count": 6,
   "metadata": {
    "collapsed": false
   },
   "outputs": [
    {
     "name": "stdout",
     "output_type": "stream",
     "text": [
      "[3]\n",
      "[3, 16]\n"
     ]
    }
   ],
   "source": [
    "# Method 1:\n",
    "list1 = list();    # Create an empty list method 1.\n",
    "list1.append(3)    # Appends the number 3 to the empty list.\n",
    "print(list1)\n",
    "list1.append(16)    # Appends the number 3 to the empty list.\n",
    "print(list1)   "
   ]
  },
  {
   "cell_type": "code",
   "execution_count": 7,
   "metadata": {
    "collapsed": false
   },
   "outputs": [
    {
     "name": "stdout",
     "output_type": "stream",
     "text": [
      "[15]\n",
      "[15, 93]\n"
     ]
    }
   ],
   "source": [
    "# Method 2:\n",
    "list2 = [];    # Create an empty list method 1.\n",
    "list2.append(15)    # Appends the number 3 to the empty list.\n",
    "print(list2)\n",
    "list2.append(93)    # Appends the number 3 to the empty list.\n",
    "print(list2)"
   ]
  },
  {
   "cell_type": "code",
   "execution_count": 8,
   "metadata": {
    "collapsed": true
   },
   "outputs": [],
   "source": [
    "# The following solutions use Method 2 to first form empty lists."
   ]
  },
  {
   "cell_type": "code",
   "execution_count": 9,
   "metadata": {
    "collapsed": true
   },
   "outputs": [],
   "source": [
    "#Sample sol 1: # Understanding how to shift our numbers.\n",
    "def collist(n):\n",
    "    mylist=[]\n",
    "    for m in range(n):\n",
    "        k=m+1 # range(n) is the list of numbers [0,1,2,..., n-1]. Add one to go through [1,2,...,n].\n",
    "        steps = 0\n",
    "        while k>1:\n",
    "            k = f(k)        \n",
    "            steps +=1\n",
    "        mylist.append(steps)\n",
    "    return mylist        "
   ]
  },
  {
   "cell_type": "code",
   "execution_count": 10,
   "metadata": {
    "collapsed": false
   },
   "outputs": [],
   "source": [
    "#Sample sol 2: Changing how we use range in the for loop\n",
    "def collist(n):\n",
    "    mylist=[]\n",
    "    for m in range(1,n+1):\n",
    "        k=m # range(1,n) is the list of numbers [1,2,..., n-1]. Change n to n+1 to go through [1,2,...,n].\n",
    "        steps = 0\n",
    "        while k>1:\n",
    "            k = f(k)        \n",
    "            steps +=1\n",
    "        mylist.append(steps)\n",
    "    return mylist   "
   ]
  },
  {
   "cell_type": "code",
   "execution_count": 11,
   "metadata": {
    "collapsed": false
   },
   "outputs": [
    {
     "data": {
      "text/plain": [
       "[0, 1, 7, 2, 5, 8, 16, 3, 19, 6]"
      ]
     },
     "execution_count": 11,
     "metadata": {},
     "output_type": "execute_result"
    }
   ],
   "source": [
    "collist(10)"
   ]
  },
  {
   "cell_type": "code",
   "execution_count": 12,
   "metadata": {
    "collapsed": false
   },
   "outputs": [
    {
     "data": {
      "text/plain": [
       "[0, 1, 7, 2, 5, 8, 16, 3, 19, 6, 14, 9, 9, 17, 17, 4, 12, 20, 20, 7]"
      ]
     },
     "execution_count": 12,
     "metadata": {},
     "output_type": "execute_result"
    }
   ],
   "source": [
    "collist(20)"
   ]
  },
  {
   "cell_type": "markdown",
   "metadata": {},
   "source": [
    "Optional: can you do this efficiently? i.e. your code should store, in a list, the number of steps it took for each number that it has seen before, so that next time it sees the same number, it won't have to calculate it again.  "
   ]
  },
  {
   "cell_type": "code",
   "execution_count": 13,
   "metadata": {
    "collapsed": true
   },
   "outputs": [],
   "source": [
    "# I may consider writing a sample solution for this, but you should try to figure this one out for now."
   ]
  }
 ],
 "metadata": {
  "anaconda-cloud": {},
  "kernelspec": {
   "display_name": "Python [default]",
   "language": "python",
   "name": "python3"
  },
  "language_info": {
   "codemirror_mode": {
    "name": "ipython",
    "version": 3
   },
   "file_extension": ".py",
   "mimetype": "text/x-python",
   "name": "python",
   "nbconvert_exporter": "python",
   "pygments_lexer": "ipython3",
   "version": "3.5.2"
  }
 },
 "nbformat": 4,
 "nbformat_minor": 2
}
