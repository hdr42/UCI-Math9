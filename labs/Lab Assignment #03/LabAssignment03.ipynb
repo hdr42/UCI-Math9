{
 "cells": [
  {
   "cell_type": "markdown",
   "metadata": {},
   "source": [
    "## Lab Assignment 3\n",
    "\n",
    "Please fill this notebook with your code and explainations, run everything, save the notebook and upload to canvas.\n",
    "\n",
    "This lab assignment contains three problems. Read each problem carefully and answer them the best you can.\n",
    "\n",
    "Be sure to provide an explaination to your work using a comment."
   ]
  },
  {
   "cell_type": "markdown",
   "metadata": {},
   "source": [
    "Consider the following operation on an arbitrary positive integer:\n",
    "\n",
    "    If the number is even, divide it by two.\n",
    "    If the number is odd, triple it and add one.\n",
    "    \n",
    "That is, $$ f(n) =\n",
    "  \\begin{cases}\n",
    "    \\frac{n}{2}       & \\quad \\text{if } n \\text{ is even}\\\\\n",
    "    3n+ 1 & \\quad \\text{if } n \\text{ is odd}\\\\\n",
    "  \\end{cases}$$\n",
    "    \n",
    "The Collatz conjecture (3n+1 conjecture) is:\n",
    "\n",
    "Define the following sequence $a_{i}$ for any given positive integer n: \n",
    "$$a_{i}={\\begin{cases}n&{\\text{for }}i=0\\\\f(a_{i-1})&{\\text{for }}i>0\\end{cases}}$$\n",
    "Then, $a_{i} = 1$ for some $i\\geq0$."
   ]
  },
  {
   "cell_type": "markdown",
   "metadata": {},
   "source": [
    "### Problem 1\n",
    "Create the function f(n) given above."
   ]
  },
  {
   "cell_type": "code",
   "execution_count": null,
   "metadata": {
    "collapsed": true
   },
   "outputs": [],
   "source": [
    "# For Problem 1.\n"
   ]
  },
  {
   "cell_type": "markdown",
   "metadata": {},
   "source": [
    "### Problem 2\n",
    "\n",
    "Using f(n) and while loops, demonstrate the conjecture holds for every n between 1 and 100.\n",
    "\n",
    "Also determine how many number of steps it took to reach the number 1 from n."
   ]
  },
  {
   "cell_type": "code",
   "execution_count": null,
   "metadata": {
    "collapsed": false
   },
   "outputs": [],
   "source": [
    "# For Problem 2.\n"
   ]
  },
  {
   "cell_type": "markdown",
   "metadata": {},
   "source": [
    "### Problem 3\n",
    "\n",
    "Make a function `collist(n)`, that returns a list of how many steps it takes to reach the number 1 from m, for m between 1 and n."
   ]
  },
  {
   "cell_type": "code",
   "execution_count": null,
   "metadata": {
    "collapsed": false
   },
   "outputs": [],
   "source": [
    "# For Problem 3.\n",
    " "
   ]
  },
  {
   "cell_type": "markdown",
   "metadata": {},
   "source": [
    "Optional: can you do this efficiently? i.e. your code should store, in a list, the number of steps it took for each number that it has seen before, so that next time it sees the same number, it won't have to calculate it again.  "
   ]
  }
 ],
 "metadata": {
  "anaconda-cloud": {},
  "kernelspec": {
   "display_name": "Python [default]",
   "language": "python",
   "name": "python3"
  },
  "language_info": {
   "codemirror_mode": {
    "name": "ipython",
    "version": 3
   },
   "file_extension": ".py",
   "mimetype": "text/x-python",
   "name": "python",
   "nbconvert_exporter": "python",
   "pygments_lexer": "ipython3",
   "version": "3.5.2"
  }
 },
 "nbformat": 4,
 "nbformat_minor": 2
}
