{
 "cells": [
  {
   "cell_type": "markdown",
   "metadata": {},
   "source": [
    "## Lab Assignment 9\n",
    "\n",
    "Please fill this notebook with your code and explainations, run everything, save the notebook and upload to canvas.\n",
    "\n",
    "This lab assignment contains ***`TWO`*** problems. Read each problem carefully and answer them the best you can.\n",
    "\n",
    "Be sure to provide an explaination to your work using a comment."
   ]
  },
  {
   "cell_type": "markdown",
   "metadata": {},
   "source": [
    "#### Gradient Descent\n",
    "\n",
    "This code is for Gradient Descent in two variables (taken from Lecture 22).\n",
    "\n",
    "Goal was to find two numbers $x$ and $y$ that will minimize the function $f(x,y)$.\n",
    "\n",
    "The code below is done for $f(x,y) = x^2 + 4y^2 + 4x + y + 6$."
   ]
  },
  {
   "cell_type": "code",
   "execution_count": 1,
   "metadata": {
    "collapsed": false
   },
   "outputs": [
    {
     "name": "stdout",
     "output_type": "stream",
     "text": [
      "minimal f(x,y):  1.9375000602057808 at point (-1.9997546313362582, -0.12499999999999997)\n"
     ]
    },
    {
     "data": {
      "image/png": "[encoded data removed]",
      "text/plain": [
       "<matplotlib.figure.Figure at 0x104848f60>"
      ]
     },
     "metadata": {},
     "output_type": "display_data"
    }
   ],
   "source": [
    "import numpy as np\n",
    "import matplotlib.pyplot as plt\n",
    "\n",
    "f = lambda x, y: x*x + 4*y*y + 4*x + y + 6\n",
    "delfdelx = lambda x, y: 2*x + 4  # partial derivative of our function f with respect to x\n",
    "delfdely = lambda x, y: 8*y + 1\n",
    "\n",
    "# starting at (5,5) for no reason\n",
    "x, y = 5, 5\n",
    "\n",
    "# this is the rate at which we'll move to the opposite of the gradient\n",
    "# sometimes 1alled \"learning rate\" in machine learning\n",
    "eta = 0.025\n",
    "\n",
    "# we'll store all this:\n",
    "x_vals = []\n",
    "y_vals = []\n",
    "f_vals = []\n",
    "\n",
    "num_steps = 200\n",
    "for i in range(num_steps):\n",
    "    # update x and y\n",
    "    x = x - eta * delfdelx(x, y)\n",
    "    y = y - eta * delfdely(x, y)\n",
    "    \n",
    "    # let's store the x, y and f(x,y) values for later use\n",
    "    x_vals.append(x)\n",
    "    y_vals.append(y)\n",
    "    f_vals.append(f(x, y))\n",
    "\n",
    "\n",
    "print(\"minimal f(x,y): \", f(x,y), \"at point\", (x,y))\n",
    "# let's see what the f(x,y) values were    \n",
    "plt.plot(range(num_steps), f_vals)\n",
    "plt.show()"
   ]
  },
  {
   "cell_type": "markdown",
   "metadata": {},
   "source": [
    "### Problem 1\n",
    "Modify the Gradient Descent ( for two variables, $f(x,y)$ ) so that it works in three variables, $f(x,y,z)$. \n",
    "\n",
    "Check that your new code still works for $f(x,y,z) = x^2 + 4y^2 + 4x + y + 6$.\n",
    "\n",
    "You should expect x and y to be the same vaues as above and z to be any number."
   ]
  },
  {
   "cell_type": "code",
   "execution_count": 2,
   "metadata": {
    "collapsed": false
   },
   "outputs": [],
   "source": [
    "# For Problem 1:\n",
    "# You may copy/paste the code above and modify it in this box.\n"
   ]
  },
  {
   "cell_type": "markdown",
   "metadata": {},
   "source": [
    "### Problem 2\n",
    "Determine x,y,z that will minimize the function $f(x,y,z) = x^2 + 4y^2 + 4x + y + 6 + 8z(z-1)$.\n",
    "\n",
    "Evaluate some numbers nearby (x,y,z) to show that your answer must be a local minimum."
   ]
  },
  {
   "cell_type": "code",
   "execution_count": 3,
   "metadata": {
    "collapsed": false
   },
   "outputs": [],
   "source": [
    "# For Problem 2.\n"
   ]
  },
  {
   "cell_type": "markdown",
   "metadata": {},
   "source": [
    "### Problem 3 (Optional, Not Graded)\n",
    "Does this code always find the global minimum of a given function?\n",
    "\n",
    "If not, find a function where your code doesn't return the global minimum.\n",
    "\n",
    "Global minimum (or, absolute minimum) is the smallest value of a function over its entire range."
   ]
  },
  {
   "cell_type": "code",
   "execution_count": null,
   "metadata": {
    "collapsed": true
   },
   "outputs": [],
   "source": []
  }
 ],
 "metadata": {
  "anaconda-cloud": {},
  "kernelspec": {
   "display_name": "Python [default]",
   "language": "python",
   "name": "python3"
  },
  "language_info": {
   "codemirror_mode": {
    "name": "ipython",
    "version": 3
   },
   "file_extension": ".py",
   "mimetype": "text/x-python",
   "name": "python",
   "nbconvert_exporter": "python",
   "pygments_lexer": "ipython3",
   "version": "3.5.2"
  }
 },
 "nbformat": 4,
 "nbformat_minor": 2
}
