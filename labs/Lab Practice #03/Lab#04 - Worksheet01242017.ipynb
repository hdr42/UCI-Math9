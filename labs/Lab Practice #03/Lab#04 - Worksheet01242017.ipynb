{
 "cells": [
  {
   "cell_type": "markdown",
   "metadata": {},
   "source": [
    "## Lab Worksheet #04\n",
    "\n",
    "This notebook does not need to be submitted. This is only for you to gain experience and get some practice."
   ]
  },
  {
   "cell_type": "markdown",
   "metadata": {},
   "source": [
    "## Approximations of a number\n",
    "\n",
    "Recall $\\cos(\\pi/3) = \\sin(\\pi/6)$, but the computer denies that they're equal."
   ]
  },
  {
   "cell_type": "code",
   "execution_count": 1,
   "metadata": {
    "collapsed": false
   },
   "outputs": [
    {
     "data": {
      "text/plain": [
       "False"
      ]
     },
     "execution_count": 1,
     "metadata": {},
     "output_type": "execute_result"
    }
   ],
   "source": [
    "import math\n",
    "math.cos(math.pi/3)==math.sin(math.pi/6)"
   ]
  },
  {
   "cell_type": "code",
   "execution_count": 2,
   "metadata": {
    "collapsed": false
   },
   "outputs": [
    {
     "name": "stdout",
     "output_type": "stream",
     "text": [
      "0.5000000000000001 0.49999999999999994\n"
     ]
    }
   ],
   "source": [
    "# Numerical approximation of these numbers:\n",
    "print(math.cos(math.pi/3),math.sin(math.pi/6))"
   ]
  },
  {
   "cell_type": "code",
   "execution_count": 3,
   "metadata": {
    "collapsed": false
   },
   "outputs": [
    {
     "data": {
      "text/plain": [
       "1.6653345369377348e-16"
      ]
     },
     "execution_count": 3,
     "metadata": {},
     "output_type": "execute_result"
    }
   ],
   "source": [
    "# How different are these numbers?\n",
    "abs(math.cos(math.pi/3)-math.sin(math.pi/6))"
   ]
  },
  {
   "cell_type": "markdown",
   "metadata": {},
   "source": [
    "Computers have something called machine epsilon. This is the smallest positive number the computer can differentiate between 0. Any number smaller than machine epsilon is \"zero\" in the view of the computer. In practice, we choose a tolerance (a positive amount of deviation we allow) for error."
   ]
  },
  {
   "cell_type": "code",
   "execution_count": 4,
   "metadata": {
    "collapsed": false
   },
   "outputs": [
    {
     "data": {
      "text/plain": [
       "3.141592653589793"
      ]
     },
     "execution_count": 4,
     "metadata": {},
     "output_type": "execute_result"
    }
   ],
   "source": [
    "# Let's temporarily assume that math.pi is the best approximation of pi we can obtain in the computer.\n",
    "math.pi"
   ]
  },
  {
   "cell_type": "markdown",
   "metadata": {},
   "source": [
    "Recall from Lab assignment 2, we can approximate a value of pi using the taylor series for arctan(x): \n",
    "\n",
    "$\\pi/4 = 1 - 1/3 + 1/5 - 1/7 + \\cdots $"
   ]
  },
  {
   "cell_type": "code",
   "execution_count": 5,
   "metadata": {
    "collapsed": false
   },
   "outputs": [
    {
     "name": "stdout",
     "output_type": "stream",
     "text": [
      "3.140592653839794\n"
     ]
    }
   ],
   "source": [
    "# Using 1000 terms.\n",
    "n = 0 # Stores our current position.\n",
    "s = 0 # Stores the sum of first n terms.\n",
    "while n<1000:\n",
    "    n += 1 # Increase position by 1.\n",
    "    s = s + (-1)**(n+1)/(2*n-1)  # add n-th term to variable s.\n",
    "    # Alternatively can use s += (-1)**(n+1)/(2*n-1)\n",
    "myapproximationofpiT1000 = 4*s\n",
    "print(myapproximationofpiT1000) # print out 4*s to approximate pi (since s approximates pi/4)."
   ]
  },
  {
   "cell_type": "markdown",
   "metadata": {},
   "source": [
    "Generalize this for sum of N terms:"
   ]
  },
  {
   "cell_type": "code",
   "execution_count": 6,
   "metadata": {
    "collapsed": true
   },
   "outputs": [],
   "source": [
    "def myapproximationofpi(N): # Note that python is case-sentitive. n and N are different variables.\n",
    "    n = 0 # Stores our current position.\n",
    "    s = 0 # Stores the sum of first n terms.\n",
    "    while n<N:\n",
    "        n += 1 # Increase position by 1.\n",
    "        s = s + (-1)**(n+1)/(2*n-1)  # add n-th term to variable s.\n",
    "        # Alternatively can use s += (-1)**(n+1)/(2*n-1)\n",
    "    myapproximationofpiN = 4*s\n",
    "    return myapproximationofpiN"
   ]
  },
  {
   "cell_type": "markdown",
   "metadata": {},
   "source": [
    "How far apart is our approximation of pi compared to math.pi for different N?"
   ]
  },
  {
   "cell_type": "code",
   "execution_count": null,
   "metadata": {
    "collapsed": false
   },
   "outputs": [
    {
     "name": "stdout",
     "output_type": "stream",
     "text": [
      "0.8584073464102069\n",
      "0.09975303466038987\n",
      "0.00999975003123943\n",
      "0.000999999749998981\n"
     ]
    }
   ],
   "source": [
    "print(  abs(myapproximationofpi(    1)-math.pi)  )  #  1 term\n",
    "print(  abs(myapproximationofpi(   10)-math.pi)  )  #  10 terms\n",
    "print(  abs(myapproximationofpi(  100)-math.pi)  )  #  100 terms\n",
    "print(  abs(myapproximationofpi( 1000)-math.pi)  )  #  1000 terms"
   ]
  },
  {
   "cell_type": "markdown",
   "metadata": {},
   "source": [
    "How many terms do we need to be within $10^{-4}$? Use a while loop to determine the answer.\n",
    "\n",
    "Word of caution: Don't go under $10^{-5}$. It's really really ... really slow."
   ]
  },
  {
   "cell_type": "code",
   "execution_count": null,
   "metadata": {
    "collapsed": false
   },
   "outputs": [],
   "source": [
    "N = 1\n",
    "error = abs(math.pi - myapproximationofpi(1))\n",
    "tolerance = 10**(-4)\n",
    "\n",
    "while error >= tolerance:\n",
    "    N += 1\n",
    "    error = abs(math.pi - myapproximationofpi(N))\n",
    "print(N)"
   ]
  },
  {
   "cell_type": "markdown",
   "metadata": {},
   "source": [
    "## Class Exercise"
   ]
  },
  {
   "cell_type": "markdown",
   "metadata": {},
   "source": [
    "Apply the following test functions to myUpper(f,A) and myLower(f,A)"
   ]
  },
  {
   "cell_type": "code",
   "execution_count": null,
   "metadata": {
    "collapsed": true
   },
   "outputs": [],
   "source": [
    "def mytestfunc1(x):\n",
    "    return x\n",
    "def mytestfunc2(x):\n",
    "    return x**2 - 3*x + 2\n",
    "def mytestfunc3(x):\n",
    "    if x>=1:\n",
    "        return 1\n",
    "    elif x<=-1:\n",
    "        return -1\n",
    "    else:\n",
    "        return x"
   ]
  },
  {
   "cell_type": "markdown",
   "metadata": {},
   "source": [
    "Given a function $f(x)$ and a number $A$, determine the purpose of myUpper(f,A)."
   ]
  },
  {
   "cell_type": "code",
   "execution_count": null,
   "metadata": {
    "collapsed": false
   },
   "outputs": [],
   "source": [
    "def myUpper(f,A):\n",
    "    x = A if abs(A)>0 else 1.8349\n",
    "    if f(x)>0.:\n",
    "        return x\n",
    "    x1 = x\n",
    "    x2 = x\n",
    "    while f(x1)<=0. and f(x2)<=0.:\n",
    "        x1 += x/2\n",
    "        x2 -= x/2\n",
    "    if f(x1)>0:\n",
    "        return x1\n",
    "    else:\n",
    "        return x2"
   ]
  },
  {
   "cell_type": "markdown",
   "metadata": {},
   "source": [
    "The purpose of myUpper(f,A) is ..."
   ]
  },
  {
   "cell_type": "code",
   "execution_count": null,
   "metadata": {
    "collapsed": false
   },
   "outputs": [],
   "source": [
    "print(myUpper(mytestfunc1,1))\n",
    "print(myUpper(mytestfunc2,2))\n",
    "print(myUpper(mytestfunc3,-.5))"
   ]
  },
  {
   "cell_type": "markdown",
   "metadata": {},
   "source": [
    "Similarly, what about myLower(f,a)?"
   ]
  },
  {
   "cell_type": "code",
   "execution_count": null,
   "metadata": {
    "collapsed": true
   },
   "outputs": [],
   "source": [
    "def myLower(f,A):\n",
    "    x = A if abs(A)>0 else 1.8349\n",
    "    if f(x)<0.:\n",
    "        return x\n",
    "    x1 = x\n",
    "    x2 = x\n",
    "    while f(x1)>=0. and f(x2)>=0.:\n",
    "        x1 += x/2\n",
    "        x2 -= x/2\n",
    "    if f(x1)<0:\n",
    "        return x1\n",
    "    else:\n",
    "        return x2"
   ]
  },
  {
   "cell_type": "code",
   "execution_count": null,
   "metadata": {
    "collapsed": false
   },
   "outputs": [],
   "source": [
    "print(myLower(mytestfunc1,1))\n",
    "print(myLower(mytestfunc2,.34))\n",
    "print(myLower(mytestfunc3,.5))\n",
    "# In rare instances you may end up in an infinite loop."
   ]
  },
  {
   "cell_type": "markdown",
   "metadata": {},
   "source": [
    "## In-class Exercise"
   ]
  },
  {
   "cell_type": "markdown",
   "metadata": {},
   "source": [
    "### Exercise 1: \n",
    "\n",
    "Finding roots to a given continuous function can be useful in several ways.\n",
    "\n",
    "Use a loop to find a root (up to an error of $10^{-8}$) to the polynomial $f(x) = x^2 -3x + 2 = (x-1)(x-2)$.\n",
    "\n",
    "You may not use the quadratic formula.\n",
    "\n",
    "Hint: Start with two variables a and b such that $f(a) > 0$ and $f(b) < 0$. Then, consider $f(\\frac{a+b}{2})$. Where should the root be between? This is known as the bisection method.\n"
   ]
  },
  {
   "cell_type": "code",
   "execution_count": null,
   "metadata": {
    "collapsed": true
   },
   "outputs": [],
   "source": [
    "def f(x):\n",
    "    return x**2 - 3*x + 2"
   ]
  },
  {
   "cell_type": "code",
   "execution_count": null,
   "metadata": {
    "collapsed": false
   },
   "outputs": [],
   "source": [
    "# Complete Exercise 1 here.\n"
   ]
  },
  {
   "cell_type": "markdown",
   "metadata": {},
   "source": [
    "### Exercise 2:\n",
    "\n",
    "Write a function myrootfinder(f,a,b) that finds a root of some given continuous function $f$ between a and b such that $f(a)>0$ and $f(b)< 0$. Test your code by applying it to the polynomial $g(x) = x^2 - 2$ for x between 1 and 2. What should your code approximate if it's done correctly?"
   ]
  },
  {
   "cell_type": "code",
   "execution_count": null,
   "metadata": {
    "collapsed": true
   },
   "outputs": [],
   "source": [
    "def g(x):\n",
    "    return x**2 - 2"
   ]
  },
  {
   "cell_type": "code",
   "execution_count": null,
   "metadata": {
    "collapsed": true
   },
   "outputs": [],
   "source": [
    "# Complete Exercise 2 here.\n"
   ]
  },
  {
   "cell_type": "markdown",
   "metadata": {
    "collapsed": false
   },
   "source": [
    "### Exercise 3:\n",
    "\n",
    "Come up with a continuous function (non-polynomial) that you know contains at least one root. Find a root to your function."
   ]
  },
  {
   "cell_type": "code",
   "execution_count": null,
   "metadata": {
    "collapsed": false
   },
   "outputs": [],
   "source": [
    "# Complete Exercise 3 here.\n"
   ]
  },
  {
   "cell_type": "code",
   "execution_count": null,
   "metadata": {
    "collapsed": true
   },
   "outputs": [],
   "source": []
  }
 ],
 "metadata": {
  "anaconda-cloud": {},
  "kernelspec": {
   "display_name": "Python [default]",
   "language": "python",
   "name": "python3"
  },
  "language_info": {
   "codemirror_mode": {
    "name": "ipython",
    "version": 3
   },
   "file_extension": ".py",
   "mimetype": "text/x-python",
   "name": "python",
   "nbconvert_exporter": "python",
   "pygments_lexer": "ipython3",
   "version": "3.5.2"
  }
 },
 "nbformat": 4,
 "nbformat_minor": 2
}
