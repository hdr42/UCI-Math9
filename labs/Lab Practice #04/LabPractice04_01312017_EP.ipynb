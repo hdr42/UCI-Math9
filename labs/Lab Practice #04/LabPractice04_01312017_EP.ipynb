{
 "cells": [
  {
   "cell_type": "markdown",
   "metadata": {},
   "source": [
    "# Lab Practice #04\n",
    "\n",
    "This notebook does not need to be submitted. This is only for you to gain experience and get some practice."
   ]
  },
  {
   "cell_type": "markdown",
   "metadata": {},
   "source": [
    "## Review of Lists"
   ]
  },
  {
   "cell_type": "code",
   "execution_count": 1,
   "metadata": {
    "collapsed": false,
    "scrolled": true
   },
   "outputs": [
    {
     "name": "stdout",
     "output_type": "stream",
     "text": [
      "[]\n"
     ]
    }
   ],
   "source": [
    "# Step 1: \n",
    "# Form an empty list.\n",
    "mylist1 = []\n",
    "# Must make a list before we can do any operations allowed on a list.\n",
    "print(mylist1)"
   ]
  },
  {
   "cell_type": "code",
   "execution_count": 2,
   "metadata": {
    "collapsed": false,
    "scrolled": true
   },
   "outputs": [
    {
     "data": {
      "text/plain": [
       "0"
      ]
     },
     "execution_count": 2,
     "metadata": {},
     "output_type": "execute_result"
    }
   ],
   "source": [
    "len(mylist1) # length of an empty list is 0."
   ]
  },
  {
   "cell_type": "code",
   "execution_count": 3,
   "metadata": {
    "collapsed": false,
    "scrolled": true
   },
   "outputs": [
    {
     "name": "stdout",
     "output_type": "stream",
     "text": [
      "[0, 1, 2, 3, 4, 5, 4, 3, 2, 1, 0]\n",
      "['Python', 'version', 3.5, 'for Math', '9']\n"
     ]
    }
   ],
   "source": [
    "# Make a list containing a specific list of numbers.\n",
    "mylist2 = [0,1,2,3,4,5,4,3,2,1,0]\n",
    "mylist3 = [\"Python\",\"version\", 3.5,\"for Math\",\"9\"]\n",
    "print(mylist2)\n",
    "print(mylist3)"
   ]
  },
  {
   "cell_type": "code",
   "execution_count": 4,
   "metadata": {
    "collapsed": false,
    "scrolled": true
   },
   "outputs": [
    {
     "data": {
      "text/plain": [
       "str"
      ]
     },
     "execution_count": 4,
     "metadata": {},
     "output_type": "execute_result"
    }
   ],
   "source": [
    "type('9')"
   ]
  },
  {
   "cell_type": "code",
   "execution_count": 5,
   "metadata": {
    "collapsed": false,
    "scrolled": true
   },
   "outputs": [
    {
     "data": {
      "text/plain": [
       "int"
      ]
     },
     "execution_count": 5,
     "metadata": {},
     "output_type": "execute_result"
    }
   ],
   "source": [
    "type(9)"
   ]
  },
  {
   "cell_type": "code",
   "execution_count": 6,
   "metadata": {
    "collapsed": false,
    "scrolled": true
   },
   "outputs": [
    {
     "data": {
      "text/plain": [
       "int"
      ]
     },
     "execution_count": 6,
     "metadata": {},
     "output_type": "execute_result"
    }
   ],
   "source": [
    "mynum = int(\"9\") # Could convert strings to integers (if it can be an integer).\n",
    "type(mynum)"
   ]
  },
  {
   "cell_type": "code",
   "execution_count": 7,
   "metadata": {
    "collapsed": false,
    "scrolled": true
   },
   "outputs": [
    {
     "data": {
      "text/plain": [
       "[9, '9']"
      ]
     },
     "execution_count": 7,
     "metadata": {},
     "output_type": "execute_result"
    }
   ],
   "source": [
    "[int(\"9\"), \"9\"] # See the difference. Integer versus string in a list."
   ]
  },
  {
   "cell_type": "code",
   "execution_count": 8,
   "metadata": {
    "collapsed": false,
    "scrolled": true
   },
   "outputs": [
    {
     "name": "stdout",
     "output_type": "stream",
     "text": [
      "11\n",
      "5\n"
     ]
    }
   ],
   "source": [
    "print( len(mylist2) ) # length of the list mylist2. It has 11 elements in the list.\n",
    "print( len(mylist3) ) # length of the list mylist3. It has 5 elements in the list."
   ]
  },
  {
   "cell_type": "code",
   "execution_count": 9,
   "metadata": {
    "collapsed": false,
    "scrolled": true
   },
   "outputs": [
    {
     "name": "stdout",
     "output_type": "stream",
     "text": [
      "Python\n",
      "version\n",
      "3.5\n",
      "for Math\n",
      "9\n"
     ]
    }
   ],
   "source": [
    "# The index of lists in python always start from 0, 1, ..., len(yourlist)-1 .\n",
    "# Can be used to extract a specific entry from the list.\n",
    "\n",
    "print( mylist3[0] ) # The first element in the list.\n",
    "print( mylist3[1] )\n",
    "print( mylist3[2] )\n",
    "print( mylist3[3] )\n",
    "print( mylist3[4] ) # The last element in the list."
   ]
  },
  {
   "cell_type": "code",
   "execution_count": 10,
   "metadata": {
    "collapsed": false,
    "scrolled": true
   },
   "outputs": [
    {
     "name": "stdout",
     "output_type": "stream",
     "text": [
      "Python\n",
      "version\n",
      "3.5\n",
      "for Math\n",
      "9\n"
     ]
    }
   ],
   "source": [
    "# Using negative indices could be useful too. Note: The range of numbers are different.\n",
    "print( mylist3[-5] ) # The first element in the list.\n",
    "print( mylist3[-4] )\n",
    "print( mylist3[-3] )\n",
    "print( mylist3[-2] )\n",
    "print( mylist3[-1] ) # The last element in the list."
   ]
  },
  {
   "cell_type": "code",
   "execution_count": 11,
   "metadata": {
    "collapsed": false,
    "scrolled": true
   },
   "outputs": [
    {
     "name": "stdout",
     "output_type": "stream",
     "text": [
      "t\n",
      "h\n",
      "Pytho\n",
      "PyTTHHhon\n"
     ]
    }
   ],
   "source": [
    "myteststring = \"Python\"\n",
    "# You can also extract a specific characters from strings.\n",
    "print( myteststring[2] )\n",
    "print( myteststring[-3] )\n",
    "\n",
    "# Can also extract multiple CONSECUTIVE characters\n",
    "print( myteststring[0:5] )\n",
    "\n",
    "# One could create a NEW string to \"change\" letters.\n",
    "myteststring2 = myteststring[0:2] + \"TTHH\" + myteststring[3:len(myteststring)]\n",
    "print(myteststring2)"
   ]
  },
  {
   "cell_type": "code",
   "execution_count": 12,
   "metadata": {
    "collapsed": false,
    "scrolled": true
   },
   "outputs": [
    {
     "name": "stdout",
     "output_type": "stream",
     "text": [
      "Pton\n"
     ]
    }
   ],
   "source": [
    "# For more specific list of elements. Extract only indices 0,1,4,5 of list.\n",
    "newlistx = ''  # Makes empty string.\n",
    "for a in [0,2,4,5]:\n",
    "    newlistx = newlistx + myteststring[a]\n",
    "print(newlistx)"
   ]
  },
  {
   "cell_type": "code",
   "execution_count": 13,
   "metadata": {
    "collapsed": false,
    "scrolled": true
   },
   "outputs": [
    {
     "name": "stdout",
     "output_type": "stream",
     "text": [
      "[0, 2, 4, 6, 8, 10, 12, 14, 16, 18]\n",
      "[0, 2, 4, 6, 8, 10, 12, 14, 16, 18]\n"
     ]
    }
   ],
   "source": [
    "# List comprehension: Creating a list following a rule for a specific set of numbers.\n",
    "mynewlist1 = [2*n for n in range(10)]\n",
    "mynewlist2 = [2*n for n in range(0,10)]\n",
    "\n",
    "print(mynewlist1)\n",
    "print(mynewlist2)"
   ]
  },
  {
   "cell_type": "code",
   "execution_count": 14,
   "metadata": {
    "collapsed": false,
    "scrolled": true
   },
   "outputs": [
    {
     "name": "stdout",
     "output_type": "stream",
     "text": [
      "[0, 1, 2, 3, 4, 5, 4, 3, 2, 1, 0]\n",
      "[1, 2, 4, 8, 16, 32, 16, 8, 4, 2, 1]\n"
     ]
    }
   ],
   "source": [
    "print(mylist2)\n",
    "mynewlist3 = [2**n for n in mylist2]\n",
    "print(mynewlist3)"
   ]
  },
  {
   "cell_type": "code",
   "execution_count": 15,
   "metadata": {
    "collapsed": false,
    "scrolled": true
   },
   "outputs": [
    {
     "name": "stdout",
     "output_type": "stream",
     "text": [
      "['P', 't', 'o', 'n']\n",
      "Pton\n"
     ]
    }
   ],
   "source": [
    "# Form a list of strings.\n",
    "mylistofstrings = [myteststring[a] for a in [0,2,4,5]]\n",
    "print(mylistofstrings)\n",
    "\n",
    "# Note the difference between mylistofstrongs and newlistx.\n",
    "# List of Strings versus String\n",
    "print(newlistx)"
   ]
  },
  {
   "cell_type": "code",
   "execution_count": 16,
   "metadata": {
    "collapsed": false,
    "scrolled": true
   },
   "outputs": [
    {
     "name": "stdout",
     "output_type": "stream",
     "text": [
      "[0, 1, 2, 3, 4, 5, 4, 3, 2, 1, 0, 3]\n",
      "['Python', 'version', 3.5, 'for Math', '9', '!!!!']\n"
     ]
    }
   ],
   "source": [
    "# Append elements to a pre-existing list.\n",
    "mylist2.append(3)\n",
    "print(mylist2)\n",
    "mylist3.append(\"!!!!\")\n",
    "print(mylist3)\n",
    "# Notice it is appending the new element to the END of the list.\n",
    "# The objects that you append don't have to be numbers. Could be any object.\n",
    "\n",
    "# *Warning*: This is directly modifying the original list mylist1, mylist2, mylist3.\n",
    "# Don't make changes to your original list when making code to prevent major headaches (errors)."
   ]
  },
  {
   "cell_type": "code",
   "execution_count": 17,
   "metadata": {
    "collapsed": false,
    "scrolled": true
   },
   "outputs": [
    {
     "name": "stdout",
     "output_type": "stream",
     "text": [
      "['Python', 'version', 3.5, 'for Math', '9', '!!!!', [0, 1, 2, 3, 4, 5, 4, 3, 2, 1, 0, 3]]\n"
     ]
    }
   ],
   "source": [
    "mylist3.append(mylist2) # appends the list mylist1 as the last element of mylist3.\n",
    "print(mylist3)\n",
    "\n",
    "# Creating a list of lists could be useful for storing outcomes of multiple simulations."
   ]
  },
  {
   "cell_type": "code",
   "execution_count": 18,
   "metadata": {
    "collapsed": false,
    "scrolled": true
   },
   "outputs": [
    {
     "name": "stdout",
     "output_type": "stream",
     "text": [
      "[0, 1, 2, 3, 4, 5, 4, 3, 2, 1, 0, 3]\n"
     ]
    }
   ],
   "source": [
    "print(mylist3[6])"
   ]
  },
  {
   "cell_type": "code",
   "execution_count": 19,
   "metadata": {
    "collapsed": false,
    "scrolled": true
   },
   "outputs": [
    {
     "name": "stdout",
     "output_type": "stream",
     "text": [
      "[0, 1, 2, 3, 4, 5, 4, 3, 2, 1, 0, 3]\n",
      "[0, 1, 2, 4, 5, 4, 3, 2, 1, 0, 3]\n",
      "[0, 1, 2, 4, 5, 4, 2, 1, 0, 3]\n",
      "[0, 1, 2, 4, 5, 4, 2, 1, 0]\n"
     ]
    }
   ],
   "source": [
    "# Remove elements to a pre-existing list.\n",
    "print(mylist2)\n",
    "mylist2.remove(3)\n",
    "print(mylist2)\n",
    "mylist2.remove(3)\n",
    "print(mylist2)\n",
    "mylist2.remove(3)\n",
    "print(mylist2)\n",
    "\n",
    "# Notice that the element being removed is the one with the SMALLEST index (or most left).\n",
    "\n",
    "# Warning: This is directly modifying the original list mylist1, mylist2, mylist3.\n",
    "# Don't make changes to your original list when making code to prevent major headaches (errors)."
   ]
  },
  {
   "cell_type": "code",
   "execution_count": 20,
   "metadata": {
    "collapsed": false,
    "scrolled": true
   },
   "outputs": [
    {
     "name": "stdout",
     "output_type": "stream",
     "text": [
      "[0, 1, 2, 4, 5, 4, 2, 1, 0]\n",
      "[0, 1, 2, 4, 5, 4, 2, 1, 0, 3]\n",
      "[0, 1, 2, 4, 5, 4, 2, 1, 0, 3]\n"
     ]
    }
   ],
   "source": [
    "# Example: Attempting to copy your list, but fail. Learn from this mistake!\n",
    "print(mylist2)\n",
    "\n",
    "myFailedCopy = mylist2\n",
    "myFailedCopy.append(3)\n",
    "\n",
    "print(myFailedCopy)\n",
    "print(mylist2)\n",
    "\n",
    "# Mutables are objects whose state can be changed.\n",
    "\n",
    "# The informal idea:\n",
    "# Python creates a space in memory for the list, but the variable only stores the location/reference to the list.\n",
    "# Modifying myFailedCopy is the same as modifying mylist2 since they point to the same list."
   ]
  },
  {
   "cell_type": "markdown",
   "metadata": {},
   "source": [
    "### Mutable:\n",
    "* Lists\n",
    "* Tuples (later)\n",
    "* Dictionaries (later)\n",
    "* Numpy arrays (later)\n",
    "\n",
    "### Immutable:\n",
    "* Integers, floats, bools\n",
    "* Strings"
   ]
  },
  {
   "cell_type": "code",
   "execution_count": 21,
   "metadata": {
    "collapsed": false,
    "scrolled": true
   },
   "outputs": [
    {
     "name": "stdout",
     "output_type": "stream",
     "text": [
      "[0, 1, 2, 4, 5, 4, 2, 1, 0, 3]\n",
      "...\n",
      "[0, 1, 2, 4, 5, 4, 2, 1, 0, 3, 'Made a change to this list.']\n",
      "[0, 1, 2, 4, 5, 4, 2, 1, 0, 3]\n"
     ]
    }
   ],
   "source": [
    "# So, how do we form a copy of a list that doesn't interact with the original one?\n",
    "import copy # Use the copy module.\n",
    "mySuccessStory = copy.copy(mylist2)   # Use the copy function in the copy module.\n",
    "\n",
    "print(mylist2)\n",
    "print(\"...\")\n",
    "mySuccessStory.append(\"Made a change to this list.\")\n",
    "print(mySuccessStory)\n",
    "print(mylist2)\n",
    "\n",
    "# It created new space in memory to save a copy of mylist2.\n",
    "# The location/reference to the new list is stored in mySuccessStory."
   ]
  },
  {
   "cell_type": "markdown",
   "metadata": {},
   "source": [
    "### Exercise Problems"
   ]
  },
  {
   "cell_type": "markdown",
   "metadata": {},
   "source": [
    "### Exercise 1: \n",
    "\n",
    "Write a function that will convert a number like 1010111 in binary to its base 10 version. (101011 corresponds to 43 in base 10)"
   ]
  },
  {
   "cell_type": "markdown",
   "metadata": {},
   "source": [
    "Binary numbers are numbers constructed in base 2 (integers 0 and 1).\n",
    "\n",
    "Base 10 numbers (what we typically use) are numbers constructed using integers 0 thru 9.\n",
    "\n",
    "$101011$ (in base 2) $= 1*2^{5}+0*2^{4}+1*2^{3}+0*2^{2}+1*2^{1}+1*2^{0} = 4*10^{1}+3*10^{0} = 43$ (in base 10).\n",
    "\n",
    "Hint: One could convert a number to a string to get specific entry and convert back to integer."
   ]
  },
  {
   "cell_type": "code",
   "execution_count": 22,
   "metadata": {
    "collapsed": false,
    "scrolled": true
   },
   "outputs": [
    {
     "name": "stdout",
     "output_type": "stream",
     "text": [
      "13\n",
      "13\n"
     ]
    }
   ],
   "source": [
    "# Hints during class:\n",
    "\n",
    "mybinstring = str(1101)\n",
    "#print(mybinstring[0],mybinstring[1],mybinstring[2])\n",
    "#print(int(mybinstring[0]),int(mybinstring[1]),int(mybinstring[2]))\n",
    "\n",
    "# This gets really long...\n",
    "mybase10numberV1 = int(mybinstring[0])*(2**3) + int(mybinstring[1])*(2**2) + int(mybinstring[2])*(2**1) + int(mybinstring[3])*(2**0) \n",
    "\n",
    "print(mybase10numberV1)\n",
    "\n",
    "# For a much nicer look...\n",
    "mybase10numberV2 = sum( [ int(mybinstring[0])*(2**3),\n",
    "                          int(mybinstring[1])*(2**2),\n",
    "                          int(mybinstring[2])*(2**1),\n",
    "                          int(mybinstring[3])*(2**0) ] )\n",
    "\n",
    "print(mybase10numberV2)\n",
    "\n",
    "# How can we extend this to any length binary number?"
   ]
  },
  {
   "cell_type": "code",
   "execution_count": 23,
   "metadata": {
    "collapsed": false,
    "scrolled": true
   },
   "outputs": [],
   "source": [
    "# Complete Exercise 1 here.\n",
    "def base2base10Ver1(x): # Directly adds the sum together.\n",
    "    y = str(x)\n",
    "    total = 0\n",
    "    for ii in range(len(y)):\n",
    "        total += int(y[ii])*(2**(len(y)-(ii+1))) #adds to total sum.\n",
    "    return total\n",
    "\n",
    "def base2base10Ver2(x): # Forms the numbers in a list, then take total sum.\n",
    "    y = str(x)\n",
    "    mylist = []\n",
    "    for ii in range(len(y)):\n",
    "        mylist += [int(y[ii])*(2**(len(y)-(ii+1)))] #adds to list.\n",
    "    total = sum(mylist)\n",
    "    return total\n",
    "\n",
    "def base2base10Ver3(x): # Similar to Ver.2, but using List comprehension.\n",
    "    y = str(x)\n",
    "    mylist = [int(y[ii])*(2**(len(y)-(ii+1))) for ii in range(len(y))]\n",
    "    total = sum(mylist)\n",
    "    return total"
   ]
  },
  {
   "cell_type": "code",
   "execution_count": 24,
   "metadata": {
    "collapsed": false
   },
   "outputs": [
    {
     "name": "stdout",
     "output_type": "stream",
     "text": [
      "43\n",
      "43\n",
      "43\n"
     ]
    }
   ],
   "source": [
    "binNum = 101011\n",
    "print(base2base10Ver1(binNum))\n",
    "print(base2base10Ver2(binNum))\n",
    "print(base2base10Ver3(binNum))"
   ]
  },
  {
   "cell_type": "markdown",
   "metadata": {},
   "source": [
    "### Exercise 2:\n",
    "\n",
    "Make a list containing the list  $[5,-8,-19,7,-3,5,0,-69,0,-1,5]$.\n",
    "#### a) Append the number 17 to the list.\n",
    "#### b) Remove all the 5's from the list. (Updated question: Original is more complicated than I wanted it to be).\n",
    "#### c) Insert the number 45 so that it's the 4th number in the list.\n",
    "If `ys = [10,8,4,1]` and we can insert `5` into `ys` as the 3rd number in the list `[10,8,5,4,1]` using ys.insert(2,5).\n",
    "\n",
    "More generally, `ys.insert(place, new_element)`.\n",
    "#### d) Can you use the insert function to add a number to the end of the list? If not, what can we do instead?\n"
   ]
  },
  {
   "cell_type": "code",
   "execution_count": 25,
   "metadata": {
    "collapsed": true
   },
   "outputs": [],
   "source": [
    "theList = [5,-8,-19,7,-3,5,0,-69,0,-1,5]\n",
    "\n",
    "#Problem 2 and Problem 3 start from the same list.\n",
    "import copy\n",
    "ForP2 = copy.copy(theList) # Made a list for problem 2.\n",
    "ForP3 = copy.copy(theList) # Made a list for problem 3.\n",
    "ForP4 = copy.copy(theList) # Made a list for problem 4."
   ]
  },
  {
   "cell_type": "code",
   "execution_count": 26,
   "metadata": {
    "collapsed": false,
    "scrolled": true
   },
   "outputs": [
    {
     "name": "stdout",
     "output_type": "stream",
     "text": [
      "[5, -8, -19, 7, -3, 5, 0, -69, 0, -1, 5, 17]\n"
     ]
    }
   ],
   "source": [
    "# 2a:\n",
    "ForP2.append(17)\n",
    "print(ForP2)"
   ]
  },
  {
   "cell_type": "code",
   "execution_count": 27,
   "metadata": {
    "collapsed": false,
    "scrolled": true
   },
   "outputs": [
    {
     "name": "stdout",
     "output_type": "stream",
     "text": [
      "[-8, -19, 7, -3, 0, -69, 0, -1, 17]\n"
     ]
    }
   ],
   "source": [
    "# 2b:\n",
    "ForP2.remove(5)\n",
    "ForP2.remove(5)\n",
    "ForP2.remove(5)\n",
    "print(ForP2)"
   ]
  },
  {
   "cell_type": "code",
   "execution_count": 28,
   "metadata": {
    "collapsed": false,
    "scrolled": true
   },
   "outputs": [
    {
     "name": "stdout",
     "output_type": "stream",
     "text": [
      "[-8, -19, 7, 45, -3, 0, -69, 0, -1, 17]\n"
     ]
    }
   ],
   "source": [
    "# 2c:\n",
    "ForP2.insert(3,45)\n",
    "print(ForP2)"
   ]
  },
  {
   "cell_type": "markdown",
   "metadata": {},
   "source": [
    "2d: No, insert cannot add a number to the end of the list. Use the append instead."
   ]
  },
  {
   "cell_type": "markdown",
   "metadata": {},
   "source": [
    "### Exercise 3:\n",
    "\n",
    "Code insertion-sort on lists (return the sorted list without modifying the original list).\n",
    "\n",
    "For this exercise: Sort the numbers from greatest to least (decreasing) order.\n",
    "\n",
    "Be sure you are placing the largest and smallest number in the correct spot.\n",
    "\n",
    "Test your code on the list $[5,-8,-19,7,-3,5,0,-69,0,-1,5]$.\n",
    "\n",
    "###### Insertion sort:\n",
    "\n",
    "Take a list `xs`, make a new list `ys = []`.\n",
    "\n",
    "For each element `x` in `xs`, insert `x` into `ys` in a way so that `ys` stays sorted.\n",
    "\n",
    "You may use the insert function described in problem 3."
   ]
  },
  {
   "cell_type": "code",
   "execution_count": 29,
   "metadata": {
    "collapsed": false,
    "scrolled": true
   },
   "outputs": [],
   "source": [
    "# Complete Exercise 3 here.\n",
    "\n",
    "# This is one kind of insertion sort. I'm actually doing Forwards insertion.\n",
    "# I'm inserting numbers from left to right checking one by one.\n",
    "\n",
    "# Note: \n",
    "# I'm printing out the progression for visual only.\n",
    "# This can help you debug your code if you see something is not sorting right.\n",
    "\n",
    "def insertionsort(xs):\n",
    "    # Check if xs is a list that we can sort.\n",
    "    if len(xs)==0:\n",
    "        return \"EMPTY LIST\"\n",
    "    \n",
    "    # For xs with length > 1.\n",
    "    ys = []\n",
    "    for x in xs:\n",
    "\n",
    "        if len(ys)==0: # If ys is an empty list, insert/append x as first number.\n",
    "            ys.insert(0,x)\n",
    "            # ys.append(x)\n",
    "            # ys = ys+[x]\n",
    "            print(ys)   \n",
    "            \n",
    "        elif len(ys)!=0: # If ys has more at least one number in list.        \n",
    "            \n",
    "            for ii in range(len(ys)):\n",
    "                if x>=ys[ii]:\n",
    "                    ys.insert(ii,x)\n",
    "                    print(ys)\n",
    "                    break\n",
    "            if x<ys[-1]:\n",
    "                ys.append(x)\n",
    "#                 ys = ys+[x]\n",
    "                print(ys)   \n",
    "    return ys\n"
   ]
  },
  {
   "cell_type": "code",
   "execution_count": 30,
   "metadata": {
    "collapsed": false
   },
   "outputs": [
    {
     "name": "stdout",
     "output_type": "stream",
     "text": [
      "[5]\n",
      "[5, -8]\n",
      "[5, -8, -19]\n",
      "[7, 5, -8, -19]\n",
      "[7, 5, -3, -8, -19]\n",
      "[7, 5, 5, -3, -8, -19]\n",
      "[7, 5, 5, 0, -3, -8, -19]\n",
      "[7, 5, 5, 0, -3, -8, -19, -69]\n",
      "[7, 5, 5, 0, 0, -3, -8, -19, -69]\n",
      "[7, 5, 5, 0, 0, -1, -3, -8, -19, -69]\n",
      "[7, 5, 5, 5, 0, 0, -1, -3, -8, -19, -69]\n"
     ]
    },
    {
     "data": {
      "text/plain": [
       "[7, 5, 5, 5, 0, 0, -1, -3, -8, -19, -69]"
      ]
     },
     "execution_count": 30,
     "metadata": {},
     "output_type": "execute_result"
    }
   ],
   "source": [
    "insertionsort(ForP3)"
   ]
  },
  {
   "cell_type": "markdown",
   "metadata": {
    "collapsed": false
   },
   "source": [
    "### Exercise 4:\n",
    "Code up your own insertion function. Test it out on simple lists.\n",
    "\n"
   ]
  },
  {
   "cell_type": "code",
   "execution_count": 31,
   "metadata": {
    "collapsed": false,
    "scrolled": true
   },
   "outputs": [],
   "source": [
    "# Complete Exercise 4 here.\n",
    "def myinsert(mylist,indexpos,number):\n",
    "    mynewlist = mylist[0:indexpos]+[number]+mylist[indexpos:len(mylist)]\n",
    "    return mynewlist"
   ]
  },
  {
   "cell_type": "code",
   "execution_count": 32,
   "metadata": {
    "collapsed": false
   },
   "outputs": [
    {
     "name": "stdout",
     "output_type": "stream",
     "text": [
      "[5, -8, -19, 7, -3, 5, 0, -70, -69, 0, -1, 5]\n"
     ]
    }
   ],
   "source": [
    "ForP4 = myinsert(ForP4,7,-70)\n",
    "print(ForP4)"
   ]
  },
  {
   "cell_type": "code",
   "execution_count": 33,
   "metadata": {
    "collapsed": true
   },
   "outputs": [],
   "source": [
    "\n",
    "def insertionsortVer2(xs):\n",
    "    # Check if xs is a list that we can sort.\n",
    "    if len(xs)==0:\n",
    "        return \"EMPTY LIST\"\n",
    "    \n",
    "    # For xs with length > 1.\n",
    "    ys = []\n",
    "    for x in xs:\n",
    "\n",
    "        if len(ys)==0: # If ys is an empty list, insert/append x as first number.\n",
    "            ys = myinsert(ys,0,x)\n",
    "            # ys.append(x)\n",
    "            # ys = ys+[x]\n",
    "            print(ys)   \n",
    "            \n",
    "        elif len(ys)!=0: # If ys has more at least one number in list.        \n",
    "            \n",
    "            for ii in range(len(ys)):\n",
    "                if x>=ys[ii]:\n",
    "                    ys = myinsert(ys,ii,x)\n",
    "                    print(ys)\n",
    "                    break\n",
    "            if x<ys[-1]:\n",
    "                ys.append(x)\n",
    "#                 ys = ys+[x]\n",
    "                print(ys)   \n",
    "    return ys\n"
   ]
  },
  {
   "cell_type": "code",
   "execution_count": 34,
   "metadata": {
    "collapsed": false
   },
   "outputs": [
    {
     "name": "stdout",
     "output_type": "stream",
     "text": [
      "[5]\n",
      "[5, -8]\n",
      "[5, -8, -19]\n",
      "[7, 5, -8, -19]\n",
      "[7, 5, -3, -8, -19]\n",
      "[7, 5, 5, -3, -8, -19]\n",
      "[7, 5, 5, 0, -3, -8, -19]\n",
      "[7, 5, 5, 0, -3, -8, -19, -69]\n",
      "[7, 5, 5, 0, 0, -3, -8, -19, -69]\n",
      "[7, 5, 5, 0, 0, -1, -3, -8, -19, -69]\n",
      "[7, 5, 5, 5, 0, 0, -1, -3, -8, -19, -69]\n"
     ]
    },
    {
     "data": {
      "text/plain": [
       "[7, 5, 5, 5, 0, 0, -1, -3, -8, -19, -69]"
      ]
     },
     "execution_count": 34,
     "metadata": {},
     "output_type": "execute_result"
    }
   ],
   "source": [
    "insertionsortVer2(theList)"
   ]
  },
  {
   "cell_type": "code",
   "execution_count": null,
   "metadata": {
    "collapsed": true
   },
   "outputs": [],
   "source": []
  }
 ],
 "metadata": {
  "anaconda-cloud": {},
  "kernelspec": {
   "display_name": "Python [conda root]",
   "language": "python",
   "name": "conda-root-py"
  },
  "language_info": {
   "codemirror_mode": {
    "name": "ipython",
    "version": 3
   },
   "file_extension": ".py",
   "mimetype": "text/x-python",
   "name": "python",
   "nbconvert_exporter": "python",
   "pygments_lexer": "ipython3",
   "version": "3.5.2"
  }
 },
 "nbformat": 4,
 "nbformat_minor": 2
}
