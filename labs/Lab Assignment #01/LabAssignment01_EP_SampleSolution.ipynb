{
 "cells": [
  {
   "cell_type": "markdown",
   "metadata": {},
   "source": [
    "## Lab Assignment 1 - Sample Solution by Eric Puttock (Eputtock@uci.edu)\n",
    "\n",
    "Please fill this notebook with your code and explainations, run everything, save the notebook and upload to canvas.\n",
    "\n",
    "This lab assignment contains three problems. Read each problem carefully and answer them the best you can."
   ]
  },
  {
   "cell_type": "markdown",
   "metadata": {},
   "source": [
    "### Problem 1\n",
    "\n",
    "Create variables root1 and root2 that represent the two roots to the quadratic equation $x^2 + x - 1$ using only the operations: $**$ (exponentiation), $*$ (multiplication), + (addition), - (subtraction). Print out both roots."
   ]
  },
  {
   "cell_type": "code",
   "execution_count": 1,
   "metadata": {
    "collapsed": false,
    "scrolled": false
   },
   "outputs": [
    {
     "name": "stdout",
     "output_type": "stream",
     "text": [
      "0.6180339887498949\n",
      "-1.618033988749895\n"
     ]
    }
   ],
   "source": [
    "root1 = (-(1) + ((1)**2-4*(1)*(-1))**(0.5))/(2*(1))\n",
    "root2 = (-(1) - ((1)**2-4*(1)*(-1))**(0.5))/(2*(1))\n",
    "print(root1)\n",
    "print(root2)\n",
    "\n",
    "# Remember, you can always check your work before submission:\n",
    "# print(root1**2. + root1 - 1.)\n",
    "# print(root2**2. + root2 - 1.)"
   ]
  },
  {
   "cell_type": "markdown",
   "metadata": {},
   "source": [
    "### Problem 2\n",
    "\n",
    "Suppose the math module is already imported in your notebook. Explain in your own words why an error occurs evaluating the following: root = 3 + math.sqrt(4*2-9)"
   ]
  },
  {
   "cell_type": "markdown",
   "metadata": {},
   "source": [
    "Sample Solution:\n",
    "\n",
    "The domain of the sqrt(x) function is $x\\geq0$. The line of code given tries to evaluate sqrt(-1). The domain does not include -1."
   ]
  },
  {
   "cell_type": "markdown",
   "metadata": {},
   "source": [
    "### Problem 3\n",
    "\n",
    "Create a function called myquadroots(b,c) that returns one of the roots to the quadratic polynomial $x^2 + bx + c$. You may use the sqrt() function in the math module. Show that your function works by applying it to $x^2 + x - 1$ from problem 1."
   ]
  },
  {
   "cell_type": "code",
   "execution_count": 2,
   "metadata": {
    "collapsed": false
   },
   "outputs": [],
   "source": [
    "# Sample Solution 1:\n",
    "def myquadroots(b,c):\n",
    "    root1 = (-(b)+(((b)**2 - 4*(1)*(c)))**(0.5))/(2*(1))\n",
    "    #root2 = (-(b)-(((b)**2 - 4*(1)*(c)))**(0.5))/(2*(1))    \n",
    "    return root1"
   ]
  },
  {
   "cell_type": "code",
   "execution_count": 3,
   "metadata": {
    "collapsed": false
   },
   "outputs": [
    {
     "data": {
      "text/plain": [
       "0.6180339887498949"
      ]
     },
     "execution_count": 3,
     "metadata": {},
     "output_type": "execute_result"
    }
   ],
   "source": [
    "myquadroots(1,-1)"
   ]
  },
  {
   "cell_type": "code",
   "execution_count": 4,
   "metadata": {
    "collapsed": true
   },
   "outputs": [],
   "source": [
    "# Sample Solution 2:\n",
    "import math\n",
    "def myquadroots(b,c):\n",
    "    #root1 = (-(b)+math.sqrt((b)**2 - 4*(1)*(c)))/(2*(1))\n",
    "    root2 = (-(b)-math.sqrt((b)**2 - 4*(1)*(c)))/(2*(1))    \n",
    "    return root2"
   ]
  },
  {
   "cell_type": "code",
   "execution_count": 5,
   "metadata": {
    "collapsed": false
   },
   "outputs": [
    {
     "data": {
      "text/plain": [
       "-1.618033988749895"
      ]
     },
     "execution_count": 5,
     "metadata": {},
     "output_type": "execute_result"
    }
   ],
   "source": [
    "myquadroots(1,-1)"
   ]
  }
 ],
 "metadata": {
  "anaconda-cloud": {},
  "kernelspec": {
   "display_name": "Python [default]",
   "language": "python",
   "name": "python3"
  },
  "language_info": {
   "codemirror_mode": {
    "name": "ipython",
    "version": 3
   },
   "file_extension": ".py",
   "mimetype": "text/x-python",
   "name": "python",
   "nbconvert_exporter": "python",
   "pygments_lexer": "ipython3",
   "version": "3.5.2"
  }
 },
 "nbformat": 4,
 "nbformat_minor": 2
}
