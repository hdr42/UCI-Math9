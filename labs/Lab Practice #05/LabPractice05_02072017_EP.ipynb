{
 "cells": [
  {
   "cell_type": "markdown",
   "metadata": {},
   "source": [
    "# Lab Practice #05\n",
    "\n",
    "This notebook does not need to be submitted. This is only for you to gain experience and get some practice."
   ]
  },
  {
   "cell_type": "markdown",
   "metadata": {},
   "source": [
    "## List vs Tuples"
   ]
  },
  {
   "cell_type": "code",
   "execution_count": 1,
   "metadata": {
    "collapsed": false,
    "scrolled": true
   },
   "outputs": [],
   "source": [
    "# Lists are mutable.\n",
    "# Tuples are immutable."
   ]
  },
  {
   "cell_type": "code",
   "execution_count": 2,
   "metadata": {
    "collapsed": false,
    "scrolled": true
   },
   "outputs": [],
   "source": [
    "# Note the difference between square brackets [] and parenthesis ().\n",
    "mylist1  = [2,3,-4,7,3]   # List.\n",
    "mytuple1 = (2,3,-4,7,3)   # Tuple."
   ]
  },
  {
   "cell_type": "code",
   "execution_count": 3,
   "metadata": {
    "collapsed": false,
    "scrolled": true
   },
   "outputs": [
    {
     "name": "stdout",
     "output_type": "stream",
     "text": [
      "-4 7\n",
      "-4 7\n"
     ]
    }
   ],
   "source": [
    "# Access entries in the same way.\n",
    "print(mylist1[2],mylist1[-2])\n",
    "print(mytuple1[2],mytuple1[-2])"
   ]
  },
  {
   "cell_type": "code",
   "execution_count": 4,
   "metadata": {
    "collapsed": false,
    "scrolled": true
   },
   "outputs": [
    {
     "name": "stdout",
     "output_type": "stream",
     "text": [
      "[2, 3, -4, 7, 3]\n",
      "[2, 7, -4, 3, 3]\n"
     ]
    }
   ],
   "source": [
    "# What are we trying to do here?\n",
    "print(mylist1)\n",
    "dup = mylist1[1]\n",
    "mylist1[ 1]  =  mylist1[ -2]\n",
    "mylist1[-2]  =  dup\n",
    "print(mylist1)"
   ]
  },
  {
   "cell_type": "code",
   "execution_count": 5,
   "metadata": {
    "collapsed": false,
    "scrolled": true
   },
   "outputs": [
    {
     "name": "stdout",
     "output_type": "stream",
     "text": [
      "(2, 3, -4, 7, 3)\n"
     ]
    },
    {
     "ename": "TypeError",
     "evalue": "'tuple' object does not support item assignment",
     "output_type": "error",
     "traceback": [
      "\u001b[0;31m---------------------------------------------------------------------------\u001b[0m",
      "\u001b[0;31mTypeError\u001b[0m                                 Traceback (most recent call last)",
      "\u001b[0;32m<ipython-input-5-dfac459e3438>\u001b[0m in \u001b[0;36m<module>\u001b[0;34m()\u001b[0m\n\u001b[1;32m      2\u001b[0m \u001b[0;31m# Why do we expect to get an error?\u001b[0m\u001b[0;34m\u001b[0m\u001b[0;34m\u001b[0m\u001b[0m\n\u001b[1;32m      3\u001b[0m \u001b[0mprint\u001b[0m\u001b[0;34m(\u001b[0m\u001b[0mmytuple1\u001b[0m\u001b[0;34m)\u001b[0m\u001b[0;34m\u001b[0m\u001b[0m\n\u001b[0;32m----> 4\u001b[0;31m \u001b[0mmytuple1\u001b[0m\u001b[0;34m[\u001b[0m\u001b[0;36m3\u001b[0m\u001b[0;34m]\u001b[0m \u001b[0;34m=\u001b[0m \u001b[0;34m-\u001b[0m\u001b[0;36m1000\u001b[0m\u001b[0;34m\u001b[0m\u001b[0m\n\u001b[0m\u001b[1;32m      5\u001b[0m \u001b[0mprint\u001b[0m\u001b[0;34m(\u001b[0m\u001b[0;34m\"hello\"\u001b[0m\u001b[0;34m)\u001b[0m\u001b[0;34m\u001b[0m\u001b[0m\n\u001b[1;32m      6\u001b[0m \u001b[0;31m# This line above never gets evaluated because\u001b[0m\u001b[0;34m\u001b[0m\u001b[0;34m\u001b[0m\u001b[0m\n",
      "\u001b[0;31mTypeError\u001b[0m: 'tuple' object does not support item assignment"
     ]
    }
   ],
   "source": [
    "# Don't run this block of code. You will get an error.\n",
    "# Why do we expect to get an error?\n",
    "print(mytuple1)\n",
    "mytuple1[3] = -1000\n",
    "print(\"hello\") \n",
    "# This line above never gets evaluated because \n",
    "# of the error in previous line."
   ]
  },
  {
   "cell_type": "code",
   "execution_count": 6,
   "metadata": {
    "collapsed": false
   },
   "outputs": [
    {
     "name": "stdout",
     "output_type": "stream",
     "text": [
      "-0.015625\n",
      "0.015625\n"
     ]
    }
   ],
   "source": [
    "print(-2**-6)\n",
    "# -1 * (1/2)*(1/2)*(1/2)*(1/2)* ...\n",
    "print((-2)**(-6))\n",
    "# (-1/2)*(-1/2)*(-1/2)*(-1/2)* ..."
   ]
  },
  {
   "cell_type": "markdown",
   "metadata": {},
   "source": [
    "Form a list [-2,1,-2,4,-8,16] using list comprehension.\n",
    "Make the list using two different ways.\n",
    "\n",
    "Method 1: [ ??? for k in ??? ]\n",
    "\n",
    "Method 2: list( ??? for k in ??? )"
   ]
  },
  {
   "cell_type": "code",
   "execution_count": 7,
   "metadata": {
    "collapsed": false
   },
   "outputs": [
    {
     "name": "stdout",
     "output_type": "stream",
     "text": [
      "[-2, 1, -2, 4, -8, 16, -32]\n",
      "[-2, 1, -2, 4, -8, 16, -32]\n"
     ]
    }
   ],
   "source": [
    "listcomp1  = [(-2)**abs(k) for k in range(-1,6)]\n",
    "print(listcomp1)\n",
    "\n",
    "listcomp2  = list((-2)**abs(k) for k in range(-1,6))\n",
    "print(listcomp2)"
   ]
  },
  {
   "cell_type": "markdown",
   "metadata": {},
   "source": [
    "Form the same collection of numbers as a tuple.\n",
    "\n",
    "That is, form (-2,1,-2,4,-8,16,-32) using:\n",
    "\n",
    "tuple( ??? for k in ??? )\n",
    "\n",
    "Note: The other approach doesn't work. ( ??? for k in ??? ) ."
   ]
  },
  {
   "cell_type": "code",
   "execution_count": 8,
   "metadata": {
    "collapsed": false,
    "scrolled": true
   },
   "outputs": [
    {
     "name": "stdout",
     "output_type": "stream",
     "text": [
      "(-2, 1, -2, 4, -8, 16, -32)\n",
      "[-2, 1, -2, 4, -8, 16, -32]\n"
     ]
    }
   ],
   "source": [
    "tuplecomp1 = tuple( x for x in listcomp2 )\n",
    "print(tuplecomp1)\n",
    "print(listcomp2)"
   ]
  },
  {
   "cell_type": "markdown",
   "metadata": {},
   "source": [
    "## Functions with multiple outputs"
   ]
  },
  {
   "cell_type": "code",
   "execution_count": 9,
   "metadata": {
    "collapsed": false,
    "scrolled": true
   },
   "outputs": [
    {
     "name": "stdout",
     "output_type": "stream",
     "text": [
      "3 2\n"
     ]
    }
   ],
   "source": [
    "# You saw this in Fridays lecture:\n",
    "def division_alg(a,b):\n",
    "    return a//b, a%b\n",
    "\n",
    "q, r = division_alg(11,3)\n",
    "print(q,r)"
   ]
  },
  {
   "cell_type": "markdown",
   "metadata": {},
   "source": [
    "What does the following function do?"
   ]
  },
  {
   "cell_type": "code",
   "execution_count": 10,
   "metadata": {
    "collapsed": false,
    "scrolled": true
   },
   "outputs": [],
   "source": [
    "def mulSN(mS,mN):\n",
    "    # mS may be string or positive integer.\n",
    "    # mN positive integer.\n",
    "    if mN == 0:\n",
    "        return list()\n",
    "    \n",
    "    x1 = mulSN(mS,mN-1)\n",
    "    \n",
    "    x = x1 + list( mS*n for n in range(0,mN))    \n",
    "    \n",
    "    return x"
   ]
  },
  {
   "cell_type": "code",
   "execution_count": 11,
   "metadata": {
    "collapsed": false
   },
   "outputs": [
    {
     "name": "stdout",
     "output_type": "stream",
     "text": [
      "[0, 0, 3, 0, 3, 6, 0, 3, 6, 9, 0, 3, 6, 9, 12]\n"
     ]
    }
   ],
   "source": [
    "output1=mulSN(3,5)\n",
    "print(output1)"
   ]
  },
  {
   "cell_type": "markdown",
   "metadata": {},
   "source": [
    "*Recursively* produces a list of multiples of mS starting from 0, one to mN many times.\n",
    "\n",
    "Example above produces:\n",
    "\n",
    "`0`\n",
    "\n",
    "`0,3`\n",
    "\n",
    "`0,3,9`\n",
    "\n",
    "`0,3,6,9`\n",
    "\n",
    "And puts it tegether."
   ]
  },
  {
   "cell_type": "code",
   "execution_count": 12,
   "metadata": {
    "collapsed": false
   },
   "outputs": [
    {
     "name": "stdout",
     "output_type": "stream",
     "text": [
      "['', '', 'hello', '', 'hello', 'hellohello', '', 'hello', 'hellohello', 'hellohellohello', '', 'hello', 'hellohello', 'hellohellohello', 'hellohellohellohello']\n"
     ]
    }
   ],
   "source": [
    "output2=mulSN(\"hello\",5)\n",
    "print(output2)\n",
    "# Similiar idea for strings."
   ]
  },
  {
   "cell_type": "markdown",
   "metadata": {},
   "source": [
    "## Lambda"
   ]
  },
  {
   "cell_type": "code",
   "execution_count": 13,
   "metadata": {
    "collapsed": false
   },
   "outputs": [],
   "source": [
    "myLam = (lambda x,y: (x**2 + y**2)**(0.5) )"
   ]
  },
  {
   "cell_type": "code",
   "execution_count": 14,
   "metadata": {
    "collapsed": false
   },
   "outputs": [
    {
     "data": {
      "text/plain": [
       "13.0"
      ]
     },
     "execution_count": 14,
     "metadata": {},
     "output_type": "execute_result"
    }
   ],
   "source": [
    "myLam(5,12)"
   ]
  },
  {
   "cell_type": "code",
   "execution_count": 15,
   "metadata": {
    "collapsed": false
   },
   "outputs": [
    {
     "data": {
      "text/plain": [
       "13.0"
      ]
     },
     "execution_count": 15,
     "metadata": {},
     "output_type": "execute_result"
    }
   ],
   "source": [
    "(lambda x,y : (x**2 + y**2)**(0.5))(5,12)"
   ]
  },
  {
   "cell_type": "markdown",
   "metadata": {},
   "source": [
    "Could be useful for repeated application of the same function."
   ]
  },
  {
   "cell_type": "code",
   "execution_count": 16,
   "metadata": {
    "collapsed": false
   },
   "outputs": [
    {
     "name": "stdout",
     "output_type": "stream",
     "text": [
      "[1.4142135623730951, 2.8284271247461903, 4.242640687119285, 5.656854249492381, 7.0710678118654755, 8.48528137423857, 9.899494936611665, 11.313708498984761, 12.727922061357855]\n"
     ]
    }
   ],
   "source": [
    "mylist3 = []\n",
    "for k in range(1,10):\n",
    "    mylist3.insert(k,myLam(k,k))\n",
    "print(mylist3)    \n",
    "# This would actually return a list of numbers containing\n",
    "# (k*k + k*k)**(0.5) = (2*k*k)**(0.5)\n",
    "# sqrt(2), sqrt(8), sqrt(18), sqrt(32), sqrt(50), etc."
   ]
  },
  {
   "cell_type": "code",
   "execution_count": 17,
   "metadata": {
    "collapsed": false
   },
   "outputs": [
    {
     "name": "stdout",
     "output_type": "stream",
     "text": [
      "[1, 4, 7, 15]\n",
      "[1, 4, 7, 15, 3]\n"
     ]
    }
   ],
   "source": [
    "# Strange discovery during class.\n",
    "x = [1,4,7]\n",
    "x.append(15)\n",
    "print(x)\n",
    "x.insert(len(x)+10,3)\n",
    "# If you pick an index larger than the list, then insert actually appends to the end.\n",
    "print(x)"
   ]
  },
  {
   "cell_type": "markdown",
   "metadata": {
    "collapsed": false
   },
   "source": [
    "### Exercise 1:\n",
    "Write a function powersOfTwo(N) that recursively computes $2^{N}$ for non-negative integer N.\n",
    "\n",
    "Don't forget about N = 0 (or N = 1).\n",
    "\n",
    "\n",
    "\n"
   ]
  },
  {
   "cell_type": "code",
   "execution_count": 18,
   "metadata": {
    "collapsed": false,
    "scrolled": true
   },
   "outputs": [],
   "source": [
    "# Complete Exercise 1 here.\n",
    "# powersOfTwo(5) should return 32\n",
    "\n",
    "# 2*output...\n",
    "#     2*output...\n",
    "#         2*output..."
   ]
  },
  {
   "cell_type": "code",
   "execution_count": 20,
   "metadata": {
    "collapsed": true
   },
   "outputs": [],
   "source": [
    "def powersOfTwo(N):\n",
    "    # N non-negative integer.\n",
    "    if N == 0:\n",
    "        return 1  # Return 2**(0) = 1\n",
    "    \n",
    "    x1 = 2*powersOfTwo(N-1)  # 2*(2**(N-1))\n",
    "    \n",
    "    return x1"
   ]
  },
  {
   "cell_type": "code",
   "execution_count": 21,
   "metadata": {
    "collapsed": false
   },
   "outputs": [
    {
     "data": {
      "text/plain": [
       "32"
      ]
     },
     "execution_count": 21,
     "metadata": {},
     "output_type": "execute_result"
    }
   ],
   "source": [
    "powersOfTwo(5)"
   ]
  },
  {
   "cell_type": "markdown",
   "metadata": {},
   "source": [
    "### Exercise 2:\n",
    "Modify the above function to handle negative integer N.\n"
   ]
  },
  {
   "cell_type": "code",
   "execution_count": 22,
   "metadata": {
    "collapsed": true
   },
   "outputs": [],
   "source": [
    "# Complete Exercise 2 here.\n",
    "def powersOfTwoMod(N):\n",
    "    # N non-negative integer.\n",
    "    if N == 0:\n",
    "        return 1  # Return 2**(0) = 1\n",
    "    if N>0:\n",
    "        x1 = 2*powersOfTwoMod(N-1)  # 2*(2**(N-1))\n",
    "    if N<0:        \n",
    "        # 2^(N) = ((2)**(-1)) * 2**(N+1) if N is Negative.\n",
    "        x1 = (0.5)*powersOfTwoMod(N+1) # ((2)**(-1)) * (2**(N+1))\n",
    "    \n",
    "        # Note: This could be a little confusing at first, but with some thought\n",
    "        # we should be able to convince ourselves this is equivalent to:\n",
    "        # 2**(-k) = ((2)**(-1)) * 2**(-k+1) if k was POSITIVE.\n",
    "    \n",
    "    return x1"
   ]
  },
  {
   "cell_type": "code",
   "execution_count": 23,
   "metadata": {
    "collapsed": false
   },
   "outputs": [
    {
     "name": "stdout",
     "output_type": "stream",
     "text": [
      "32\n",
      "1\n",
      "7.888609052210118e-31\n"
     ]
    }
   ],
   "source": [
    "print(powersOfTwoMod(5))\n",
    "print(powersOfTwoMod(0))\n",
    "print(powersOfTwoMod(-100))"
   ]
  },
  {
   "cell_type": "markdown",
   "metadata": {},
   "source": [
    "### Exercise 3:\n",
    "Suppose you live in a field surrounded by flying evil cows and you need to protect yourself.\n",
    "\n",
    "You are able to dodge an evil cow flying towards you from 10 meters away.\n",
    "\n",
    "Write a function HitOrMiss(x,y), that returns the distance from you and the cow, and the string \"Hit\" if you were too close or \"Miss\" if you're far enough away from the flying evil cow.\n",
    "\n",
    "I should be able to store the outputs as myDist,Result = HitOrMiss(?,?).\n",
    "\n",
    "Example:\n",
    "\n",
    "myDist, Result = HitOrMiss(3,4)\n",
    "\n",
    "should return myDist being 5.0 and Result being \"Hit\".\n",
    "\n"
   ]
  },
  {
   "cell_type": "code",
   "execution_count": 24,
   "metadata": {
    "collapsed": false
   },
   "outputs": [],
   "source": [
    "# Complete Exercise 3 here.\n",
    "def HitOrMiss(x,y):\n",
    "    # Let's say (x,y) is the position of cow relative to your position (0,0).\n",
    "    # This can be extended to 3D easily by adding a variable z.\n",
    "    myLam = (lambda x,y: (x**2 + y**2)**(0.5) )\n",
    "    MyDistanceFromEvilCow = myLam(x,y)\n",
    "    if MyDistanceFromEvilCow < 10:\n",
    "        Result = \"Hit\"\n",
    "    else:\n",
    "        Result = \"Miss\"\n",
    "    return MyDistanceFromEvilCow, Result"
   ]
  },
  {
   "cell_type": "code",
   "execution_count": 25,
   "metadata": {
    "collapsed": false
   },
   "outputs": [
    {
     "name": "stdout",
     "output_type": "stream",
     "text": [
      "5.0\n",
      "Hit\n"
     ]
    }
   ],
   "source": [
    "myDist,Result = HitOrMiss(3,4)\n",
    "print(myDist)\n",
    "print(Result)"
   ]
  },
  {
   "cell_type": "markdown",
   "metadata": {},
   "source": [
    "### Review Lambda, Map, Filter, Reduce for Thursdays lab assignment."
   ]
  },
  {
   "cell_type": "code",
   "execution_count": 26,
   "metadata": {
    "collapsed": true
   },
   "outputs": [],
   "source": [
    "# Spend time reviewing lecture & ask questions."
   ]
  }
 ],
 "metadata": {
  "anaconda-cloud": {},
  "kernelspec": {
   "display_name": "Python [conda root]",
   "language": "python",
   "name": "conda-root-py"
  },
  "language_info": {
   "codemirror_mode": {
    "name": "ipython",
    "version": 3
   },
   "file_extension": ".py",
   "mimetype": "text/x-python",
   "name": "python",
   "nbconvert_exporter": "python",
   "pygments_lexer": "ipython3",
   "version": "3.5.2"
  }
 },
 "nbformat": 4,
 "nbformat_minor": 2
}
