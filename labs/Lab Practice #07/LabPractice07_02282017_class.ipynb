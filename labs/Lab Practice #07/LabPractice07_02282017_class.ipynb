{
 "cells": [
  {
   "cell_type": "markdown",
   "metadata": {},
   "source": [
    "# Lab Practice #07\n",
    "\n",
    "This notebook does not need to be submitted. This is only for you to gain experience and get some practice."
   ]
  },
  {
   "cell_type": "markdown",
   "metadata": {},
   "source": [
    "## Numpy Arrays"
   ]
  },
  {
   "cell_type": "code",
   "execution_count": 1,
   "metadata": {
    "collapsed": false,
    "scrolled": true
   },
   "outputs": [],
   "source": [
    "# Recall from lecture you created numpy arrays."
   ]
  },
  {
   "cell_type": "code",
   "execution_count": 2,
   "metadata": {
    "collapsed": true
   },
   "outputs": [],
   "source": [
    "import numpy as np"
   ]
  },
  {
   "cell_type": "code",
   "execution_count": 4,
   "metadata": {
    "collapsed": false
   },
   "outputs": [
    {
     "name": "stdout",
     "output_type": "stream",
     "text": [
      "[[ 0.  0.  0.]\n",
      " [ 0.  0.  0.]\n",
      " [ 0.  0.  0.]] \n",
      "\n",
      "[[ 1.  1.  1.]\n",
      " [ 1.  1.  1.]\n",
      " [ 1.  1.  1.]] \n",
      "\n",
      "[[ 1.  0.  0.]\n",
      " [ 0.  1.  0.]\n",
      " [ 0.  0.  1.]] \n",
      "\n",
      "[[ 2.  1.  1.]\n",
      " [ 1.  2.  1.]\n",
      " [ 1.  1.  2.]] \n",
      "\n",
      "[[  2.   2.   3.]\n",
      " [  4.   6.   6.]\n",
      " [  7.   8.  10.]]\n"
     ]
    }
   ],
   "source": [
    "arrOne = np.zeros([3,3])\n",
    "arrTwo = np.ones([3,3])\n",
    "arrThree = np.identity(3)\n",
    "arrFour = np.identity(3) + 1\n",
    "arrFive = arrFour + np.array(range(9)).reshape(3,3)\n",
    "print(arrOne,\"\\n\") #recall \"\\n\" creates a new line. notice the additional spacing.\n",
    "print(arrTwo,\"\\n\")\n",
    "print(arrThree,\"\\n\")\n",
    "print(arrFour,\"\\n\")\n",
    "print(arrFive)"
   ]
  },
  {
   "cell_type": "code",
   "execution_count": 5,
   "metadata": {
    "collapsed": false
   },
   "outputs": [
    {
     "name": "stdout",
     "output_type": "stream",
     "text": [
      "[[3 7 1 2 9 6 2]] \n",
      "\n",
      "[[3]\n",
      " [7]\n",
      " [1]\n",
      " [2]\n",
      " [9]\n",
      " [6]\n",
      " [2]]\n"
     ]
    }
   ],
   "source": [
    "arrSix = np.array([ [3,7,1,2,9,6,2] ]) # Note the double square brackets.\n",
    "arrSeven = np.array([ [3],[7],[1],[2],[9],[6],[2] ])\n",
    "print(arrSix,\"\\n\")\n",
    "print(arrSeven)"
   ]
  },
  {
   "cell_type": "code",
   "execution_count": 5,
   "metadata": {
    "collapsed": false
   },
   "outputs": [
    {
     "name": "stdout",
     "output_type": "stream",
     "text": [
      "(1, 7) \n",
      "\n",
      "(7, 1)\n"
     ]
    }
   ],
   "source": [
    "print(arrSix.shape,\"\\n\")\n",
    "print(arrSeven.shape)"
   ]
  },
  {
   "cell_type": "code",
   "execution_count": 6,
   "metadata": {
    "collapsed": true
   },
   "outputs": [],
   "source": [
    "def myfun(x):\n",
    "    y = x%2\n",
    "    return y"
   ]
  },
  {
   "cell_type": "code",
   "execution_count": 7,
   "metadata": {
    "collapsed": false
   },
   "outputs": [
    {
     "name": "stdout",
     "output_type": "stream",
     "text": [
      "[[  2.   2.   3.]\n",
      " [  4.   6.   6.]\n",
      " [  7.   8.  10.]] \n",
      "\n",
      "[[ 0.  0.  1.]\n",
      " [ 0.  0.  0.]\n",
      " [ 1.  0.  0.]]\n"
     ]
    }
   ],
   "source": [
    "print(arrFive,\"\\n\")\n",
    "zs = np.vectorize(myfun)(arrFive)\n",
    "print(zs)"
   ]
  },
  {
   "cell_type": "markdown",
   "metadata": {},
   "source": [
    "### Complete the following exercises."
   ]
  },
  {
   "cell_type": "markdown",
   "metadata": {
    "collapsed": false
   },
   "source": [
    "### Exercise 1:\n",
    "* Create an array (name it primeArray) containing the first 100 prime numbers.\n",
    "    You may use the isprime(n) function (positive integer n).\n",
    "* Reshape the array so that it becomes a 4 row by 25 column array.\n",
    "* Compute the sum of each row.\n",
    "* Compute the average of each column.\n"
   ]
  },
  {
   "cell_type": "code",
   "execution_count": 40,
   "metadata": {
    "collapsed": false,
    "scrolled": true
   },
   "outputs": [
    {
     "name": "stdout",
     "output_type": "stream",
     "text": [
      "[[  2   3   5   7  11  13  17  19  23  29  31  37  41  43  47  53  59  61\n",
      "   67  71  73  79  83  89  97 101 103 107 109 113 127 131 137 139 149 151\n",
      "  157 163 167 173 179 181 191 193 197 199 211 223 227 229 233 239 241 251\n",
      "  257 263 269 271 277 281 283 293 307 311 313 317 331 337 347 349 353 359\n",
      "  367 373 379 383 389 397 401 409 419 421 431 433 439 443 449 457 461 463\n",
      "  467 479 487 491 499 503 509 521 523 541]]\n",
      "(1, 100) \n",
      "\n",
      "[[  2   3   5   7  11  13  17  19  23  29  31  37  41  43  47  53  59  61\n",
      "   67  71  73  79  83  89  97]\n",
      " [101 103 107 109 113 127 131 137 139 149 151 157 163 167 173 179 181 191\n",
      "  193 197 199 211 223 227 229]\n",
      " [233 239 241 251 257 263 269 271 277 281 283 293 307 311 313 317 331 337\n",
      "  347 349 353 359 367 373 379]\n",
      " [383 389 397 401 409 419 421 431 433 439 443 449 457 461 463 467 479 487\n",
      "  491 499 503 509 521 523 541]]\n",
      "\n",
      " \n",
      " [ 1060  4057  7601 11415] \n",
      "\n",
      "\n",
      " \n",
      " [ 179.75  183.5   187.5   192.    197.5   205.5   209.5   214.5   218.\n",
      "  224.5   227.    234.    242.    245.5   249.    254.    262.5   269.\n",
      "  274.5   279.    282.    289.5   298.5   303.    311.5 ]\n"
     ]
    }
   ],
   "source": [
    "import numpy as np\n",
    "# Complete Exercise 1 here.\n",
    "def isprime(n):\n",
    "    if n<=1:\n",
    "        return False\n",
    "    d = 2\n",
    "    while d<n:\n",
    "        if n % d == 0:\n",
    "            return False\n",
    "        d += 1\n",
    "    return True\n",
    "\n",
    "SOMELIST = []\n",
    "n = 2\n",
    "while len(SOMELIST)<100:\n",
    "    if isprime(n): # This is already a boolean statement.\n",
    "                   # It returns True or False.\n",
    "        SOMELIST = SOMELIST + [n]\n",
    "        #SOMELIST.append(n) # is the same thing\n",
    "        #SOMELIST.extend([n]) # Also the same thing.\n",
    "    n += 1\n",
    "primeArray = np.array([ SOMELIST ]) # HINT.\n",
    "print(primeArray)\n",
    "print(primeArray.shape,\"\\n\")\n",
    "newPrimeArray = primeArray.reshape(4,25)\n",
    "print(newPrimeArray)\n",
    "print(\"\\n\",\"\\n\",np.apply_along_axis(np.sum,1,newPrimeArray),\"\\n\") # ONE\n",
    "print(\"\\n\",\"\\n\",np.apply_along_axis(np.average,0,newPrimeArray))  # ZERO"
   ]
  },
  {
   "cell_type": "code",
   "execution_count": 38,
   "metadata": {
    "collapsed": false
   },
   "outputs": [
    {
     "name": "stdout",
     "output_type": "stream",
     "text": [
      "1060\n",
      "1060\n"
     ]
    }
   ],
   "source": [
    "print(np.sum(newPrimeArray[0,:]))\n",
    "print(sum(SOMELIST[0:25]))"
   ]
  },
  {
   "cell_type": "markdown",
   "metadata": {},
   "source": [
    "### Exercise 2:\n",
    "* Create a function primeFun(q) that takes in a prime number q and returns $q^{3}-2^{3}$.\n",
    "* Using np.vectorize apply primeFun to each entry of primeArray."
   ]
  },
  {
   "cell_type": "code",
   "execution_count": 48,
   "metadata": {
    "collapsed": false,
    "scrolled": true
   },
   "outputs": [
    {
     "name": "stdout",
     "output_type": "stream",
     "text": [
      "[[        0        19       117       335      1323      2189      4905\n",
      "       6851     12159     24381     29783     50645     68913     79499\n",
      "     103815    148869    205371    226973    300755    357903    389009\n",
      "     493031    571779    704961    912665   1030293   1092719   1225035\n",
      "    1295021   1442889   2048375   2248083   2571345   2685611   3307941\n",
      "    3442943   3869885   4330739   4657455   5177709   5735331   5929733\n",
      "    6967863   7189049   7645365   7880591   9393923  11089559  11697075\n",
      "   12008981  12649329  13651911  13997513  15813243  16974585  18191439\n",
      "   19465101  19902503  21253925  22188033  22665179  25153749  28934435\n",
      "   30080223  30664289  31855005  36264683  38272745  41781915  42508541\n",
      "   43986969  46268271  49430855  51895109  54439931  56181879  58863861\n",
      "   62570765  64481193  68417921  73560051  74618453  80062983  81182729\n",
      "   84604511  86938299  90518841  95443985  97972173  99252839 101847555\n",
      "  109902231 115501295 118370763 124251491 127263519 131872221 141420753\n",
      "  143055659 158340413]]\n"
     ]
    }
   ],
   "source": [
    "# Complete Exercise 2 here.\n",
    "def primeFun(q):\n",
    "    return (q**3 - 2**3)\n",
    "\n",
    "# def primeFun(q):\n",
    "#     return not isprime(q)\n",
    "\n",
    "zs = np.vectorize(primeFun)(primeArray)\n",
    "\n",
    "print(zs)\n"
   ]
  },
  {
   "cell_type": "markdown",
   "metadata": {},
   "source": [
    "### Exercise 3:"
   ]
  },
  {
   "cell_type": "code",
   "execution_count": 54,
   "metadata": {
    "collapsed": false
   },
   "outputs": [],
   "source": [
    "# You are given the following two numpy arrays.\n",
    "arrX = np.array([[1],[7]])\n",
    "arrY = np.array([[4,-1]])"
   ]
  },
  {
   "cell_type": "code",
   "execution_count": 55,
   "metadata": {
    "collapsed": false
   },
   "outputs": [
    {
     "name": "stdout",
     "output_type": "stream",
     "text": [
      "[[ 4 -1]\n",
      " [28 -7]]\n"
     ]
    }
   ],
   "source": [
    "# What is \"arrX.dot(arrY)\" doing?\n",
    "print(arrX.dot(arrY))"
   ]
  },
  {
   "cell_type": "code",
   "execution_count": 56,
   "metadata": {
    "collapsed": true
   },
   "outputs": [],
   "source": [
    "# This is matrix multiplication.\n",
    "# This is NOT dot product, this is NOT cross product."
   ]
  }
 ],
 "metadata": {
  "anaconda-cloud": {},
  "kernelspec": {
   "display_name": "Python [conda root]",
   "language": "python",
   "name": "conda-root-py"
  },
  "language_info": {
   "codemirror_mode": {
    "name": "ipython",
    "version": 3
   },
   "file_extension": ".py",
   "mimetype": "text/x-python",
   "name": "python",
   "nbconvert_exporter": "python",
   "pygments_lexer": "ipython3",
   "version": "3.5.2"
  }
 },
 "nbformat": 4,
 "nbformat_minor": 2
}
