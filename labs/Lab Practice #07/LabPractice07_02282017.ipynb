{
 "cells": [
  {
   "cell_type": "markdown",
   "metadata": {},
   "source": [
    "# Lab Practice #07\n",
    "\n",
    "This notebook does not need to be submitted. This is only for you to gain experience and get some practice."
   ]
  },
  {
   "cell_type": "markdown",
   "metadata": {},
   "source": [
    "## Numpy Arrays"
   ]
  },
  {
   "cell_type": "code",
   "execution_count": 1,
   "metadata": {
    "collapsed": false,
    "scrolled": true
   },
   "outputs": [],
   "source": [
    "# Recall from lecture you created numpy arrays."
   ]
  },
  {
   "cell_type": "code",
   "execution_count": 2,
   "metadata": {
    "collapsed": true
   },
   "outputs": [],
   "source": [
    "import numpy as np"
   ]
  },
  {
   "cell_type": "code",
   "execution_count": 3,
   "metadata": {
    "collapsed": false
   },
   "outputs": [
    {
     "name": "stdout",
     "output_type": "stream",
     "text": [
      "[[ 0.  0.  0.]\n",
      " [ 0.  0.  0.]\n",
      " [ 0.  0.  0.]] \n",
      "\n",
      "[[ 1.  1.  1.]\n",
      " [ 1.  1.  1.]\n",
      " [ 1.  1.  1.]] \n",
      "\n",
      "[[ 1.  0.  0.]\n",
      " [ 0.  1.  0.]\n",
      " [ 0.  0.  1.]] \n",
      "\n",
      "[[ 2.  1.  1.]\n",
      " [ 1.  2.  1.]\n",
      " [ 1.  1.  2.]] \n",
      "\n",
      "[[  2.   2.   3.]\n",
      " [  4.   6.   6.]\n",
      " [  7.   8.  10.]]\n"
     ]
    }
   ],
   "source": [
    "arrOne = np.zeros([3,3])\n",
    "arrTwo = np.ones([3,3])\n",
    "arrThree = np.identity(3)\n",
    "arrFour = np.identity(3) + 1\n",
    "arrFive = arrFour + np.array(range(9)).reshape(3,3)\n",
    "print(arrOne,\"\\n\") #recall \"\\n\" creates a new line. notice the additional spacing.\n",
    "print(arrTwo,\"\\n\")\n",
    "print(arrThree,\"\\n\")\n",
    "print(arrFour,\"\\n\")\n",
    "print(arrFive)"
   ]
  },
  {
   "cell_type": "code",
   "execution_count": 4,
   "metadata": {
    "collapsed": false
   },
   "outputs": [
    {
     "name": "stdout",
     "output_type": "stream",
     "text": [
      "[[3 7 1 2 9 6 2]] \n",
      "\n",
      "[[3]\n",
      " [7]\n",
      " [1]\n",
      " [2]\n",
      " [9]\n",
      " [6]\n",
      " [2]]\n"
     ]
    }
   ],
   "source": [
    "arrSix = np.array([ [3,7,1,2,9,6,2] ]) # Note the double square brackets.\n",
    "arrSeven = np.array([ [3],[7],[1],[2],[9],[6],[2] ])\n",
    "print(arrSix,\"\\n\")\n",
    "print(arrSeven)"
   ]
  },
  {
   "cell_type": "code",
   "execution_count": 5,
   "metadata": {
    "collapsed": false
   },
   "outputs": [
    {
     "name": "stdout",
     "output_type": "stream",
     "text": [
      "(1, 7) \n",
      "\n",
      "(7, 1)\n"
     ]
    }
   ],
   "source": [
    "print(arrSix.shape,\"\\n\")\n",
    "print(arrSeven.shape)"
   ]
  },
  {
   "cell_type": "code",
   "execution_count": 6,
   "metadata": {
    "collapsed": true
   },
   "outputs": [],
   "source": [
    "def myfun(x):\n",
    "    y = x%2\n",
    "    return y"
   ]
  },
  {
   "cell_type": "code",
   "execution_count": 7,
   "metadata": {
    "collapsed": false
   },
   "outputs": [
    {
     "name": "stdout",
     "output_type": "stream",
     "text": [
      "[[  2.   2.   3.]\n",
      " [  4.   6.   6.]\n",
      " [  7.   8.  10.]] \n",
      "\n",
      "[[ 0.  0.  1.]\n",
      " [ 0.  0.  0.]\n",
      " [ 1.  0.  0.]]\n"
     ]
    }
   ],
   "source": [
    "print(arrFive,\"\\n\")\n",
    "zs = np.vectorize(myfun)(arrFive)\n",
    "print(zs)"
   ]
  },
  {
   "cell_type": "markdown",
   "metadata": {},
   "source": [
    "### Complete the following exercises."
   ]
  },
  {
   "cell_type": "markdown",
   "metadata": {
    "collapsed": false
   },
   "source": [
    "### Exercise 1:\n",
    "* Create an array (name it primeArray) containing the first 100 prime numbers. You may use the isprime() function.\n",
    "* Reshape the array so that it becomes a 4 row by 25 column array.\n",
    "* Compute the sum of each row.\n",
    "* Compute the average of each column.\n"
   ]
  },
  {
   "cell_type": "code",
   "execution_count": 8,
   "metadata": {
    "collapsed": false,
    "scrolled": true
   },
   "outputs": [],
   "source": [
    "# Complete Exercise 1 here.\n"
   ]
  },
  {
   "cell_type": "markdown",
   "metadata": {},
   "source": [
    "### Exercise 2:\n",
    "* Create a function primeFun(q) that takes in a prime number q and returns $q^{3}-2^{3}$.\n",
    "* Using np.vectorize apply primeFun to each entry of primeArray."
   ]
  },
  {
   "cell_type": "code",
   "execution_count": 10,
   "metadata": {
    "collapsed": false
   },
   "outputs": [],
   "source": [
    "# Complete Exercise 2 here.\n"
   ]
  },
  {
   "cell_type": "markdown",
   "metadata": {},
   "source": [
    "### Exercise 3:"
   ]
  },
  {
   "cell_type": "code",
   "execution_count": 45,
   "metadata": {
    "collapsed": false
   },
   "outputs": [],
   "source": [
    "# You are given the following two numpy arrays.\n",
    "arrX = np.array([[1],[7]])\n",
    "arrY = np.array([[4,-1]])"
   ]
  },
  {
   "cell_type": "code",
   "execution_count": 46,
   "metadata": {
    "collapsed": false
   },
   "outputs": [
    {
     "name": "stdout",
     "output_type": "stream",
     "text": [
      "[[ 4 -1]\n",
      " [28 -7]]\n"
     ]
    }
   ],
   "source": [
    "# What is \"arrX.dot(arrY)\" doing?\n",
    "print(arrX.dot(arrY))"
   ]
  },
  {
   "cell_type": "code",
   "execution_count": null,
   "metadata": {
    "collapsed": true
   },
   "outputs": [],
   "source": []
  }
 ],
 "metadata": {
  "anaconda-cloud": {},
  "kernelspec": {
   "display_name": "Python [conda root]",
   "language": "python",
   "name": "conda-root-py"
  },
  "language_info": {
   "codemirror_mode": {
    "name": "ipython",
    "version": 3
   },
   "file_extension": ".py",
   "mimetype": "text/x-python",
   "name": "python",
   "nbconvert_exporter": "python",
   "pygments_lexer": "ipython3",
   "version": "3.5.2"
  }
 },
 "nbformat": 4,
 "nbformat_minor": 2
}
