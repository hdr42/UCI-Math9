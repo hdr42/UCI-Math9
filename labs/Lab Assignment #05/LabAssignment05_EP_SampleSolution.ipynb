{
 "cells": [
  {
   "cell_type": "markdown",
   "metadata": {},
   "source": [
    "## Lab Assignment 5\n",
    "\n",
    "Please fill this notebook with your code and explainations, run everything, save the notebook and upload to canvas.\n",
    "\n",
    "This lab assignment contains ***`THREE`*** problems. Read each problem carefully and answer them the best you can.\n",
    "\n",
    "Be sure to provide an explaination to your work using a comment."
   ]
  },
  {
   "cell_type": "markdown",
   "metadata": {},
   "source": [
    "### Problem 1\n",
    "Write a ONE-LINE function, name it LamEven, that forms a list of the first N even positive integers using a Lambda expression for input N.\n",
    "\n",
    "Example: `LamEven(3)` should produce the list `[2,4,6]`."
   ]
  },
  {
   "cell_type": "code",
   "execution_count": 5,
   "metadata": {
    "collapsed": false
   },
   "outputs": [
    {
     "name": "stdout",
     "output_type": "stream",
     "text": [
      "[2, 4, 6]\n"
     ]
    }
   ],
   "source": [
    "# For Problem 1.\n",
    "LamEven = lambda N: [x for x in range(2,2*(N+1),2)]\n",
    "print(LamEven(3))"
   ]
  },
  {
   "cell_type": "markdown",
   "metadata": {},
   "source": [
    "### Problem 2\n",
    "Use **FunProbTwo(inTuple)** function given below and **the filter function** to complete the problem (for full credit):\n",
    "\n",
    "1. Form a list, name it myTupleList, containing all tuples of the form (x,y) where x and y taken to be integers from 1 to 5. Print the list out.\n",
    "2. Determine the fraction of tuples that are in your list that sum up to a prime number."
   ]
  },
  {
   "cell_type": "code",
   "execution_count": 28,
   "metadata": {
    "collapsed": false
   },
   "outputs": [
    {
     "name": "stdout",
     "output_type": "stream",
     "text": [
      "[(1, 1), (1, 2), (1, 3), (1, 4), (1, 5), (2, 1), (2, 2), (2, 3), (2, 4), (2, 5), (3, 1), (3, 2), (3, 3), (3, 4), (3, 5), (4, 1), (4, 2), (4, 3), (4, 4), (4, 5), (5, 1), (5, 2), (5, 3), (5, 4), (5, 5)]\n"
     ]
    }
   ],
   "source": [
    "# For Problem 2 (Step 1).\n",
    "myTupleList = []\n",
    "for j in range(1,6):\n",
    "    for k in range(1,6):\n",
    "        myTupleList += [(j,k)]\n",
    "print(myTupleList)"
   ]
  },
  {
   "cell_type": "code",
   "execution_count": 27,
   "metadata": {
    "collapsed": true
   },
   "outputs": [],
   "source": [
    "def FunProbTwo(inTuple):\n",
    "    def isprime(n):\n",
    "        if n <= 1:\n",
    "            return False\n",
    "        d = 2\n",
    "        while d*d<=n:    # so clever!!!\n",
    "            if n % d  == 0:\n",
    "                return False\n",
    "            d += 1\n",
    "        return True\n",
    "    return isprime(inTuple[0]+inTuple[1])"
   ]
  },
  {
   "cell_type": "code",
   "execution_count": 29,
   "metadata": {
    "collapsed": false
   },
   "outputs": [
    {
     "name": "stdout",
     "output_type": "stream",
     "text": [
      "[(1, 1), (1, 2), (1, 4), (2, 1), (2, 3), (2, 5), (3, 2), (3, 4), (4, 1), (4, 3), (5, 2)]\n",
      "0.44\n"
     ]
    }
   ],
   "source": [
    "# For Problem 2 (Step 2).\n",
    "myFilteredTupleList = list(filter(FunProbTwo,myTupleList))\n",
    "print(myFilteredTupleList)\n",
    "print(len(myFilteredTupleList)/len(myTupleList))"
   ]
  },
  {
   "cell_type": "markdown",
   "metadata": {},
   "source": [
    "### Problem 3\n",
    "n: Non-negative integer.\n",
    "\n",
    "f: Function\n",
    "\n",
    "x: Any number in domain of f. (You may have additional restrictions on x depending on choice of f).\n",
    "\n",
    "Determine what the function below is doing. Some examples have been provided.\n",
    "\n",
    "Make some new examples that provide evidence that your answer is correct."
   ]
  },
  {
   "cell_type": "code",
   "execution_count": 2,
   "metadata": {
    "collapsed": true
   },
   "outputs": [],
   "source": [
    "from functools import reduce\n",
    "apply = lambda n,f,x : reduce((lambda y, g : g(y)),([x] + n*[f]))"
   ]
  },
  {
   "cell_type": "code",
   "execution_count": 38,
   "metadata": {
    "collapsed": false
   },
   "outputs": [
    {
     "data": {
      "text/plain": [
       "1"
      ]
     },
     "execution_count": 38,
     "metadata": {},
     "output_type": "execute_result"
    }
   ],
   "source": [
    "apply(0, lambda x: x+1, 1)"
   ]
  },
  {
   "cell_type": "code",
   "execution_count": 39,
   "metadata": {
    "collapsed": false
   },
   "outputs": [
    {
     "data": {
      "text/plain": [
       "256"
      ]
     },
     "execution_count": 39,
     "metadata": {},
     "output_type": "execute_result"
    }
   ],
   "source": [
    "apply(3, lambda x: x*x, 2)"
   ]
  },
  {
   "cell_type": "code",
   "execution_count": 4,
   "metadata": {
    "collapsed": false
   },
   "outputs": [
    {
     "data": {
      "text/plain": [
       "2.0"
      ]
     },
     "execution_count": 4,
     "metadata": {},
     "output_type": "execute_result"
    }
   ],
   "source": [
    "# For Problem 3.\n",
    "# Applying the square root to the number 16 twice.\n",
    "import math\n",
    "apply(2, lambda x:math.sqrt(x),16)"
   ]
  },
  {
   "cell_type": "markdown",
   "metadata": {},
   "source": [
    "In general:\n",
    "The apply function is applying the function f to the output consecutively n many times starting from x.\n",
    "\n",
    "We can think of the function x -> f(x) -> f(f(x)-> ... --> f(...(f(x))) ` `[after applying f a total of n times later] ."
   ]
  },
  {
   "cell_type": "code",
   "execution_count": null,
   "metadata": {
    "collapsed": true
   },
   "outputs": [],
   "source": []
  }
 ],
 "metadata": {
  "anaconda-cloud": {},
  "kernelspec": {
   "display_name": "Python [default]",
   "language": "python",
   "name": "python3"
  },
  "language_info": {
   "codemirror_mode": {
    "name": "ipython",
    "version": 3
   },
   "file_extension": ".py",
   "mimetype": "text/x-python",
   "name": "python",
   "nbconvert_exporter": "python",
   "pygments_lexer": "ipython3",
   "version": "3.5.2"
  }
 },
 "nbformat": 4,
 "nbformat_minor": 2
}
