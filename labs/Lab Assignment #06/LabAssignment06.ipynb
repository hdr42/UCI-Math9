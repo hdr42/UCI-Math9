{
 "cells": [
  {
   "cell_type": "markdown",
   "metadata": {},
   "source": [
    "## Lab Assignment 6\n",
    "\n",
    "Please fill this notebook with your code and explainations, run everything, save the notebook and upload to canvas.\n",
    "\n",
    "This lab assignment contains ***`TWO`*** problems. Read each problem carefully and answer them the best you can.\n",
    "\n",
    "Be sure to provide an explaination to your work using a comment."
   ]
  },
  {
   "cell_type": "markdown",
   "metadata": {},
   "source": [
    "### Problem 1\n",
    "We have studied in class how to swap two numbers by introducing a dummy variable. However, there are other techniques for swapping numbers **without having to introduce a dummy variable**.\n",
    "    - Technique 1:\n",
    "        Using tuples in the following way x,y = y,x\n",
    "    - Technique 2:\n",
    "        Using algebra. Try using only addition and subtraction to swap two numbers.\n",
    "\n",
    "Pick two distinct numbers that you like and call them A, B.\n",
    "\n",
    "Demonstrate that you can swap those numbers using the technqiues above with no dummy variables."
   ]
  },
  {
   "cell_type": "code",
   "execution_count": 89,
   "metadata": {
    "collapsed": false
   },
   "outputs": [],
   "source": [
    "# For Problem 1, Technique 1:\n"
   ]
  },
  {
   "cell_type": "code",
   "execution_count": 88,
   "metadata": {
    "collapsed": false
   },
   "outputs": [],
   "source": [
    "# For Problem 1, Technique 2:\n"
   ]
  },
  {
   "cell_type": "markdown",
   "metadata": {},
   "source": [
    "### Problem 2\n",
    "Write a **recursive function** ToZero(N) that takes in any integer N and prints out the following numbers that alternate in sign: `N, -(N//2), N//4, -(N//8),...,0`. Use your function to print out a particular example for your favorite number.\n",
    "\n",
    "Example: ToZero(51) could print out the following...\n",
    "\n",
    "                    51\n",
    "                    -25\n",
    "                    12\n",
    "                    -6\n",
    "                    3\n",
    "                    -1\n",
    "                    0"
   ]
  },
  {
   "cell_type": "code",
   "execution_count": 90,
   "metadata": {
    "collapsed": false
   },
   "outputs": [],
   "source": [
    "# For Problem 2.\n"
   ]
  },
  {
   "cell_type": "markdown",
   "metadata": {},
   "source": [
    "### Problem 3 (optional, not graded)\n",
    "\n",
    "Implement a function, `isin(x,xs)` that takes an integer `x` and a **already sorted** list `xs` of integers and returns `True` if `x` is in the list, returns false otherwise.  \n",
    "\n",
    "e.g. `isin(3,[1,2,3,5,8,9,10,11])` is `True`, but `isin(7,[1,2,3,5,8,9,10,11])` is `False`. \n",
    "\n",
    "(one-line solution: `isin = lambda x, xs: x in xs`, the problem is that this will look through the whole list to see if `x` is there, but can you do something faster by using the fact that the list is already sorted?)"
   ]
  },
  {
   "cell_type": "code",
   "execution_count": 1,
   "metadata": {
    "collapsed": true
   },
   "outputs": [],
   "source": [
    "# For Problem 3"
   ]
  }
 ],
 "metadata": {
  "anaconda-cloud": {},
  "kernelspec": {
   "display_name": "Python 3",
   "language": "python",
   "name": "python3"
  },
  "language_info": {
   "codemirror_mode": {
    "name": "ipython",
    "version": 3
   },
   "file_extension": ".py",
   "mimetype": "text/x-python",
   "name": "python",
   "nbconvert_exporter": "python",
   "pygments_lexer": "ipython3",
   "version": "3.5.2"
  }
 },
 "nbformat": 4,
 "nbformat_minor": 2
}
