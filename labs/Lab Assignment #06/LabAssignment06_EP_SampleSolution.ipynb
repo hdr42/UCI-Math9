{
 "cells": [
  {
   "cell_type": "markdown",
   "metadata": {},
   "source": [
    "## Lab Assignment 6\n",
    "\n",
    "Please fill this notebook with your code and explainations, run everything, save the notebook and upload to canvas.\n",
    "\n",
    "This lab assignment contains ***`TWO`*** problems. Read each problem carefully and answer them the best you can.\n",
    "\n",
    "Be sure to provide an explaination to your work using a comment."
   ]
  },
  {
   "cell_type": "markdown",
   "metadata": {},
   "source": [
    "### Problem 1\n",
    "We have studied in class how to swap two numbers by introducing a dummy variable. However, there are other techniques for swapping numbers **without having to introduce a dummy variable**.\n",
    "    - Technique 1:\n",
    "        Using tuples in the following way x,y = y,x\n",
    "    - Technique 2:\n",
    "        Using algebra. Try using only addition and subtraction to swap two numbers.\n",
    "\n",
    "Pick two distinct numbers that you like and call them A, B.\n",
    "\n",
    "Demonstrate that you can swap those numbers using the technqiues above with no dummy variables."
   ]
  },
  {
   "cell_type": "code",
   "execution_count": 1,
   "metadata": {
    "collapsed": false
   },
   "outputs": [
    {
     "name": "stdout",
     "output_type": "stream",
     "text": [
      "3134 534\n",
      "534 3134\n"
     ]
    }
   ],
   "source": [
    "# For Problem 1, Technique 1:\n",
    "A = 3134\n",
    "B = 534\n",
    "\n",
    "print(A,B)\n",
    "\n",
    "A,B = B,A\n",
    "\n",
    "print(A,B)"
   ]
  },
  {
   "cell_type": "code",
   "execution_count": 2,
   "metadata": {
    "collapsed": false
   },
   "outputs": [
    {
     "name": "stdout",
     "output_type": "stream",
     "text": [
      "1432 74\n",
      "74 1432\n",
      "1432 74\n",
      "74 1432\n"
     ]
    }
   ],
   "source": [
    "# For Problem 1, Technique 2:\n",
    "\n",
    "# Possible sol 1:\n",
    "A1 = 1432\n",
    "B1 = 74\n",
    "\n",
    "print(A1,B1)\n",
    "\n",
    "A1 = A1+B1\n",
    "B1 = A1-B1\n",
    "A1 = A1-B1\n",
    "\n",
    "print(A1,B1)\n",
    "\n",
    "\n",
    "# Possible sol 2:\n",
    "A2 = 1432\n",
    "B2 = 74\n",
    "\n",
    "print(A2,B2)\n",
    "A2 = A2-B2\n",
    "B2 = A2+B2\n",
    "A2 = B2-A2\n",
    "print(A2,B2)"
   ]
  },
  {
   "cell_type": "markdown",
   "metadata": {},
   "source": [
    "### Problem 2\n",
    "Write a **recursive function** ToZero(N) that takes in any integer N and prints out the following numbers that alternate in sign: `N, -(N//2), N//4, -(N//8),...,0`. Use your function to print out a particular example for your favorite number.\n",
    "\n",
    "Example: ToZero(51) could print out the following...\n",
    "\n",
    "                    51\n",
    "                    -25\n",
    "                    12\n",
    "                    -6\n",
    "                    3\n",
    "                    -1\n",
    "                    0"
   ]
  },
  {
   "cell_type": "code",
   "execution_count": 3,
   "metadata": {
    "collapsed": false
   },
   "outputs": [
    {
     "name": "stdout",
     "output_type": "stream",
     "text": [
      "51\n",
      "-25\n",
      "12\n",
      "-6\n",
      "3\n",
      "-1\n",
      "0\n"
     ]
    }
   ],
   "source": [
    "# For Problem 2.\n",
    "\n",
    "def ToZero(N):\n",
    "    print(N)   \n",
    "    if int(N) == 0:\n",
    "        return 0\n",
    "    elif N>0:\n",
    "        N = -(abs(N)//2)\n",
    "    elif N<0:\n",
    "        N = (abs(N)//2)\n",
    "    ToZero(N)\n",
    "ToZero(51)\n",
    "    \n",
    "    "
   ]
  },
  {
   "cell_type": "markdown",
   "metadata": {},
   "source": [
    "### Problem 3 (optional, not graded)\n",
    "\n",
    "Implement a function, `isin(x,xs)` that takes an integer `x` and a **already sorted** list `xs` of integers and returns `True` if `x` is in the list, returns false otherwise.  \n",
    "\n",
    "e.g. `isin(3,[1,2,3,5,8,9,10,11])` is `True`, but `isin(7,[1,2,3,5,8,9,10,11])` is `False`. \n",
    "\n",
    "(one-line solution: `isin = lambda x, xs: x in xs`, the problem is that this will look through the whole list to see if `x` is there, but can you do something faster by using the fact that the list is already sorted?)"
   ]
  },
  {
   "cell_type": "code",
   "execution_count": 4,
   "metadata": {
    "collapsed": false
   },
   "outputs": [],
   "source": [
    "# For Problem 3\n",
    "\n",
    "def isin(x,xs):\n",
    "    for k in xs:\n",
    "        if k == x:\n",
    "            return True\n",
    "    return False"
   ]
  },
  {
   "cell_type": "code",
   "execution_count": 5,
   "metadata": {
    "collapsed": false
   },
   "outputs": [
    {
     "data": {
      "text/plain": [
       "True"
      ]
     },
     "execution_count": 5,
     "metadata": {},
     "output_type": "execute_result"
    }
   ],
   "source": [
    "isin(3,[1,2,3,5,8,9,10,11])"
   ]
  },
  {
   "cell_type": "code",
   "execution_count": 6,
   "metadata": {
    "collapsed": false
   },
   "outputs": [
    {
     "data": {
      "text/plain": [
       "False"
      ]
     },
     "execution_count": 6,
     "metadata": {},
     "output_type": "execute_result"
    }
   ],
   "source": [
    "isin(7,[1,2,3,5,8,9,10,11])"
   ]
  },
  {
   "cell_type": "markdown",
   "metadata": {
    "collapsed": true
   },
   "source": [
    "How many steps does the above solution take in the worst case?\n",
    "\n",
    "\n",
    "<br>\n",
    "It is O(n), where n is the length of `xs`. We can actually do this in O(log(n)) time, by doing the following:\n",
    "\n",
    "Say we want to find x. Start looking at the whole array. Look at the midle point of the array, if the value at the mid point is more than x, that means we don't have to look at the second half of the array. Now repeat the same thing for the first half of the array. Each time, we save ourselves half the work. \n",
    "\n",
    "This is usually called binary search. "
   ]
  },
  {
   "cell_type": "code",
   "execution_count": 7,
   "metadata": {
    "collapsed": false
   },
   "outputs": [
    {
     "data": {
      "text/plain": [
       "5"
      ]
     },
     "execution_count": 7,
     "metadata": {},
     "output_type": "execute_result"
    }
   ],
   "source": [
    "# find x in xs sorted\n",
    "def sorted_search(xs, x, start, end):\n",
    "    # if we got down to two elements\n",
    "    if end - start < 2:\n",
    "        if x == xs[start]:\n",
    "            return start\n",
    "        if x == xs[end]:\n",
    "            return end\n",
    "        return None\n",
    "    \n",
    "    mid = (start + end) // 2\n",
    "    if x < xs[mid]:\n",
    "        return sorted_search(xs, x, start, mid - 1)\n",
    "    # otherwise: x >= xs[mid]\n",
    "    return sorted_search(xs, x, mid, end)\n",
    "        \n",
    "xs = [0,1,2,3,4,5,6,7,8,9]\n",
    "sorted_search(xs, 5, 0, 9)"
   ]
  },
  {
   "cell_type": "markdown",
   "metadata": {},
   "source": [
    "Exercise: rewrite this code without using recursion (using while loop). "
   ]
  },
  {
   "cell_type": "code",
   "execution_count": null,
   "metadata": {
    "collapsed": true
   },
   "outputs": [],
   "source": []
  }
 ],
 "metadata": {
  "anaconda-cloud": {},
  "kernelspec": {
   "display_name": "Python 3",
   "language": "python",
   "name": "python3"
  },
  "language_info": {
   "codemirror_mode": {
    "name": "ipython",
    "version": 3
   },
   "file_extension": ".py",
   "mimetype": "text/x-python",
   "name": "python",
   "nbconvert_exporter": "python",
   "pygments_lexer": "ipython3",
   "version": "3.5.2"
  }
 },
 "nbformat": 4,
 "nbformat_minor": 2
}
