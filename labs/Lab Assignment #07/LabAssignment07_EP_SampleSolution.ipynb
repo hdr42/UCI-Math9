{
 "cells": [
  {
   "cell_type": "markdown",
   "metadata": {},
   "source": [
    "## Lab Assignment 7\n",
    "\n",
    "Please fill this notebook with your code and explainations, run everything, save the notebook and upload to canvas.\n",
    "\n",
    "This lab assignment contains ***`TWO`*** problems. Read each problem carefully and answer them the best you can.\n",
    "\n",
    "Be sure to provide an explaination to your work using a comment."
   ]
  },
  {
   "cell_type": "markdown",
   "metadata": {},
   "source": [
    "### Problem 1\n",
    "Create the following 3 by 3 matrix (multi-dimensional array) using the numpy module.\n",
    "\n",
    "    1   2   3\n",
    "    5   6   7\n",
    "    9  10  11\n",
    "\n",
    "You may use for loops but you can also do it using vectorization. "
   ]
  },
  {
   "cell_type": "code",
   "execution_count": 16,
   "metadata": {
    "collapsed": false
   },
   "outputs": [
    {
     "data": {
      "text/plain": [
       "array([[ 1,  2,  3],\n",
       "       [ 5,  6,  7],\n",
       "       [ 9, 10, 11]])"
      ]
     },
     "execution_count": 16,
     "metadata": {},
     "output_type": "execute_result"
    }
   ],
   "source": [
    "# For Problem 1:\n",
    "np.array(range(9)).reshape((3,3)) + np.array([[1],[2],[3]])"
   ]
  },
  {
   "cell_type": "markdown",
   "metadata": {},
   "source": [
    "### Problem 2\n",
    "Plot the following function g(x) for $x$ in $[-\\pi,\\pi]$ using **matplotlib** and **numpy** (and exactly 1000 points). Use the **math** module to import $\\pi$.\n",
    "\n",
    "$ g(x) =\n",
    "  \\begin{cases}\n",
    "    x^{2}\\sin\\left(x^{3}\\right)       & \\quad \\text{if } x \\neq 0\\\\\n",
    "    0 & \\quad \\text{if } x = 0\\\\\n",
    "  \\end{cases}$"
   ]
  },
  {
   "cell_type": "code",
   "execution_count": 2,
   "metadata": {
    "collapsed": false
   },
   "outputs": [
    {
     "data": {
      "text/plain": [
       "[<matplotlib.lines.Line2D at 0x10a6d02b0>]"
      ]
     },
     "execution_count": 2,
     "metadata": {},
     "output_type": "execute_result"
    },
    {
     "data": {
      "image/png": "[encoded data removed]",
      "text/plain": [
       "<matplotlib.figure.Figure at 0x10914d9b0>"
      ]
     },
     "metadata": {},
     "output_type": "display_data"
    }
   ],
   "source": [
    "# For Problem 2.\n",
    "import matplotlib.pyplot as plt\n",
    "%matplotlib inline\n",
    "import numpy as np\n",
    "from math import pi\n",
    "\n",
    "xs = np.linspace(-pi, pi, 1000)\n",
    "def g(x):\n",
    "    return x**2*np.sin(x**3)\n",
    "plt.plot(xs,g(xs))"
   ]
  },
  {
   "cell_type": "markdown",
   "metadata": {},
   "source": [
    "### Problem 3 (not graded but very important)\n",
    "\n",
    "You are given the following numpy array which contains stock prices for the last five days.  "
   ]
  },
  {
   "cell_type": "code",
   "execution_count": 2,
   "metadata": {
    "collapsed": true
   },
   "outputs": [],
   "source": [
    "# For Problem 3\n",
    "import numpy as np\n",
    "names = [\"AAPL\", \"GOOGL\", \"TSLA\", \"NVDA\"]\n",
    "# each row is a company\n",
    "X = np.array([[135.55, 135.30, 136.26, 136.63, 137.20], \n",
    "              [838.97, 845.83, 851.24, 848.50, 850.01],\n",
    "              [279.25, 270.67, 268.04, 278.88, 275.53],\n",
    "              [108.24, 106.83, 107.14, 110.52, 110.64]])"
   ]
  },
  {
   "cell_type": "markdown",
   "metadata": {},
   "source": [
    "* Produce an 1-dimensional array which will contain the company name and the average price of each stock **in the last 3 days**. e.g. <br>Hint: use slicing (i.e. taking X[??,??] where ?? are expressions that have : in them) and `np.apply_along_axis` and `np.mean`."
   ]
  },
  {
   "cell_type": "code",
   "execution_count": 7,
   "metadata": {
    "collapsed": false
   },
   "outputs": [
    {
     "data": {
      "text/plain": [
       "array([['AAPL', '136.696666667'],\n",
       "       ['GOOGL', '849.916666667'],\n",
       "       ['TSLA', '274.15'],\n",
       "       ['NVDA', '109.433333333']], \n",
       "      dtype='<U13')"
      ]
     },
     "execution_count": 7,
     "metadata": {},
     "output_type": "execute_result"
    }
   ],
   "source": [
    "# For Problem 3\n",
    "means = np.apply_along_axis(np.mean, 1, X[:,2:])\n",
    "np.array(list(zip(names, means)))   # but you could also use a loop or list comprehension"
   ]
  },
  {
   "cell_type": "markdown",
   "metadata": {},
   "source": [
    "\n",
    "* Say four new days of data are given to you as a numpy array called Y. What would the shape of Y be? How would you make a new array for all the prices together? Remark: you can use slicing to set things too, like `X[0,:] = Z[3,:]` will make X's 0th row be set to Z's 3rd row."
   ]
  },
  {
   "cell_type": "code",
   "execution_count": 5,
   "metadata": {
    "collapsed": true
   },
   "outputs": [],
   "source": [
    "Y = np.array([[139.,140.,141., 144.],[840., 841., 838., 836], [276., 276., 277., 280], [110., 108., 107., 109]])"
   ]
  },
  {
   "cell_type": "markdown",
   "metadata": {},
   "source": [
    "Each row was a company, and each column was a day, so we need to add four new columns to the matrix. "
   ]
  },
  {
   "cell_type": "code",
   "execution_count": 6,
   "metadata": {
    "collapsed": true
   },
   "outputs": [],
   "source": [
    "Z = np.zeros([4, 9])\n",
    "\n",
    "Z[:,0:5] = X[:,:]\n",
    "Z[:,5:9] = Y[:,:]"
   ]
  },
  {
   "cell_type": "code",
   "execution_count": 7,
   "metadata": {
    "collapsed": false
   },
   "outputs": [
    {
     "name": "stdout",
     "output_type": "stream",
     "text": [
      "[[ 135.55  135.3   136.26  136.63  137.2   139.    140.    141.    144.  ]\n",
      " [ 838.97  845.83  851.24  848.5   850.01  840.    841.    838.    836.  ]\n",
      " [ 279.25  270.67  268.04  278.88  275.53  276.    276.    277.    280.  ]\n",
      " [ 108.24  106.83  107.14  110.52  110.64  110.    108.    107.    109.  ]]\n"
     ]
    }
   ],
   "source": [
    "print(Z)"
   ]
  }
 ],
 "metadata": {
  "anaconda-cloud": {},
  "kernelspec": {
   "display_name": "Python 3",
   "language": "python",
   "name": "python3"
  },
  "language_info": {
   "codemirror_mode": {
    "name": "ipython",
    "version": 3
   },
   "file_extension": ".py",
   "mimetype": "text/x-python",
   "name": "python",
   "nbconvert_exporter": "python",
   "pygments_lexer": "ipython3",
   "version": "3.5.2"
  }
 },
 "nbformat": 4,
 "nbformat_minor": 2
}
