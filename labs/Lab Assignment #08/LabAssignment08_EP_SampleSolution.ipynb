{
 "cells": [
  {
   "cell_type": "markdown",
   "metadata": {},
   "source": [
    "## Lab Assignment 8\n",
    "\n",
    "Please fill this notebook with your code and explainations, run everything, save the notebook and upload to canvas.\n",
    "\n",
    "This lab assignment contains ***`TWO`*** problems. Read each problem carefully and answer them the best you can.\n",
    "\n",
    "Be sure to provide an explaination to your work using a comment."
   ]
  },
  {
   "cell_type": "markdown",
   "metadata": {},
   "source": [
    "### Problem 1\n",
    "When you make an unbiased decision between two options, you may consider flipping a coin. However, if the coin is rigged (possibly because you have a slight dent on one side of the coin) your decision based on the coin will be biased.\n",
    "\n",
    "Let P be some real number in [0,1]. Create a function CoinFlip(P) that returns the number 1 (for Heads) with probability P and the number 0 with probaility 1-P (for Tails).\n",
    "\n",
    "For example:\n",
    "\n",
    "CoinFlip(0.3) should return 1 (Heads) 30% of the time and 0 (Tails) 70% of the time."
   ]
  },
  {
   "cell_type": "code",
   "execution_count": 1,
   "metadata": {
    "collapsed": false
   },
   "outputs": [],
   "source": [
    "# For Problem 1:\n",
    "def CoinFlip(P):\n",
    "    import random\n",
    "    if random.random()<P:\n",
    "        return 1\n",
    "    return 0"
   ]
  },
  {
   "cell_type": "code",
   "execution_count": 2,
   "metadata": {
    "collapsed": false
   },
   "outputs": [
    {
     "data": {
      "text/plain": [
       "0"
      ]
     },
     "execution_count": 2,
     "metadata": {},
     "output_type": "execute_result"
    }
   ],
   "source": [
    "CoinFlip(.3)"
   ]
  },
  {
   "cell_type": "markdown",
   "metadata": {},
   "source": [
    "### Problem 2\n",
    "Eric picks up a coin and wonders if the coin is truly unbiased. determine if his coin is unbiased he decides to flip his coin 100 times and tallies up how many times it returns head. He then decides to repeat the test 999 more times (for a total of 1000 times). (I must have a lot of free time...). \n",
    "\n",
    "Write a function called CoinFlipSim(P) returns the average number of times Eric got heads for the 1000 different tests. Use CoinFlip(P) to determine the outcome of the coin flips. Do everything using numpy arrays.\n",
    "\n",
    "Print out an output of CoinFlipSim(P) for P = 0.2, P = 0.5, P = 0.7.\n",
    "\n",
    "Is there a relationship with the outcome compared to P?"
   ]
  },
  {
   "cell_type": "code",
   "execution_count": 3,
   "metadata": {
    "collapsed": false
   },
   "outputs": [],
   "source": [
    "# For Problem 2.\n",
    "def CoinFlipSim(P):\n",
    "    import numpy as np\n",
    "    simulation = np.zeros([1000,100])\n",
    "    for j in range(1000):\n",
    "        for k in range(100):\n",
    "            simulation[j,k] = CoinFlip(P)\n",
    "    HeadsArray = np.apply_along_axis(np.sum,1,simulation)\n",
    "    Avg = np.apply_along_axis(np.average,0,HeadsArray)\n",
    "    return np.round(Avg)"
   ]
  },
  {
   "cell_type": "code",
   "execution_count": 4,
   "metadata": {
    "collapsed": false
   },
   "outputs": [
    {
     "data": {
      "text/plain": [
       "20.0"
      ]
     },
     "execution_count": 4,
     "metadata": {},
     "output_type": "execute_result"
    }
   ],
   "source": [
    "CoinFlipSim(.2)"
   ]
  },
  {
   "cell_type": "code",
   "execution_count": 5,
   "metadata": {
    "collapsed": false
   },
   "outputs": [
    {
     "data": {
      "text/plain": [
       "50.0"
      ]
     },
     "execution_count": 5,
     "metadata": {},
     "output_type": "execute_result"
    }
   ],
   "source": [
    "CoinFlipSim(.5)"
   ]
  },
  {
   "cell_type": "code",
   "execution_count": 6,
   "metadata": {
    "collapsed": false
   },
   "outputs": [
    {
     "data": {
      "text/plain": [
       "70.0"
      ]
     },
     "execution_count": 6,
     "metadata": {},
     "output_type": "execute_result"
    }
   ],
   "source": [
    "CoinFlipSim(.7)"
   ]
  },
  {
   "cell_type": "markdown",
   "metadata": {},
   "source": [
    "This is indicating the percent of Heads that are appearing on average."
   ]
  },
  {
   "cell_type": "markdown",
   "metadata": {},
   "source": [
    "### Problem 3 (not graded)\n",
    "Generate a histogram for each P (P = 0.2, P = 0.5, P = 0.7) using with number of heads in the 1000 different tests in problem 2."
   ]
  },
  {
   "cell_type": "code",
   "execution_count": 7,
   "metadata": {
    "collapsed": false
   },
   "outputs": [],
   "source": [
    "# For Problem 3.\n",
    "# Sample solution taken from one of your fellow classmates. :)\n",
    "import numpy as np\n",
    "import matplotlib.pyplot as plt\n",
    "%matplotlib inline\n",
    "def CoinFlipSlim_hist(P):\n",
    "    trials = np.zeros([1000]) #array to store the number of heads in each trial of 100 flips\n",
    "    for z in range(0,1000): #loop for the 1000 trials\n",
    "        count = 0 #keeps track of number of heads within the 100 flips\n",
    "        for x in range(0,100): #loop for the 100 coin flips\n",
    "            y = CoinFlip(P)\n",
    "            if y == 1: #means it returned heads so increase the count of heads\n",
    "                count+=1\n",
    "        trials[z]=(count)\n",
    "    _,_,_=plt.hist(trials, 20)"
   ]
  },
  {
   "cell_type": "code",
   "execution_count": 8,
   "metadata": {
    "collapsed": false
   },
   "outputs": [
    {
     "data": {
      "image/png": "[encoded data removed]",
      "text/plain": [
       "<matplotlib.figure.Figure at 0x10a6f2320>"
      ]
     },
     "metadata": {},
     "output_type": "display_data"
    }
   ],
   "source": [
    "CoinFlipSlim_hist(0.2)"
   ]
  },
  {
   "cell_type": "code",
   "execution_count": 9,
   "metadata": {
    "collapsed": false
   },
   "outputs": [
    {
     "data": {
      "image/png": "[encoded data removed]",
      "text/plain": [
       "<matplotlib.figure.Figure at 0x109b73f98>"
      ]
     },
     "metadata": {},
     "output_type": "display_data"
    }
   ],
   "source": [
    "CoinFlipSlim_hist(0.5)"
   ]
  },
  {
   "cell_type": "code",
   "execution_count": 10,
   "metadata": {
    "collapsed": false
   },
   "outputs": [
    {
     "data": {
      "image/png": "[encoded data removed]",
      "text/plain": [
       "<matplotlib.figure.Figure at 0x10d231080>"
      ]
     },
     "metadata": {},
     "output_type": "display_data"
    }
   ],
   "source": [
    "CoinFlipSlim_hist(0.7)"
   ]
  },
  {
   "cell_type": "code",
   "execution_count": 11,
   "metadata": {
    "collapsed": false
   },
   "outputs": [
    {
     "data": {
      "image/png": "[encoded data removed]",
      "text/plain": [
       "<matplotlib.figure.Figure at 0x109a25e10>"
      ]
     },
     "metadata": {},
     "output_type": "display_data"
    }
   ],
   "source": [
    "# This is kind of cool:\n",
    "CoinFlipSlim_hist(0.2)\n",
    "CoinFlipSlim_hist(0.5)\n",
    "CoinFlipSlim_hist(0.7)"
   ]
  },
  {
   "cell_type": "code",
   "execution_count": null,
   "metadata": {
    "collapsed": true
   },
   "outputs": [],
   "source": []
  }
 ],
 "metadata": {
  "anaconda-cloud": {},
  "kernelspec": {
   "display_name": "Python [default]",
   "language": "python",
   "name": "python3"
  },
  "language_info": {
   "codemirror_mode": {
    "name": "ipython",
    "version": 3
   },
   "file_extension": ".py",
   "mimetype": "text/x-python",
   "name": "python",
   "nbconvert_exporter": "python",
   "pygments_lexer": "ipython3",
   "version": "3.5.2"
  }
 },
 "nbformat": 4,
 "nbformat_minor": 2
}
