{
 "cells": [
  {
   "cell_type": "markdown",
   "metadata": {},
   "source": [
    "## Lab Assignment 8\n",
    "\n",
    "Please fill this notebook with your code and explainations, run everything, save the notebook and upload to canvas.\n",
    "\n",
    "This lab assignment contains ***`TWO`*** problems. Read each problem carefully and answer them the best you can.\n",
    "\n",
    "Be sure to provide an explaination to your work using a comment."
   ]
  },
  {
   "cell_type": "markdown",
   "metadata": {},
   "source": [
    "### Problem 1\n",
    "When you make an unbiased decision between two options, you may consider flipping a coin. However, if the coin is rigged (possibly because you have a slight dent on one side of the coin) your decision based on the coin will be biased.\n",
    "\n",
    "Let P be some real number in [0,1]. Create a function CoinFlip(P) that returns the number 1 (for Heads) with probability P and the number 0 with probaility 1-P (for Tails).\n",
    "\n",
    "For example:\n",
    "\n",
    "CoinFlip(0.3) should return 1 (Heads) 30% of the time and 0 (Tails) 70% of the time."
   ]
  },
  {
   "cell_type": "code",
   "execution_count": null,
   "metadata": {
    "collapsed": false
   },
   "outputs": [],
   "source": [
    "# For Problem 1:\n"
   ]
  },
  {
   "cell_type": "markdown",
   "metadata": {},
   "source": [
    "### Problem 2\n",
    "Eric picks up a coin and wonders if the coin is truly unbiased. determine if his coin is unbiased he decides to flip his coin 100 times and tallies up how many times it returns head. He then decides to repeat the test 999 more times (for a total of 1000 times). (I must have a lot of free time...). \n",
    "\n",
    "Write a function called CoinFlipSim(P) returns the average number of times Eric got heads for the 1000 different tests. Use CoinFlip(P) to determine the outcome of the coin flips.\n",
    "\n",
    "Print out an output of CoinFlipSim(P) for P = 0.2, P = 0.5, P = 0.7.\n",
    "\n",
    "Is there a relationship with the outcome compared to P?"
   ]
  },
  {
   "cell_type": "code",
   "execution_count": null,
   "metadata": {
    "collapsed": false
   },
   "outputs": [],
   "source": [
    "# For Problem 2.\n"
   ]
  },
  {
   "cell_type": "markdown",
   "metadata": {},
   "source": [
    "### Problem 3 (not graded)\n",
    "Generate a histogram for each P (P = 0.2, P = 0.5, P = 0.7) using with number of heads in the 1000 different tests in problem 2."
   ]
  },
  {
   "cell_type": "code",
   "execution_count": 2,
   "metadata": {
    "collapsed": false
   },
   "outputs": [],
   "source": [
    "# For Problem 3.\n"
   ]
  }
 ],
 "metadata": {
  "anaconda-cloud": {},
  "kernelspec": {
   "display_name": "Python [default]",
   "language": "python",
   "name": "python3"
  },
  "language_info": {
   "codemirror_mode": {
    "name": "ipython",
    "version": 3
   },
   "file_extension": ".py",
   "mimetype": "text/x-python",
   "name": "python",
   "nbconvert_exporter": "python",
   "pygments_lexer": "ipython3",
   "version": "3.5.2"
  }
 },
 "nbformat": 4,
 "nbformat_minor": 2
}
