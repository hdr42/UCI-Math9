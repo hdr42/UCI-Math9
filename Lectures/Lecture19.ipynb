{
 "cells": [
  {
   "cell_type": "markdown",
   "metadata": {},
   "source": [
    "# Lecture 19\n",
    "\n",
    "Mora randomness. Mean and standard deviation. Simulations that use randomness."
   ]
  },
  {
   "cell_type": "code",
   "execution_count": 1,
   "metadata": {
    "collapsed": true
   },
   "outputs": [],
   "source": [
    "import numpy as np\n",
    "import matplotlib.pyplot as plt\n",
    "%matplotlib inline"
   ]
  },
  {
   "cell_type": "code",
   "execution_count": 2,
   "metadata": {
    "collapsed": false
   },
   "outputs": [
    {
     "data": {
      "text/plain": [
       "array([ 0.06338181,  0.02569077,  0.46695246,  0.51746962,  0.41736873,\n",
       "        0.76491016,  0.34586409,  0.79547829,  0.27020484])"
      ]
     },
     "execution_count": 2,
     "metadata": {},
     "output_type": "execute_result"
    }
   ],
   "source": [
    "# numpy array with uniform random numbers\n",
    "np.random.uniform(low=0, high=1, size=9)"
   ]
  },
  {
   "cell_type": "code",
   "execution_count": 3,
   "metadata": {
    "collapsed": false
   },
   "outputs": [
    {
     "data": {
      "text/plain": [
       "array([ 1.51366209, -1.13783313,  0.187717  ,  0.11261519,  0.02076459,\n",
       "       -1.54907158, -0.70236171,  0.68117334,  0.43831202])"
      ]
     },
     "execution_count": 3,
     "metadata": {},
     "output_type": "execute_result"
    }
   ],
   "source": [
    "# numpy array with Gaussian (normal) random numbers\n",
    "np.random.normal(loc=0.0, scale=1.0, size=9)"
   ]
  },
  {
   "cell_type": "code",
   "execution_count": 4,
   "metadata": {
    "collapsed": false
   },
   "outputs": [
    {
     "data": {
      "image/png": "[encoded data removed]",
      "text/plain": [
       "<matplotlib.figure.Figure at 0x1058b0a20>"
      ]
     },
     "metadata": {},
     "output_type": "display_data"
    }
   ],
   "source": [
    "N = 5000\n",
    "mu = 0.0\n",
    "sigma = 1.0  # highers standard dev\n",
    "X = np.random.normal(loc=mu, scale=sigma, size=N)\n",
    "plt.axis([-6, 6, 0, N/6])\n",
    "_,_,_ = plt.hist(X, 30)"
   ]
  },
  {
   "cell_type": "markdown",
   "metadata": {},
   "source": [
    "## Choice: chooses a random element of a list"
   ]
  },
  {
   "cell_type": "code",
   "execution_count": 5,
   "metadata": {
    "collapsed": false
   },
   "outputs": [
    {
     "data": {
      "text/plain": [
       "'hate'"
      ]
     },
     "execution_count": 5,
     "metadata": {},
     "output_type": "execute_result"
    }
   ],
   "source": [
    "import random\n",
    "words = [\"love\", \"hate\", \"tender\", \"care\", \"deep\"]\n",
    "random.choice(words)"
   ]
  },
  {
   "cell_type": "code",
   "execution_count": 6,
   "metadata": {
    "collapsed": false
   },
   "outputs": [
    {
     "name": "stdout",
     "output_type": "stream",
     "text": [
      "love care tender \n",
      " tender hate care \n",
      " hate love care hate \n",
      " love care care\n"
     ]
    }
   ],
   "source": [
    "# random poem:\n",
    "poem = []\n",
    "poem.extend([random.choice(words) for _ in range(3)])\n",
    "poem.append(\"\\n\")\n",
    "poem.extend([random.choice(words) for _ in range(3)])\n",
    "poem.append(\"\\n\")\n",
    "poem.extend([random.choice(words) for _ in range(4)])\n",
    "poem.append(\"\\n\")\n",
    "poem.extend([random.choice(words) for _ in range(3)])\n",
    "print(\" \".join(poem))"
   ]
  },
  {
   "cell_type": "markdown",
   "metadata": {},
   "source": [
    "# Mean and Standard Deviation of a Data-set"
   ]
  },
  {
   "cell_type": "markdown",
   "metadata": {},
   "source": [
    "Say I am given a numpy array X full of numbers (e.g. grades).\n"
   ]
  },
  {
   "cell_type": "code",
   "execution_count": 7,
   "metadata": {
    "collapsed": false
   },
   "outputs": [],
   "source": [
    "X = np.array([67, 62, 78, 67, 64, 52, 50, 80, 50, 94, 77, 62, 78, 67, 44, 52, 70, 80, 50, 94, 100, 61, 59, 56, 30, 91, 60, 54, 34, 98])"
   ]
  },
  {
   "cell_type": "code",
   "execution_count": 8,
   "metadata": {
    "collapsed": false
   },
   "outputs": [
    {
     "name": "stdout",
     "output_type": "stream",
     "text": [
      "shape: (30,)\n"
     ]
    },
    {
     "data": {
      "text/plain": [
       "(30, 100)"
      ]
     },
     "execution_count": 8,
     "metadata": {},
     "output_type": "execute_result"
    }
   ],
   "source": [
    "print(\"shape:\", X.shape)\n",
    "# grade range:\n",
    "min(X), max(X)"
   ]
  },
  {
   "cell_type": "code",
   "execution_count": 9,
   "metadata": {
    "collapsed": false
   },
   "outputs": [
    {
     "data": {
      "text/plain": [
       "<matplotlib.collections.PathCollection at 0x105aadcc0>"
      ]
     },
     "execution_count": 9,
     "metadata": {},
     "output_type": "execute_result"
    },
    {
     "data": {
      "image/png": "[encoded data removed]",
      "text/plain": [
       "<matplotlib.figure.Figure at 0x10549c550>"
      ]
     },
     "metadata": {},
     "output_type": "display_data"
    }
   ],
   "source": [
    "plt.scatter(X, np.zeros(30)+1)"
   ]
  },
  {
   "cell_type": "code",
   "execution_count": 10,
   "metadata": {
    "collapsed": false
   },
   "outputs": [
    {
     "data": {
      "image/png": "[encoded data removed]",
      "text/plain": [
       "<matplotlib.figure.Figure at 0x10591b860>"
      ]
     },
     "metadata": {},
     "output_type": "display_data"
    }
   ],
   "source": [
    "_, _, _ = plt.hist(X,6)"
   ]
  },
  {
   "cell_type": "markdown",
   "metadata": {},
   "source": [
    "**Question: ** If we knew that these numbers came from a normal distribution $N(\\mu, \\sigma)$, what is the most likely normal distribution that this data would have come from?\n",
    "\n",
    "\n",
    "**Answer: ** It's the normal distribution $N(\\mu, \\sigma)$ where $\\mu$ is the mean of the data, and $\\sigma$ is the standard deviation of the data. Mean is the average of the data, standard deviation is the square root of the average of the square of the distance to the mean of the data... better to write down the formula:\n",
    "\n",
    "$$\\mu = \\frac{1}{N}\\sum_{i=1}^N x_i$$\n",
    "\n",
    "$$\\sigma = \\sqrt{\\frac{1}{N}\\sum_{i=1}^N (x_i - \\mu)^2}$$\n",
    "\n",
    "In python, we can use `np.mean` and `np.std` to compute these."
   ]
  },
  {
   "cell_type": "code",
   "execution_count": 11,
   "metadata": {
    "collapsed": false,
    "scrolled": true
   },
   "outputs": [
    {
     "name": "stdout",
     "output_type": "stream",
     "text": [
      "mean:  66.0333333333\n",
      "standard deviation:  17.8390644996\n"
     ]
    }
   ],
   "source": [
    "mu, sigma = np.mean(X), np.std(X)\n",
    "print(\"mean: \", mu)\n",
    "print(\"standard deviation: \", sigma)"
   ]
  },
  {
   "cell_type": "markdown",
   "metadata": {},
   "source": [
    "Recall that the Gaussian distribution $N(\\mu, \\sigma)$ has density function:\n",
    "\n",
    "$$ p(x) = \\frac{1}{\\sqrt{2\\pi}\\sigma}\\exp({-\\frac{1}{2}(\\frac{x}{\\sigma})^2})$$\n",
    "\n",
    "We will now draw the bell curve:\n"
   ]
  },
  {
   "cell_type": "code",
   "execution_count": 12,
   "metadata": {
    "collapsed": false
   },
   "outputs": [
    {
     "data": {
      "image/png": "[encoded data removed]",
      "text/plain": [
       "<matplotlib.figure.Figure at 0x1058f6a90>"
      ]
     },
     "metadata": {},
     "output_type": "display_data"
    }
   ],
   "source": [
    "from math import sqrt, pi, e\n",
    "\n",
    "Z = np.linspace(0,100,300)\n",
    "guassian_func = lambda mu, sigma: lambda x: 1/(sqrt(2*pi)*sigma) * e**(-0.5*(x - mu)*(x-mu)/(sigma * sigma))\n",
    "plt.plot(Z, guassian_func(mu, sigma)(Z))\n",
    "_, _, _ = plt.hist(X,6, normed=True)\n"
   ]
  },
  {
   "cell_type": "markdown",
   "metadata": {},
   "source": [
    "**Conclusion:** For any data-set, the mean and standard deviation of the best-fitting Gaussian distribution are the mean and standard deviation of the data-set."
   ]
  },
  {
   "cell_type": "markdown",
   "metadata": {},
   "source": [
    "## Random Simulation, modeling a real-life situation:\n",
    "The bus from my street to work is scheduled at 8:00 A.M. I measured that the bus' arrival time has a Gaussian (normal) distribution with mean 8:05 and a standard deviation of 4 minutes. \n",
    "\n",
    "If I miss the bus, the bus after that will come 5 minutes after the first bus (no delays).\n",
    "\n",
    "When should I get to the bus stop to minimize my total expected waiting time? (I don't care how late I am. I just don't want to wait for the bus at the stop. I'm weird like that.)\n"
   ]
  },
  {
   "cell_type": "markdown",
   "metadata": {},
   "source": [
    "Let's simulate"
   ]
  },
  {
   "cell_type": "code",
   "execution_count": 13,
   "metadata": {
    "collapsed": false
   },
   "outputs": [
    {
     "name": "stdout",
     "output_type": "stream",
     "text": [
      "my arrival: -20 simulated total waiting time 19.99035262122956\n",
      "my arrival: -19 simulated total waiting time 19.006380395960736\n",
      "my arrival: -18 simulated total waiting time 17.96536688512\n",
      "my arrival: -17 simulated total waiting time 17.04323664114401\n",
      "my arrival: -16 simulated total waiting time 16.021217070209193\n",
      "my arrival: -15 simulated total waiting time 15.016959985637016\n",
      "my arrival: -14 simulated total waiting time 14.024623255701556\n",
      "my arrival: -13 simulated total waiting time 13.04228621248957\n",
      "my arrival: -12 simulated total waiting time 12.095693060793126\n",
      "my arrival: -11 simulated total waiting time 11.150954594514037\n",
      "my arrival: -10 simulated total waiting time 10.357221933491182\n",
      "my arrival: -9 simulated total waiting time 9.572561593983623\n",
      "my arrival: -8 simulated total waiting time 9.095218975098513\n",
      "my arrival: -7 simulated total waiting time 8.920854581070959\n",
      "my arrival: -6 simulated total waiting time 9.260533411024028\n",
      "my arrival: -5 simulated total waiting time 10.237636843922752\n",
      "my arrival: -4 simulated total waiting time 12.080221927039274\n",
      "my arrival: -3 simulated total waiting time 14.612031800193757\n",
      "my arrival: -2 simulated total waiting time 17.199965312692694\n",
      "my arrival: -1 simulated total waiting time 21.327200927230617\n",
      "my arrival: 0 simulated total waiting time 25.312694491475554\n",
      "my arrival: 1 simulated total waiting time 28.951953184928552\n",
      "my arrival: 2 simulated total waiting time 32.59868175679879\n",
      "my arrival: 3 simulated total waiting time 35.959521876228514\n",
      "my arrival: 4 simulated total waiting time 38.28838346528995\n",
      "my arrival: 5 simulated total waiting time 39.94433006914123\n",
      "my arrival: 6 simulated total waiting time 40.731475242737176\n",
      "my arrival: 7 simulated total waiting time 41.092404160854194\n",
      "my arrival: 8 simulated total waiting time 40.71247971701636\n",
      "my arrival: 9 simulated total waiting time 40.380270536540195\n",
      "my arrival: 10 simulated total waiting time 39.67148897265139\n",
      "my arrival: 11 simulated total waiting time 38.82569531144243\n",
      "my arrival: 12 simulated total waiting time 37.96997328930819\n",
      "my arrival: 13 simulated total waiting time 36.95804822786831\n",
      "my arrival: 14 simulated total waiting time 36.0102628024104\n",
      "my arrival: 15 simulated total waiting time 35.024224712680095\n",
      "my arrival: 16 simulated total waiting time 34.01024882501717\n",
      "my arrival: 17 simulated total waiting time 32.92377365528235\n",
      "my arrival: 18 simulated total waiting time 32.00770144318245\n",
      "my arrival: 19 simulated total waiting time 30.990704378340446\n"
     ]
    },
    {
     "data": {
      "text/plain": [
       "[<matplotlib.lines.Line2D at 0x1057e7780>]"
      ]
     },
     "execution_count": 13,
     "metadata": {},
     "output_type": "execute_result"
    },
    {
     "data": {
      "image/png": "[encoded data removed]",
      "text/plain": [
       "<matplotlib.figure.Figure at 0x105c7edd8>"
      ]
     },
     "metadata": {},
     "output_type": "display_data"
    }
   ],
   "source": [
    "import random\n",
    "time_till_next_bus = 50\n",
    "mu = 0  # 8:05 is time 0\n",
    "sigma = 4\n",
    "N = 10000  # number of simulations\n",
    "\n",
    "arrs = []\n",
    "\n",
    "for my_arrival_at_stop in range(-20,20):\n",
    "    sum_of_waiting_times = 0.0\n",
    "    for i in range(N):\n",
    "        bus_arrival = random.gauss(mu, sigma)\n",
    "        if my_arrival_at_stop < bus_arrival:\n",
    "            sum_of_waiting_times += bus_arrival - my_arrival_at_stop\n",
    "        elif bus_arrival + time_till_next_bus - my_arrival_at_stop > 0:\n",
    "            sum_of_waiting_times += bus_arrival + time_till_next_bus - my_arrival_at_stop\n",
    "        # if i missed the next bus too, don't count that one.\n",
    "            \n",
    "    print(\"my arrival:\", my_arrival_at_stop, \"simulated total waiting time\", sum_of_waiting_times / N)\n",
    "    arrs.append(sum_of_waiting_times / N)\n",
    "    \n",
    "plt.plot(range(-20,20), arrs)\n",
    "    \n",
    "\n"
   ]
  }
 ],
 "metadata": {
  "kernelspec": {
   "display_name": "Python 3",
   "language": "python",
   "name": "python3"
  },
  "language_info": {
   "codemirror_mode": {
    "name": "ipython",
    "version": 3
   },
   "file_extension": ".py",
   "mimetype": "text/x-python",
   "name": "python",
   "nbconvert_exporter": "python",
   "pygments_lexer": "ipython3",
   "version": "3.5.2"
  }
 },
 "nbformat": 4,
 "nbformat_minor": 2
}
