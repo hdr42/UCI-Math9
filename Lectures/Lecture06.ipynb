{
 "cells": [
  {
   "cell_type": "markdown",
   "metadata": {},
   "source": [
    "# Lecture 6\n",
    "\n",
    "Today:\n",
    "* Checking for primeness efficiently\n",
    "* Euclid's algorithm"
   ]
  },
  {
   "cell_type": "markdown",
   "metadata": {},
   "source": [
    "## Checking for primes efficiently\n",
    "\n",
    "Recall our code from before for checking primeness. We were checking to see if any of the numbers before `n` was a divisor of `n`."
   ]
  },
  {
   "cell_type": "code",
   "execution_count": 1,
   "metadata": {
    "collapsed": true
   },
   "outputs": [],
   "source": [
    "def isprime(n):\n",
    "    if n <= 1:\n",
    "        return False\n",
    "    d = 2\n",
    "    while d<n:\n",
    "        if n % d  == 0:\n",
    "            return False\n",
    "        d += 1\n",
    "    return True"
   ]
  },
  {
   "cell_type": "markdown",
   "metadata": {},
   "source": [
    "Can we make this more efficient? Yes, we don't need to check all the way up to `n-1`, we could actually check up to $\\sqrt{n}$ because if there is a factor larger than $\\sqrt{n}$, then there is also a factor smaller than $\\sqrt{n}$, namely $\\frac{n}{\\sqrt{n}}$.\n",
    "\n",
    "But instead of checking to see if `d <= math.sqrt(n)`, we could check `d*d <= n` (taking square of a number is much quicker than taking square root)"
   ]
  },
  {
   "cell_type": "code",
   "execution_count": 2,
   "metadata": {
    "collapsed": true
   },
   "outputs": [],
   "source": [
    "def isprime(n):\n",
    "    if n <= 1:\n",
    "        return False\n",
    "    d = 2\n",
    "    while d*d<=n:    # so clever!!!\n",
    "        if n % d  == 0:\n",
    "            return False\n",
    "        d += 1\n",
    "    return True"
   ]
  },
  {
   "cell_type": "code",
   "execution_count": 9,
   "metadata": {
    "collapsed": false
   },
   "outputs": [
    {
     "name": "stdout",
     "output_type": "stream",
     "text": [
      "True False False\n"
     ]
    }
   ],
   "source": [
    "print(isprime(17), isprime(18), isprime(16))"
   ]
  },
  {
   "cell_type": "markdown",
   "metadata": {},
   "source": [
    "<br>\n",
    "## Euclid's algorithm\n",
    "\n"
   ]
  },
  {
   "cell_type": "markdown",
   "metadata": {},
   "source": [
    "Let us first remember what the greatest common divisor (GCD) of two numbers is. Officially, it is the greatest number that divides both $a$ and $b$.\n",
    "\n",
    "For example, if $a = 60$ and $b = 42$, the GCD is $6$.\n",
    "\n",
    "$\\operatorname{gcd}(a,b)$ can be defined equivalently in two other ways:\n",
    "\n",
    "1. If $a$ and $b$ have prime factorizations, $a = \\prod_i p_i^{\\alpha_i}$, and $b = \\prod_i p_i^{\\beta_i}$, then \n",
    "\n",
    "$$\\operatorname{gcd}(a,b) = \\prod_i p_i^{\\operatorname{min}(\\alpha_i, \\beta_i)}$$\n",
    "\n",
    "2. $\\operatorname{gcd}(a,b)$ is the smallest positive number $d>0$ that is a linear combination:\n",
    "\n",
    "$$ ma + nb = d $$\n",
    "where $m,n \\in \\mathbb{Z}$ are integers. \n",
    "\n",
    "(meaning there is a proof that shows the above characterizations are equal to the GCD)"
   ]
  },
  {
   "cell_type": "markdown",
   "metadata": {},
   "source": [
    "<br>\n",
    "We would like to find an algorithm that takes two nubers and gives the GCD, then code it.\n",
    "\n",
    "**Euclid's idea**: assume `a>b`. If we want to find `gcd(a,b)`, divide `a` by `b`,\n",
    "\n",
    "$$a = qb + r$$\n",
    "Where $r$ is the unique remainder\n",
    "\n",
    "$$ 0 \\leq r < b$$\n",
    "\n",
    "Then: `gcd(a,b) = gcd(b,r)`, unless $r=0$, in which case the GCD would be `b`. We can then repeat the same for `gcd(b,r)`. \n",
    "\n",
    "$$b = q_2 r + r_2 $$\n",
    "\n",
    "so `gcd(r,r_2)`, then repeat the same process for `r` and `r_2`.\n"
   ]
  },
  {
   "cell_type": "markdown",
   "metadata": {},
   "source": [
    "For example: `a = 60, b = 42`\n",
    "\n",
    "`60 = 42*1 + 18`\n",
    "\n",
    "so `gcd(60,42) = gcd(42,18)`\n",
    "\n",
    "`42 = 18*2 + 6`\n",
    "\n",
    "so `gcd(60,42) = gcd(42,18) = gcd(18,6)`\n",
    "\n",
    "`18 = 6*3 + 0`\n",
    "\n",
    "so `gcd(60,42) = gcd(42,18) = gcd(18,6) = 6`"
   ]
  },
  {
   "cell_type": "markdown",
   "metadata": {},
   "source": [
    "\n",
    "### Euclid's algorithm in pseudo-code\n",
    "\n",
    "Pseudo-code, informal description of our algorithm:\n",
    "\n",
    "\"`<-`\" means we are setting the variable\n",
    "\n",
    "    Input: a,b positive integers<br>\n",
    "    Ouput: gcd(a,b), the greatest common divisor\n",
    "    Algorithm:\n",
    "    If b>a, swap a and b    \n",
    "    while b is not 0 do\n",
    "        r <- a % b, the remainder of a divided by b\n",
    "        a <- b\n",
    "        b <- r\n",
    "    a is the GCD."
   ]
  },
  {
   "cell_type": "markdown",
   "metadata": {},
   "source": [
    "### The code"
   ]
  },
  {
   "cell_type": "code",
   "execution_count": 10,
   "metadata": {
    "collapsed": true
   },
   "outputs": [],
   "source": [
    "def gcd(a,b):\n",
    "    if b>a:\n",
    "        dum = a\n",
    "        a = b\n",
    "        b = dum\n",
    "    while b != 0:\n",
    "        r = a % b\n",
    "        a = b\n",
    "        b = r\n",
    "    return a"
   ]
  },
  {
   "cell_type": "code",
   "execution_count": 11,
   "metadata": {
    "collapsed": false
   },
   "outputs": [
    {
     "data": {
      "text/plain": [
       "6"
      ]
     },
     "execution_count": 11,
     "metadata": {},
     "output_type": "execute_result"
    }
   ],
   "source": [
    "gcd(60,42)"
   ]
  },
  {
   "cell_type": "code",
   "execution_count": 12,
   "metadata": {
    "collapsed": false
   },
   "outputs": [
    {
     "data": {
      "text/plain": [
       "1"
      ]
     },
     "execution_count": 12,
     "metadata": {},
     "output_type": "execute_result"
    }
   ],
   "source": [
    "gcd(17,112341)"
   ]
  },
  {
   "cell_type": "markdown",
   "metadata": {},
   "source": [
    "## Good exercises:\n",
    "\n",
    "* Close this notebook and re-implement Euclid's algorithm from scratch. Start with the basic idea that gcd(a,b) = gcd(b,r) where a=bq+r."
   ]
  }
 ],
 "metadata": {
  "kernelspec": {
   "display_name": "Python 3",
   "language": "python",
   "name": "python3"
  },
  "language_info": {
   "codemirror_mode": {
    "name": "ipython",
    "version": 3
   },
   "file_extension": ".py",
   "mimetype": "text/x-python",
   "name": "python",
   "nbconvert_exporter": "python",
   "pygments_lexer": "ipython3",
   "version": "3.5.2"
  }
 },
 "nbformat": 4,
 "nbformat_minor": 2
}
