{
 "cells": [
  {
   "cell_type": "markdown",
   "metadata": {},
   "source": [
    "# Lecture 14 - Classes\n",
    "\n",
    "We could spend a lof time discussing classes and object oriented programming but we only care about the basics in this course. It's important to know the main idea and be able to write simple classes that serve basic mathematical purposes.\n",
    "\n",
    "This will explain expressions like `xs.append(5)` that we used for lists. "
   ]
  },
  {
   "cell_type": "markdown",
   "metadata": {},
   "source": [
    "The main idea of classes is that sometimes you want to put various pieces of data, and functions that manipulate the data in one place. The functions are called *methods* of the class. \n",
    "\n",
    "For example, a vector in $\\mathbb{R}^3$ is represented by three floats. So why not make a new data type that contains three floats and call it a vector?\n",
    "\n",
    "Actually, let's make a list of all the things we know we can do to vectors in $\\mathbb{R}^3$. We can:\n",
    "\n",
    "* Have x, y, z variables for the three coordinates,\n",
    "* take the length of a vector (a.k.a. norm),\n",
    "* we can normalize the vector, meaning we can divide it by the norm so that it now has the same direction but has length 1,\n",
    "* take dot product of two vectors, i.e. take $(x_1,y_1,z_1)\\cdot(x_2,y_2,z_2) = x_1x2 + y_1y_2 + z_1z_2$,\n",
    "* add vectors,\n",
    "* multiply a vector by a scalar\n",
    "* take cross product of two vectors\n",
    "\n",
    "We will make a new type of object in Python, called Vector, that allows us to do all of these things. \n"
   ]
  },
  {
   "cell_type": "code",
   "execution_count": 1,
   "metadata": {
    "collapsed": true
   },
   "outputs": [],
   "source": [
    "import math\n",
    "class Vector():\n",
    "    \n",
    "    # initialize the vector, we will say   \n",
    "    # v = Vector(1,2,3)\n",
    "    # to get a new vector with those coordinated\n",
    "    def __init__(self, xx, yy, zz):\n",
    "        self.x = xx\n",
    "        self.y = yy\n",
    "        self.z = zz\n",
    "    \n",
    "    # compute the norm\n",
    "    def norm(self):\n",
    "        return math.sqrt(self.x*self.x + self.y*self.y + self.z*self.z)\n",
    "\n",
    "    # divide by the norm\n",
    "    def normalize(self):\n",
    "        no = self.norm()\n",
    "        self.x /= no\n",
    "        self.y /= no\n",
    "        self.z /= no    \n",
    "        \n",
    "# note that every function has self in it, so that it can access the information of the class"
   ]
  },
  {
   "cell_type": "markdown",
   "metadata": {},
   "source": [
    "The `class` specifies what constitutes an object (the variables in it, which are all the variables that appear as `self.---`), and the functions that can be used. To create an object of the class, a.k.a. an instance of the class, we need to call the name of the class as if it's a function. "
   ]
  },
  {
   "cell_type": "code",
   "execution_count": 2,
   "metadata": {
    "collapsed": true
   },
   "outputs": [],
   "source": [
    "v = Vector(1.0,2.0,3.0)   \n",
    "# the arguments of this call must match the arguments of the __init__ \n",
    "# function in the class, except the self part"
   ]
  },
  {
   "cell_type": "code",
   "execution_count": 3,
   "metadata": {
    "collapsed": false
   },
   "outputs": [
    {
     "data": {
      "text/plain": [
       "__main__.Vector"
      ]
     },
     "execution_count": 3,
     "metadata": {},
     "output_type": "execute_result"
    }
   ],
   "source": [
    "type(v)"
   ]
  },
  {
   "cell_type": "code",
   "execution_count": 4,
   "metadata": {
    "collapsed": false,
    "scrolled": true
   },
   "outputs": [
    {
     "name": "stdout",
     "output_type": "stream",
     "text": [
      "1.0\n",
      "2.0\n",
      "3.0\n"
     ]
    }
   ],
   "source": [
    "print(v.x)\n",
    "print(v.y)\n",
    "print(v.z)"
   ]
  },
  {
   "cell_type": "code",
   "execution_count": 5,
   "metadata": {
    "collapsed": false
   },
   "outputs": [
    {
     "name": "stdout",
     "output_type": "stream",
     "text": [
      "0.2672612419124244 0.5345224838248488 0.8017837257372732\n"
     ]
    }
   ],
   "source": [
    "v.normalize()\n",
    "print(v.x, v.y, v.z)"
   ]
  },
  {
   "cell_type": "code",
   "execution_count": 6,
   "metadata": {
    "collapsed": false,
    "scrolled": true
   },
   "outputs": [
    {
     "name": "stdout",
     "output_type": "stream",
     "text": [
      "<__main__.Vector object at 0x10ba78748>\n"
     ]
    }
   ],
   "source": [
    "print(v)"
   ]
  },
  {
   "cell_type": "markdown",
   "metadata": {},
   "source": [
    "Python doesn't yet know how to make a string from our class, so that it can print it. We do that with the `__repr__(self)` function"
   ]
  },
  {
   "cell_type": "code",
   "execution_count": 7,
   "metadata": {
    "collapsed": false
   },
   "outputs": [],
   "source": [
    "import math\n",
    "class Vector():\n",
    "    \n",
    "    def __init__(self, xx, yy, zz):\n",
    "        self.x = xx\n",
    "        self.y = yy\n",
    "        self.z = zz\n",
    "    \n",
    "    def norm(self):\n",
    "        return math.sqrt(self.x*self.x + self.y*self.y + self.z*self.z)\n",
    "\n",
    "    def normalize(self):\n",
    "        no = self.norm()\n",
    "        self.x /= no\n",
    "        self.y /= no\n",
    "        self.z /= no    \n",
    "    \n",
    "    def __repr__(self):\n",
    "        return str(self.x) + \",\" + str(self.y) + \",\" + str(self.z)\n",
    "    \n",
    "# note that every function has self in it, so that it can access the information of the class"
   ]
  },
  {
   "cell_type": "code",
   "execution_count": 8,
   "metadata": {
    "collapsed": true
   },
   "outputs": [],
   "source": [
    "v = Vector(1.0,2.0,3.0)"
   ]
  },
  {
   "cell_type": "code",
   "execution_count": 9,
   "metadata": {
    "collapsed": false
   },
   "outputs": [
    {
     "name": "stdout",
     "output_type": "stream",
     "text": [
      "1.0,2.0,3.0\n"
     ]
    }
   ],
   "source": [
    "print(v)"
   ]
  },
  {
   "cell_type": "markdown",
   "metadata": {},
   "source": [
    "This should remind of how we used `xs.appen(5)` for a list xs. Indeed, `list` is a class just like our `Vector` class, and there is a function called `append(self, x)` in it that adds an extra element. "
   ]
  },
  {
   "cell_type": "markdown",
   "metadata": {},
   "source": [
    "Let's also add dot products, scalar multiplication:"
   ]
  },
  {
   "cell_type": "code",
   "execution_count": 10,
   "metadata": {
    "collapsed": true
   },
   "outputs": [],
   "source": [
    "import math\n",
    "class Vector():\n",
    "    \n",
    "    def __init__(self, xx, yy, zz):\n",
    "        self.x = xx\n",
    "        self.y = yy\n",
    "        self.z = zz\n",
    "    \n",
    "    def norm(self):\n",
    "        return math.sqrt(self.x*self.x + self.y*self.y + self.z*self.z)\n",
    "\n",
    "    def normalize(self):\n",
    "        no = self.norm()\n",
    "        self.x /= no\n",
    "        self.y /= no\n",
    "        self.z /= no    \n",
    "    \n",
    "    def __repr__(self):\n",
    "        return str(self.x) + \",\" + str(self.y) + \",\" + str(self.z)\n",
    "    \n",
    "    def dot(self, w):\n",
    "        return self.x * w.x + self.y * w.y + self.z * w.z\n",
    "    \n",
    "    # returns a new vector without modifying the original\n",
    "    def times_scalar(self, alpha):\n",
    "        return Vector(alpha * self.x, alpha * self.y, alpha * self.z)\n",
    "        \n",
    "# note that every function has self in it, so that it can access the information of the class"
   ]
  },
  {
   "cell_type": "code",
   "execution_count": 11,
   "metadata": {
    "collapsed": false
   },
   "outputs": [
    {
     "data": {
      "text/plain": [
       "6.0"
      ]
     },
     "execution_count": 11,
     "metadata": {},
     "output_type": "execute_result"
    }
   ],
   "source": [
    "Vector(1.0,2.0,3.0).dot(Vector(1.0,1.0,1.0))"
   ]
  },
  {
   "cell_type": "code",
   "execution_count": 12,
   "metadata": {
    "collapsed": false
   },
   "outputs": [
    {
     "data": {
      "text/plain": [
       "3.0,6.0,9.0"
      ]
     },
     "execution_count": 12,
     "metadata": {},
     "output_type": "execute_result"
    }
   ],
   "source": [
    "Vector(1.0,2.0,3.0).times_scalar(3)"
   ]
  },
  {
   "cell_type": "markdown",
   "metadata": {},
   "source": [
    "We can also write addition of vectors, we could write `add(self,w)` in the class and use `v.add(w)` to add `v` and `w`, but we could also **overload** the `+` operator as follows:"
   ]
  },
  {
   "cell_type": "code",
   "execution_count": 13,
   "metadata": {
    "collapsed": true
   },
   "outputs": [],
   "source": [
    "import math\n",
    "class Vector():\n",
    "    \n",
    "    def __init__(self, xx, yy, zz):\n",
    "        self.x = xx\n",
    "        self.y = yy\n",
    "        self.z = zz\n",
    "    \n",
    "    def norm(self):\n",
    "        return math.sqrt(self.x*self.x + self.y*self.y + self.z*self.z)\n",
    "\n",
    "    def normalize(self):\n",
    "        no = self.norm()\n",
    "        self.x /= no\n",
    "        self.y /= no\n",
    "        self.z /= no    \n",
    "    \n",
    "    def __repr__(self):\n",
    "        return str(self.x) + \",\" + str(self.y) + \",\" + str(self.z)\n",
    "    \n",
    "    def dot(self, w):\n",
    "        return self.x * w.x + self.y * w.y + self.z * w.z\n",
    "    \n",
    "    def __add__(self, w):\n",
    "        return Vector(self.x + w.x, self.y + w.y, self.z + w.z)\n",
    "    \n",
    "# note that every function has self in it, so that it can access the information of the class"
   ]
  },
  {
   "cell_type": "code",
   "execution_count": 14,
   "metadata": {
    "collapsed": false
   },
   "outputs": [
    {
     "data": {
      "text/plain": [
       "1.0,7.0,13.0"
      ]
     },
     "execution_count": 14,
     "metadata": {},
     "output_type": "execute_result"
    }
   ],
   "source": [
    "(Vector(1.0, 2.0, 3.0) + Vector(0.0, 5.0, 10.0))"
   ]
  },
  {
   "cell_type": "markdown",
   "metadata": {},
   "source": [
    "## Good exercise:\n",
    "\n",
    "Make a class called `Line` which represents a line with equation $ax + by + c = 0$. Write the `__init__(self,a,b,c)`, `__repr__(self)` and `intersect(self,other_line)` methods for the class. The intersect method should return the coordinates of the intersection point of two lines. \n"
   ]
  }
 ],
 "metadata": {
  "kernelspec": {
   "display_name": "Python 3",
   "language": "python",
   "name": "python3"
  },
  "language_info": {
   "codemirror_mode": {
    "name": "ipython",
    "version": 3
   },
   "file_extension": ".py",
   "mimetype": "text/x-python",
   "name": "python",
   "nbconvert_exporter": "python",
   "pygments_lexer": "ipython3",
   "version": "3.5.2"
  }
 },
 "nbformat": 4,
 "nbformat_minor": 2
}
