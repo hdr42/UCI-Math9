{
 "cells": [
  {
   "cell_type": "markdown",
   "metadata": {},
   "source": [
    "# Lecture 9\n",
    "\n",
    "Last time: list comprehension, numbers in binary, how computer memory works, mutable vs immutable.\n",
    "\n",
    "Where we are in the course: We are still learning programming basics and working on mathematical examples to do that. Don't worry, more serious math is coming :)\n",
    "\n",
    "Today: Example: sorting. Complexity, big-O notation."
   ]
  },
  {
   "cell_type": "markdown",
   "metadata": {},
   "source": [
    "This under the hood behaviour difference between mutable and immutable objects is very important."
   ]
  },
  {
   "cell_type": "code",
   "execution_count": 1,
   "metadata": {
    "collapsed": false
   },
   "outputs": [
    {
     "name": "stdout",
     "output_type": "stream",
     "text": [
      "1 1\n",
      "1 999\n"
     ]
    }
   ],
   "source": [
    "x = 1\n",
    "y = x\n",
    "print(x,y)\n",
    "y = 999\n",
    "print(x,y)\n"
   ]
  },
  {
   "cell_type": "markdown",
   "metadata": {},
   "source": [
    "`x` didn't change. \n",
    "\n",
    "<br>\n",
    "\n",
    "But doing a similar thing for lists:"
   ]
  },
  {
   "cell_type": "code",
   "execution_count": 2,
   "metadata": {
    "collapsed": false
   },
   "outputs": [
    {
     "name": "stdout",
     "output_type": "stream",
     "text": [
      "[1, 2, 3] [1, 2, 3]\n",
      "[999, 2, 3] [999, 2, 3]\n"
     ]
    }
   ],
   "source": [
    "x = [1,2,3]\n",
    "y = x\n",
    "print(x,y)\n",
    "y[0] = 999\n",
    "print(x,y)"
   ]
  },
  {
   "cell_type": "markdown",
   "metadata": {},
   "source": [
    "They both change. We explained the reason why: it's because for lists and other **mutable** objects, running `x = [1,2,3]` creates a list `[1,2,3]` somewhere in memory, and stores, in `x` the address of that spot. When we say `y=x`, `x` and `y` are pointing to the same object. So changing `y[0]` changes `x[0]` as well. \n",
    "\n",
    "<br>\n",
    "\n",
    "In function arguments too:"
   ]
  },
  {
   "cell_type": "code",
   "execution_count": 3,
   "metadata": {
    "collapsed": true
   },
   "outputs": [],
   "source": [
    "def f(x):\n",
    "    x += 1\n",
    "    return x"
   ]
  },
  {
   "cell_type": "code",
   "execution_count": 4,
   "metadata": {
    "collapsed": false
   },
   "outputs": [
    {
     "name": "stdout",
     "output_type": "stream",
     "text": [
      "1 0\n"
     ]
    }
   ],
   "source": [
    "x = 0\n",
    "print(f(x), x)"
   ]
  },
  {
   "cell_type": "markdown",
   "metadata": {},
   "source": [
    "The value of `x` didn't change because a copy of `x` was made inside the function. \n",
    "\n",
    "But for lists:"
   ]
  },
  {
   "cell_type": "code",
   "execution_count": 5,
   "metadata": {
    "collapsed": false
   },
   "outputs": [],
   "source": [
    "def f(zs):\n",
    "    zs[0] = 999\n",
    "    return zs"
   ]
  },
  {
   "cell_type": "code",
   "execution_count": 6,
   "metadata": {
    "collapsed": false
   },
   "outputs": [
    {
     "name": "stdout",
     "output_type": "stream",
     "text": [
      "[999, 2, 3] [999, 2, 3]\n"
     ]
    }
   ],
   "source": [
    "xs = [1,2,3]\n",
    "print(xs, f(xs))"
   ]
  },
  {
   "cell_type": "markdown",
   "metadata": {},
   "source": [
    "changing `x[0]` inside the function changed it for good. "
   ]
  },
  {
   "cell_type": "markdown",
   "metadata": {},
   "source": [
    "<br>\n",
    "\n",
    "But there's more funny stuff:"
   ]
  },
  {
   "cell_type": "code",
   "execution_count": 7,
   "metadata": {
    "collapsed": true
   },
   "outputs": [],
   "source": [
    "def f(zs):\n",
    "    zs = [1,2,3]\n",
    "    return zs"
   ]
  },
  {
   "cell_type": "code",
   "execution_count": 8,
   "metadata": {
    "collapsed": false
   },
   "outputs": [
    {
     "data": {
      "text/plain": [
       "[1, 2, 3]"
      ]
     },
     "execution_count": 8,
     "metadata": {},
     "output_type": "execute_result"
    }
   ],
   "source": [
    "xs = [9,9,9,9]\n",
    "f(xs)"
   ]
  },
  {
   "cell_type": "markdown",
   "metadata": {},
   "source": [
    "`xs`'s was changed inside the function right? so if I print `xs`..."
   ]
  },
  {
   "cell_type": "code",
   "execution_count": 9,
   "metadata": {
    "collapsed": false
   },
   "outputs": [
    {
     "name": "stdout",
     "output_type": "stream",
     "text": [
      "[9, 9, 9, 9]\n"
     ]
    }
   ],
   "source": [
    "print(xs)"
   ]
  },
  {
   "cell_type": "markdown",
   "metadata": {},
   "source": [
    "It hadn't changed at all! What is going on?\n",
    "\n",
    "<br>\n",
    "In the function, `zs` is a local variable, and a copy of `xs`, but not a copy of the list that `xs` is pointing to. It's a copy of the address where the list lives. This is why we were able to change `xs` when we did `zs[0]=999` before, because a change in the list that `zs` and `xs` are both ponting to was made. Now, if we say, `zs=[1,2,3]`, then a totally new list `[1,2,3]` is created, and `zs` is now pointing to it. But `xs` is still pointing to what it was pointing to before, which was `[9,9,9,9]` in this case. "
   ]
  },
  {
   "cell_type": "markdown",
   "metadata": {},
   "source": [
    "<br>\n",
    "\n",
    "# Sorting\n",
    "\n",
    "We want to write a function that will sort a list of numbers:\n",
    "\n",
    "e.g. we want `sort([2, 15 ,-1 ,8 ,7])` to return:\n",
    "<br>\n",
    "`[15,8,7,2,-1]`\n",
    "\n",
    "Idea for algorithm:\n",
    "Move the maximum element to the top of the list, then move the maxiumum of the rest to the top of the list...\n",
    "\n",
    "Pseudo-code first level:\n",
    "<pre>\n",
    "<font face=\"times\" size=\"3\">input: xs\n",
    "output: a list with the same entries as xs but x[i]>=x[j] for all i>j\n",
    "    N = length of xs\n",
    "    for i=0,...,N-1\n",
    "        mloc = the location of the maximum of xs from i to N-1\n",
    "        swap xs[mloc] and xs[i]\n",
    "</font>\n",
    "</pre>\n",
    "\n",
    "This algorithm is called *selection sort*. There are much better algorithms like *merge sort*, *quick-sort*. \n",
    "\n",
    "Of course we need to expand \"the location of the maximum of xs from i to N-1\" as code as well. \n",
    "    "
   ]
  },
  {
   "cell_type": "code",
   "execution_count": 10,
   "metadata": {
    "collapsed": true
   },
   "outputs": [],
   "source": [
    "# returns the index of the max of the list\n",
    "def max_loc_of_part(xs, start, end):  # this is actually officially called argmax\n",
    "    current_max = xs[start]\n",
    "    current_max_location = start\n",
    "    for i in range(start, end):\n",
    "        if current_max < xs[i]:\n",
    "            current_max = xs[i]\n",
    "            current_max_location = i\n",
    "    return current_max_location            "
   ]
  },
  {
   "cell_type": "code",
   "execution_count": 11,
   "metadata": {
    "collapsed": false
   },
   "outputs": [
    {
     "data": {
      "text/plain": [
       "4"
      ]
     },
     "execution_count": 11,
     "metadata": {},
     "output_type": "execute_result"
    }
   ],
   "source": [
    "# let's test:\n",
    "max_loc_of_part([1,2,3,4,5],0,5)"
   ]
  },
  {
   "cell_type": "code",
   "execution_count": 12,
   "metadata": {
    "collapsed": false
   },
   "outputs": [
    {
     "data": {
      "text/plain": [
       "0"
      ]
     },
     "execution_count": 12,
     "metadata": {},
     "output_type": "execute_result"
    }
   ],
   "source": [
    "max_loc_of_part([6,2,3,4,5],0,2)"
   ]
  },
  {
   "cell_type": "code",
   "execution_count": 13,
   "metadata": {
    "collapsed": false
   },
   "outputs": [
    {
     "data": {
      "text/plain": [
       "2"
      ]
     },
     "execution_count": 13,
     "metadata": {},
     "output_type": "execute_result"
    }
   ],
   "source": [
    "max_loc_of_part([6,2,3,4,5],2,3)"
   ]
  },
  {
   "cell_type": "markdown",
   "metadata": {},
   "source": [
    "During the sorting, we'll also need to swap things. Let's make that into a function too:"
   ]
  },
  {
   "cell_type": "code",
   "execution_count": 14,
   "metadata": {
    "collapsed": false
   },
   "outputs": [
    {
     "name": "stdout",
     "output_type": "stream",
     "text": [
      "[2, 1, 3]\n"
     ]
    }
   ],
   "source": [
    "# note that this swaps *in place*\n",
    "def swap(xs, i, j):\n",
    "    dum = xs[i]\n",
    "    xs[i] = xs[j]\n",
    "    xs[j] = dum\n",
    "    #return xs  #(we don't need to return because xs is changed by the function, but we could do it)\n",
    "    \n",
    "# let's test:\n",
    "xs = [1,2,3]\n",
    "swap(xs,0,1)\n",
    "print(xs)"
   ]
  },
  {
   "cell_type": "code",
   "execution_count": 15,
   "metadata": {
    "collapsed": true
   },
   "outputs": [],
   "source": [
    "def sort(xs):\n",
    "    N = len(xs)\n",
    "    for i in range(N):\n",
    "        swap(xs, max_loc_of_part(xs,i,N), i)\n",
    "    return xs"
   ]
  },
  {
   "cell_type": "code",
   "execution_count": 16,
   "metadata": {
    "collapsed": false
   },
   "outputs": [
    {
     "data": {
      "text/plain": [
       "[15, 8, 7, 2, -1]"
      ]
     },
     "execution_count": 16,
     "metadata": {},
     "output_type": "execute_result"
    }
   ],
   "source": [
    "xs = [2, 15 ,-1 ,8 ,7]\n",
    "sort(xs)"
   ]
  },
  {
   "cell_type": "markdown",
   "metadata": {},
   "source": [
    "<br>\n",
    "Note that we could have written the same algorithm in one go like this:"
   ]
  },
  {
   "cell_type": "code",
   "execution_count": 17,
   "metadata": {
    "collapsed": false
   },
   "outputs": [
    {
     "data": {
      "text/plain": [
       "[15, 8, 7, 2, -1]"
      ]
     },
     "execution_count": 17,
     "metadata": {},
     "output_type": "execute_result"
    }
   ],
   "source": [
    "def sort_with_not_great_code(xs):\n",
    "    N = len(xs)\n",
    "    for i in range(N):\n",
    "        current_max = xs[i]\n",
    "        current_max_location = i\n",
    "        for j in range(i, N):\n",
    "            if current_max < xs[j]:\n",
    "                current_max = xs[j]\n",
    "                current_max_location = j\n",
    "        dum = xs[i]\n",
    "        xs[i] = xs[current_max_location]\n",
    "        xs[current_max_location] = dum\n",
    "    return xs\n",
    "\n",
    "# test\n",
    "xs = [2, 15 ,-1 ,8 ,7]\n",
    "sort_with_not_great_code(xs)"
   ]
  },
  {
   "cell_type": "markdown",
   "metadata": {},
   "source": [
    "But it is harder to read, and most importantly, you don't get any parts that you can test indepdently and make sure are ok. So it's better to break the problem down to smaller parts. \n",
    "\n",
    "<br>\n"
   ]
  },
  {
   "cell_type": "markdown",
   "metadata": {},
   "source": [
    "Next time, we will make some improvements to this code. "
   ]
  },
  {
   "cell_type": "markdown",
   "metadata": {},
   "source": [
    "## Questions and exercises:\n",
    "\n",
    "* Change the code above so that it deals with empty lists.\n",
    "* Insertion sort. Code up the following sorting algorithm: take a list `xs`, make a new list `ys = []`. For each element `x` in `xs`, insert `x` into `ys` in a way so that `ys` stays sorted. e.g. if `ys = [10,8,4,1]` and we are inserting `x = 5`, `ys` will be `[10,8,5,4,1]`. (you can use `ys.insert(place, new_element)` if you want or write it yourself) \n",
    "* Bubble-sort: start with a list xs. Go through xs from start to finish comparing two items at a time. If two elements are out of order, swap them. Repeat until you can go through the entire list without making a single swap. Code bubble-sort. "
   ]
  }
 ],
 "metadata": {
  "kernelspec": {
   "display_name": "Python 3",
   "language": "python",
   "name": "python3"
  },
  "language_info": {
   "codemirror_mode": {
    "name": "ipython",
    "version": 3
   },
   "file_extension": ".py",
   "mimetype": "text/x-python",
   "name": "python",
   "nbconvert_exporter": "python",
   "pygments_lexer": "ipython3",
   "version": "3.5.2"
  }
 },
 "nbformat": 4,
 "nbformat_minor": 2
}
