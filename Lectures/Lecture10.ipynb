{
 "cells": [
  {
   "cell_type": "markdown",
   "metadata": {},
   "source": [
    "# Lecture 10\n",
    "\n",
    "Last time: More about mutable vs immutable. Selection-sort. \n",
    "\n",
    "Today: making our selection sort code better. Complexity, big-O notation. Recursion. "
   ]
  },
  {
   "cell_type": "markdown",
   "metadata": {},
   "source": [
    "<br>\n",
    "\n",
    "## Example: sorting\n",
    "\n",
    "We want to write a function that will sort a list of numbers:\n",
    "\n",
    "e.g. we want `sort([2, 15 ,-1 ,8 ,7])` to return:\n",
    "<br>\n",
    "`[15,8,7,2,-1]`\n",
    "\n",
    "Idea for algorithm:\n",
    "Move the maximum element to the top of the list, then move the maxiumum of the rest to the top of the list...\n",
    "\n",
    "Pseudo-code first level:\n",
    "<pre>\n",
    "<font face=\"times\" size=\"3\">input: xs\n",
    "output: a list with the same entries as xs but x[i]>=x[j] for all i>j\n",
    "    N = length of xs\n",
    "    for i=0,...,N-1\n",
    "        mloc = the location of the maximum of xs from i to N-1\n",
    "        swap xs[mloc] and xs[i]\n",
    "</font>\n",
    "</pre>\n",
    "\n",
    "This algorithm is called *selection sort*. There are much better algorithms like *merge sort*, *quick-sort*. \n",
    "\n",
    "Of course we need to expand \"the location of the maximum of xs from i to N-1\" as code as well. \n",
    "    "
   ]
  },
  {
   "cell_type": "code",
   "execution_count": 1,
   "metadata": {
    "collapsed": true
   },
   "outputs": [],
   "source": [
    "# returns the index of the max of the list\n",
    "def max_loc_of_part(xs, start, end):  # this is actually officially called argmax\n",
    "    current_max = xs[start]\n",
    "    current_max_location = start\n",
    "    for i in range(start, end):\n",
    "        if current_max < xs[i]:\n",
    "            current_max = xs[i]\n",
    "            current_max_location = i\n",
    "    return current_max_location            "
   ]
  },
  {
   "cell_type": "code",
   "execution_count": 2,
   "metadata": {
    "collapsed": false
   },
   "outputs": [
    {
     "data": {
      "text/plain": [
       "4"
      ]
     },
     "execution_count": 2,
     "metadata": {},
     "output_type": "execute_result"
    }
   ],
   "source": [
    "# let's test:\n",
    "max_loc_of_part([1,2,3,4,5],0,5)"
   ]
  },
  {
   "cell_type": "code",
   "execution_count": 3,
   "metadata": {
    "collapsed": false
   },
   "outputs": [
    {
     "data": {
      "text/plain": [
       "0"
      ]
     },
     "execution_count": 3,
     "metadata": {},
     "output_type": "execute_result"
    }
   ],
   "source": [
    "max_loc_of_part([6,2,3,4,5],0,2)"
   ]
  },
  {
   "cell_type": "code",
   "execution_count": 4,
   "metadata": {
    "collapsed": false
   },
   "outputs": [
    {
     "data": {
      "text/plain": [
       "2"
      ]
     },
     "execution_count": 4,
     "metadata": {},
     "output_type": "execute_result"
    }
   ],
   "source": [
    "max_loc_of_part([6,2,3,4,5],2,3)"
   ]
  },
  {
   "cell_type": "markdown",
   "metadata": {},
   "source": [
    "During the sorting, we'll also need to swap things. Let's make that into a function too:"
   ]
  },
  {
   "cell_type": "code",
   "execution_count": 5,
   "metadata": {
    "collapsed": false
   },
   "outputs": [
    {
     "name": "stdout",
     "output_type": "stream",
     "text": [
      "[2, 1, 3]\n"
     ]
    }
   ],
   "source": [
    "# note that this swaps *in place*\n",
    "def swap(xs, i, j):\n",
    "    dum = xs[i]\n",
    "    xs[i] = xs[j]\n",
    "    xs[j] = dum\n",
    "    #return xs  #(we don't need to return because xs is changed by the function, but we could do it)\n",
    "    \n",
    "# let's test:\n",
    "xs = [1,2,3]\n",
    "swap(xs,0,1)\n",
    "print(xs)"
   ]
  },
  {
   "cell_type": "code",
   "execution_count": 6,
   "metadata": {
    "collapsed": true
   },
   "outputs": [],
   "source": [
    "def sort(xs):\n",
    "    N = len(xs)\n",
    "    for i in range(N):\n",
    "        swap(xs, max_loc_of_part(xs,i,N), i)\n",
    "    return xs"
   ]
  },
  {
   "cell_type": "code",
   "execution_count": 7,
   "metadata": {
    "collapsed": false
   },
   "outputs": [
    {
     "data": {
      "text/plain": [
       "[15, 8, 7, 2, -1]"
      ]
     },
     "execution_count": 7,
     "metadata": {},
     "output_type": "execute_result"
    }
   ],
   "source": [
    "xs = [2, 15 ,-1 ,8 ,7]\n",
    "sort(xs)"
   ]
  },
  {
   "cell_type": "markdown",
   "metadata": {},
   "source": [
    "<br>\n",
    "Note that we could have written the same algorithm in one go like this:"
   ]
  },
  {
   "cell_type": "code",
   "execution_count": 8,
   "metadata": {
    "collapsed": false
   },
   "outputs": [
    {
     "data": {
      "text/plain": [
       "[15, 8, 7, 2, -1]"
      ]
     },
     "execution_count": 8,
     "metadata": {},
     "output_type": "execute_result"
    }
   ],
   "source": [
    "def sort_with_not_great_code(xs):\n",
    "    N = len(xs)\n",
    "    for i in range(N):\n",
    "        current_max = xs[i]\n",
    "        current_max_location = i\n",
    "        for j in range(i, N):\n",
    "            if current_max < xs[j]:\n",
    "                current_max = xs[j]\n",
    "                current_max_location = j\n",
    "        dum = xs[i]\n",
    "        xs[i] = xs[current_max_location]\n",
    "        xs[current_max_location] = dum\n",
    "    return xs\n",
    "\n",
    "# test\n",
    "xs = [2, 15 ,-1 ,8 ,7]\n",
    "sort_with_not_great_code(xs)"
   ]
  },
  {
   "cell_type": "markdown",
   "metadata": {},
   "source": [
    "But it is harder to read, and most importantly, you don't get any parts that you can test indepdently and make sure are ok. So it's better to break the problem down to smaller parts. \n",
    "\n",
    "<br>\n"
   ]
  },
  {
   "cell_type": "markdown",
   "metadata": {},
   "source": [
    "A few other small improvements:\n",
    "* we don't need to make `max_loc_of_part(xs,start,end)`, we can make a function called argmax which gives the location of the max of the whole list. We need to use the **slicing** notation `xs[i:N]` to get the sublist of `xs`. The way slicing works is as follows: <br>if `xs = [1,4,6,4,1,5,10]`, then `xs[2:5]` is `[6,4,1]`. It's the part of the list beginning from the index on the left to the index on the right. \n",
    "    \n",
    "* we can use:\n",
    "<br>\n",
    "`for i,x in enumerate(xs):`<br>\n",
    "to cycle though the list and keep an index at the same time. "
   ]
  },
  {
   "cell_type": "code",
   "execution_count": 9,
   "metadata": {
    "collapsed": false
   },
   "outputs": [
    {
     "data": {
      "text/plain": [
       "[15, 8, 7, 2, -1]"
      ]
     },
     "execution_count": 9,
     "metadata": {},
     "output_type": "execute_result"
    }
   ],
   "source": [
    "def argmax(xs):\n",
    "    current_max = xs[0]\n",
    "    current_max_location = 0\n",
    "    for i,x in enumerate(xs):   # use enumerate to cycle through i and xs[i] at the same time\n",
    "        if current_max < x:\n",
    "            current_max = x\n",
    "            current_max_location = i\n",
    "    return current_max_location            \n",
    "\n",
    "def sort(xs):\n",
    "    N = len(xs)\n",
    "    for i in range(N):\n",
    "        swap(xs, i + argmax(xs[i:N]), i)\n",
    "    return xs\n",
    "\n",
    "# test\n",
    "xs = [2, 15 ,-1 ,8 ,7]\n",
    "sort(xs)"
   ]
  },
  {
   "cell_type": "markdown",
   "metadata": {},
   "source": [
    "**Remark:** We didn't deal with empty lists in our code. We probably should. \n",
    "\n",
    "<br>\n",
    "\n",
    "**A little more about slicing: **"
   ]
  },
  {
   "cell_type": "code",
   "execution_count": 10,
   "metadata": {
    "collapsed": false
   },
   "outputs": [
    {
     "name": "stdout",
     "output_type": "stream",
     "text": [
      "the element at index 2 is:   3\n",
      "the sublist from indices 2 (included) to 4 (not included) is:   [3, 4]\n",
      "the part up to index 2 (not included) is:   [1, 2]\n",
      "the part starting from index 2 (included) is:   [3, 4, 5, 6, 7]\n"
     ]
    }
   ],
   "source": [
    "xs = [1,2,3,4,5,6,7]\n",
    "print(\"the element at index 2 is:  \", xs[2])\n",
    "print(\"the sublist from indices 2 (included) to 4 (not included) is:  \", xs[2:4])\n",
    "print(\"the part up to index 2 (not included) is:  \", xs[:2])\n",
    "print(\"the part starting from index 2 (included) is:  \", xs[2:])\n"
   ]
  },
  {
   "cell_type": "markdown",
   "metadata": {},
   "source": [
    "### Complexity:"
   ]
  },
  {
   "cell_type": "markdown",
   "metadata": {},
   "source": [
    "If I run `sort(xs)` on a list `xs` of length $n$. How many operations are done by Python? \n",
    "\n",
    "If we look through the code, we can see that we loop through the list once, and for each time we loop through, we loop through the part from xs[i] to xs[N-1]. And then we do a few operations for swapping etc. All in all, it is safe to say that we do less than \n",
    "$$20\\frac{n(n+1)}{2} = 10n^2 + 10n$$\n",
    "operations. \n",
    "\n",
    "As $n$ becomes large, $n^2$ is clearly much much bigger than $n$, and the factor of $10$ is not that interesting. since it's not the real source of growth in the amount of time it will take. \n",
    "\n",
    "So we say, the algorithm takes time in $\\operatorname{O}(n^2)$. \n",
    "\n",
    "Officially, let us call longest number of steps that the algorithm takes on a list of length $n$ as $T(n)$, so $T: \\mathbb{N} \\rightarrow \\mathbb{N}$ is function called the worst-case-time-complexity of the algorithm.\n",
    "$T$ is in $\\operatorname{O}(n^k)$ if, there is a constant $C$ such that, for large enough $n$, we have:\n",
    "$$T(n) < Cn^k$$"
   ]
  },
  {
   "cell_type": "markdown",
   "metadata": {},
   "source": [
    "Conclusion: the running time of the selection sort algorithm is (for large $n$) less than $Cn^2$, so we say it's an $\\operatorname{O}(n^2)$ algorithm. \n",
    "\n",
    "By the way, the best sorting algorithm is $\\operatorname{O}(n\\log n)$."
   ]
  },
  {
   "cell_type": "markdown",
   "metadata": {},
   "source": [
    "## Questions and exercises:\n",
    "\n",
    "* What is the complexity of finding the maximum of a list.\n",
    "* Insertion sort. Code up the following sorting algorithm: take a list `xs`, make a new list `ys = []`. For each element `x` in `xs`, insert `x` into `ys` in a way so that `ys` stays sorted. e.g. if `ys = [10,8,4,1]` and we are inserting `x = 5`, `ys` will be `[10,8,5,4,1]`. (you can use `ys.insert(place, new_element)` if you want or write it yourself) \n",
    "* What is the complexity of insertion-sort?\n",
    "* Bubble-sort: start with a list xs. Go through xs from start to finish comparing two items at a time. If two elements are out of order, swap them. Repeat until you can go through the entire list without making a single swap. Code bubble-sort. "
   ]
  }
 ],
 "metadata": {
  "kernelspec": {
   "display_name": "Python 3",
   "language": "python",
   "name": "python3"
  },
  "language_info": {
   "codemirror_mode": {
    "name": "ipython",
    "version": 3
   },
   "file_extension": ".py",
   "mimetype": "text/x-python",
   "name": "python",
   "nbconvert_exporter": "python",
   "pygments_lexer": "ipython3",
   "version": "3.5.2"
  }
 },
 "nbformat": 4,
 "nbformat_minor": 2
}
