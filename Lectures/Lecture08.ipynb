{
 "cells": [
  {
   "cell_type": "markdown",
   "metadata": {},
   "source": [
    "# Lecture 8\n",
    "\n",
    "Today: \n",
    "* More about lists.\n",
    "* List comprehension\n",
    "* Example use of lists to keep track of things\n",
    "* Mutable vs immutable objects in Python"
   ]
  },
  {
   "cell_type": "markdown",
   "metadata": {},
   "source": [
    "Last time, we taked about how to make and use lists. Some highlights from last time. "
   ]
  },
  {
   "cell_type": "code",
   "execution_count": 1,
   "metadata": {
    "collapsed": false
   },
   "outputs": [
    {
     "name": "stdout",
     "output_type": "stream",
     "text": [
      "[1, 2, 4, 1, 5, 'hello']\n"
     ]
    }
   ],
   "source": [
    "# defining lists:\n",
    "xs = [1,2,4,1,5,\"hello\"]\n",
    "print(xs)"
   ]
  },
  {
   "cell_type": "code",
   "execution_count": 2,
   "metadata": {
    "collapsed": false,
    "scrolled": true
   },
   "outputs": [
    {
     "name": "stdout",
     "output_type": "stream",
     "text": [
      "[999, 2, 4, 1, 5, 'hello']\n"
     ]
    }
   ],
   "source": [
    "# changing elements:\n",
    "xs = [1,2,4,1,5,\"hello\"]\n",
    "xs[0] = 999\n",
    "print(xs)"
   ]
  },
  {
   "cell_type": "code",
   "execution_count": 3,
   "metadata": {
    "collapsed": false
   },
   "outputs": [
    {
     "name": "stdout",
     "output_type": "stream",
     "text": [
      "the first element of the list is: 999\n",
      "the last element of the list is: hello\n"
     ]
    }
   ],
   "source": [
    "# acccessing elements\n",
    "print(\"the first element of the list is:\", xs[0])\n",
    "print(\"the last element of the list is:\", xs[-1])"
   ]
  },
  {
   "cell_type": "code",
   "execution_count": 4,
   "metadata": {
    "collapsed": false
   },
   "outputs": [
    {
     "name": "stdout",
     "output_type": "stream",
     "text": [
      "the length of the list is: 6\n"
     ]
    }
   ],
   "source": [
    "# length of list\n",
    "print(\"the length of the list is:\", len(xs))"
   ]
  },
  {
   "cell_type": "code",
   "execution_count": 5,
   "metadata": {
    "collapsed": false
   },
   "outputs": [
    {
     "name": "stdout",
     "output_type": "stream",
     "text": [
      "[999, 2, 4, 1, 5, 'hello', 'goodbye']\n"
     ]
    }
   ],
   "source": [
    "# adding a new element to a list:\n",
    "xs.append(\"goodbye\")\n",
    "print(xs)"
   ]
  },
  {
   "cell_type": "code",
   "execution_count": 6,
   "metadata": {
    "collapsed": false
   },
   "outputs": [
    {
     "name": "stdout",
     "output_type": "stream",
     "text": [
      "[1, 2, 3, 4, 'hello', 'goodbye']\n",
      "but xs is still: [1, 2, 3, 4]\n"
     ]
    }
   ],
   "source": [
    "# concatenating lists using +\n",
    "xs = [1,2,3,4]\n",
    "print(xs + [\"hello\", \"goodbye\"])\n",
    "print(\"but xs is still:\", xs)"
   ]
  },
  {
   "cell_type": "code",
   "execution_count": 7,
   "metadata": {
    "collapsed": false
   },
   "outputs": [
    {
     "name": "stdout",
     "output_type": "stream",
     "text": [
      "[1, 2, 3, 4, 'hello', 'goodbye']\n"
     ]
    }
   ],
   "source": [
    "# We could do:\n",
    "xs = xs + [\"hello\", \"goodbye\"]\n",
    "print(xs)"
   ]
  },
  {
   "cell_type": "code",
   "execution_count": 8,
   "metadata": {
    "collapsed": false
   },
   "outputs": [
    {
     "name": "stdout",
     "output_type": "stream",
     "text": [
      "[1, 2, 3, 4, 'hello', 'goodbye']\n"
     ]
    }
   ],
   "source": [
    "# alternatively, we can use extend\n",
    "xs = [1,2,3,4]\n",
    "xs.extend([\"hello\", \"goodbye\"])\n",
    "print(xs)"
   ]
  },
  {
   "cell_type": "code",
   "execution_count": 9,
   "metadata": {
    "collapsed": false
   },
   "outputs": [
    {
     "data": {
      "text/plain": [
       "[0, 1, 2, 3, 4, 5, 6, 7, 8, 9]"
      ]
     },
     "execution_count": 9,
     "metadata": {},
     "output_type": "execute_result"
    }
   ],
   "source": [
    "# range\n",
    "list(range(10))"
   ]
  },
  {
   "cell_type": "code",
   "execution_count": 10,
   "metadata": {
    "collapsed": false
   },
   "outputs": [
    {
     "data": {
      "text/plain": [
       "[5, 6, 7, 8, 9]"
      ]
     },
     "execution_count": 10,
     "metadata": {},
     "output_type": "execute_result"
    }
   ],
   "source": [
    "list(range(5,10))"
   ]
  },
  {
   "cell_type": "code",
   "execution_count": 11,
   "metadata": {
    "collapsed": false
   },
   "outputs": [
    {
     "data": {
      "text/plain": [
       "[5, 8, 11, 14, 17]"
      ]
     },
     "execution_count": 11,
     "metadata": {},
     "output_type": "execute_result"
    }
   ],
   "source": [
    "list(range(5, 20, 3))"
   ]
  },
  {
   "cell_type": "code",
   "execution_count": 12,
   "metadata": {
    "collapsed": false
   },
   "outputs": [
    {
     "name": "stdout",
     "output_type": "stream",
     "text": [
      "0\n",
      "1\n",
      "2\n",
      "3\n",
      "4\n",
      "5\n",
      "6\n",
      "7\n",
      "8\n",
      "9\n"
     ]
    }
   ],
   "source": [
    "# looping over a list using for\n",
    "for i in range(10):\n",
    "    print(i)"
   ]
  },
  {
   "cell_type": "markdown",
   "metadata": {},
   "source": [
    "## List comprehension\n",
    "\n",
    "In math, we use the following notation a lot when defining sets:\n",
    "$$ X = \\{ 2n  \\,\\, | \\,\\, n \\in \\mathbb{Z} \\}$$\n",
    "$X$ would be the set of even numbers. Similarly, we can define lists from other lists in Python. \n",
    "\n",
    "In the tradition of naming things with words that ordinary people can't understand, this is called **list comprehension**."
   ]
  },
  {
   "cell_type": "code",
   "execution_count": 13,
   "metadata": {
    "collapsed": false
   },
   "outputs": [
    {
     "name": "stdout",
     "output_type": "stream",
     "text": [
      "[0, 2, 4, 6, 8, 10, 12, 14, 16, 18]\n"
     ]
    }
   ],
   "source": [
    "evens = [2*n for n in range(10)]\n",
    "print(evens)"
   ]
  },
  {
   "cell_type": "code",
   "execution_count": 14,
   "metadata": {
    "collapsed": false
   },
   "outputs": [
    {
     "name": "stdout",
     "output_type": "stream",
     "text": [
      "[1, 3, 5, 7, 9, 11, 13, 15, 17, 19]\n"
     ]
    }
   ],
   "source": [
    "odds = [n+1 for n in evens]\n",
    "print(odds)"
   ]
  },
  {
   "cell_type": "code",
   "execution_count": 15,
   "metadata": {
    "collapsed": false
   },
   "outputs": [
    {
     "data": {
      "text/plain": [
       "[2,\n",
       " 4,\n",
       " 16,\n",
       " 256,\n",
       " 65536,\n",
       " 4294967296,\n",
       " 18446744073709551616,\n",
       " 340282366920938463463374607431768211456,\n",
       " 115792089237316195423570985008687907853269984665640564039457584007913129639936,\n",
       " 13407807929942597099574024998205846127479365820592393377723561443721764030073546976801874298166903427690031858186486050853753882811946569946433649006084096]"
      ]
     },
     "execution_count": 15,
     "metadata": {},
     "output_type": "execute_result"
    }
   ],
   "source": [
    "[ 2**(2**n) for n in range(10) ]"
   ]
  },
  {
   "cell_type": "markdown",
   "metadata": {},
   "source": [
    "<br>\n",
    "## Example of using lists to remember things\n",
    "\n",
    "We didn't do this in lecture. But you can read it to see an example of using lists in a real problem. \n",
    "\n",
    "One great reason to use lists is to have lots of variables to keep track of things.\n",
    "\n",
    "We are looking for the numbers with the longest sequences in the $3n+1$ problem.  \n",
    "\n",
    "Recall that the $3n+1$ problem works as follows:\n",
    "\n",
    "* Start with $a_0 = k$\n",
    "* if $a_i$ is odd, let $a_{i+1} = 3a_i + 1$\n",
    "* if $a_i$ is even, let $a_{i+1} = a_i/2$\n",
    "\n",
    "If we start with $a_0 = 3$, the sequences is:\n",
    "$3, 10, 5, 16, 8, 4, 2, 1$\n",
    "\n",
    "If we start with $a_0 = 9$, the sequence is:\n",
    "$9, 28, 14, 7, 22, 11, 34, 17, 52, 26, 13, 40, 20, 10 5, 16, 8, 4, 2, 1$\n",
    "\n",
    "The funny thing that nobody understands why is that the sequence seems to always ends with 1. This is sometimes called the *Collatz conjecture*. \n",
    "\n",
    "Let's find the number $< 1000000$ with the longest sequence"
   ]
  },
  {
   "cell_type": "code",
   "execution_count": 16,
   "metadata": {
    "collapsed": false
   },
   "outputs": [],
   "source": [
    "# let's generate the list\n",
    "def collist(a):\n",
    "    lst = []\n",
    "    while a!=1:\n",
    "        if a%2 == 0:\n",
    "            a = a // 2\n",
    "        else:\n",
    "            a = 3*a + 1\n",
    "        lst.append(a)\n",
    "    return lst"
   ]
  },
  {
   "cell_type": "code",
   "execution_count": 17,
   "metadata": {
    "collapsed": false
   },
   "outputs": [
    {
     "data": {
      "text/plain": [
       "[28, 14, 7, 22, 11, 34, 17, 52, 26, 13, 40, 20, 10, 5, 16, 8, 4, 2, 1]"
      ]
     },
     "execution_count": 17,
     "metadata": {},
     "output_type": "execute_result"
    }
   ],
   "source": [
    "collist(9)"
   ]
  },
  {
   "cell_type": "code",
   "execution_count": 18,
   "metadata": {
    "collapsed": true
   },
   "outputs": [],
   "source": [
    "# let's generate just the length:\n",
    "def collen(a):\n",
    "    return len(collist(a))"
   ]
  },
  {
   "cell_type": "code",
   "execution_count": 19,
   "metadata": {
    "collapsed": false
   },
   "outputs": [
    {
     "data": {
      "text/plain": [
       "19"
      ]
     },
     "execution_count": 19,
     "metadata": {},
     "output_type": "execute_result"
    }
   ],
   "source": [
    "collen(9)"
   ]
  },
  {
   "cell_type": "markdown",
   "metadata": {},
   "source": [
    "But note that we are making a whole list which is stored in memory just to compute its length. It makes no sense. We can just compute the length without making the whole list. "
   ]
  },
  {
   "cell_type": "code",
   "execution_count": 20,
   "metadata": {
    "collapsed": true
   },
   "outputs": [],
   "source": [
    "# let's generate the list\n",
    "def collen(a):\n",
    "    total_len = 0\n",
    "    if a < 1:\n",
    "        return 0\n",
    "    while a!=1:\n",
    "        if a%2 == 0:\n",
    "            a = a // 2\n",
    "        else:\n",
    "            a = 3*a + 1\n",
    "        total_len += 1\n",
    "    return total_len"
   ]
  },
  {
   "cell_type": "code",
   "execution_count": 21,
   "metadata": {
    "collapsed": false
   },
   "outputs": [
    {
     "data": {
      "text/plain": [
       "19"
      ]
     },
     "execution_count": 21,
     "metadata": {},
     "output_type": "execute_result"
    }
   ],
   "source": [
    "collen(9)\n",
    "# still works:"
   ]
  },
  {
   "cell_type": "markdown",
   "metadata": {},
   "source": [
    "Let's look for the maximum length up to 1000"
   ]
  },
  {
   "cell_type": "code",
   "execution_count": 22,
   "metadata": {
    "collapsed": false
   },
   "outputs": [
    {
     "name": "stdout",
     "output_type": "stream",
     "text": [
      "maximum sequence length was for the number 871 and it was 178\n"
     ]
    }
   ],
   "source": [
    "mm = 1000\n",
    "\n",
    "max_len = -1\n",
    "max_len_came_from = -1\n",
    "\n",
    "for i in range(mm):\n",
    "    le = collen(i)\n",
    "    if le > max_len:\n",
    "        max_len = le\n",
    "        max_len_came_from = i\n",
    "        \n",
    "print(\"maximum sequence length was for the number\", max_len_came_from, \"and it was\", max_len) "
   ]
  },
  {
   "cell_type": "markdown",
   "metadata": {},
   "source": [
    "<br>\n",
    "Can we be more efficient?\n",
    "\n",
    "Yes, in fact we keep doing the same things over and over again. For example, when computing `collen(5)`, we see `5,16,8,4,2,1`, but then we we look at `collen(6)`, we look at `6,3,10,5,16,8,4,2,1`. Redundant!!! SAD!"
   ]
  },
  {
   "cell_type": "markdown",
   "metadata": {},
   "source": [
    "Solution: let's remember the lengths we already computed. "
   ]
  },
  {
   "cell_type": "code",
   "execution_count": 23,
   "metadata": {
    "collapsed": false
   },
   "outputs": [
    {
     "name": "stdout",
     "output_type": "stream",
     "text": [
      "maximum sequence length was for the number 837799 and it was 524\n"
     ]
    }
   ],
   "source": [
    "# start with list full of 0s\n",
    "import time\n",
    "mm = 1000000\n",
    "llen = 10*mm\n",
    "lengths = [0 for i in range(llen)]\n",
    "\n",
    "def smart_collen(a):\n",
    "    total_len = 0\n",
    "    if a < 1:\n",
    "        return 0\n",
    "    while a!=1:\n",
    "        if a < llen and lengths[a] != 0:\n",
    "            return lengths[a]+total_len\n",
    "        #else\n",
    "        if a%2 == 0:\n",
    "            a = a // 2\n",
    "        else:\n",
    "            a = 3*a + 1\n",
    "        total_len += 1\n",
    "    return total_len\n",
    "\n",
    "max_len = -1\n",
    "max_len_came_from = -1\n",
    "for i in range(mm):\n",
    "    le = smart_collen(i)\n",
    "    if le > max_len:\n",
    "        max_len = le\n",
    "        max_len_came_from = i\n",
    "\n",
    "print(\"maximum sequence length was for the number\", max_len_came_from, \"and it was\", max_len)  "
   ]
  },
  {
   "cell_type": "code",
   "execution_count": 24,
   "metadata": {
    "collapsed": false,
    "scrolled": false
   },
   "outputs": [
    {
     "data": {
      "text/plain": [
       "[2513398,\n",
       " 1256699,\n",
       " 3770098,\n",
       " 1885049,\n",
       " 5655148,\n",
       " 2827574,\n",
       " 1413787,\n",
       " 4241362,\n",
       " 2120681,\n",
       " 6362044,\n",
       " 3181022,\n",
       " 1590511,\n",
       " 4771534,\n",
       " 2385767,\n",
       " 7157302,\n",
       " 3578651,\n",
       " 10735954,\n",
       " 5367977,\n",
       " 16103932,\n",
       " 8051966,\n",
       " 4025983,\n",
       " 12077950,\n",
       " 6038975,\n",
       " 18116926,\n",
       " 9058463,\n",
       " 27175390,\n",
       " 13587695,\n",
       " 40763086,\n",
       " 20381543,\n",
       " 61144630,\n",
       " 30572315,\n",
       " 91716946,\n",
       " 45858473,\n",
       " 137575420,\n",
       " 68787710,\n",
       " 34393855,\n",
       " 103181566,\n",
       " 51590783,\n",
       " 154772350,\n",
       " 77386175,\n",
       " 232158526,\n",
       " 116079263,\n",
       " 348237790,\n",
       " 174118895,\n",
       " 522356686,\n",
       " 261178343,\n",
       " 783535030,\n",
       " 391767515,\n",
       " 1175302546,\n",
       " 587651273,\n",
       " 1762953820,\n",
       " 881476910,\n",
       " 440738455,\n",
       " 1322215366,\n",
       " 661107683,\n",
       " 1983323050,\n",
       " 991661525,\n",
       " 2974984576,\n",
       " 1487492288,\n",
       " 743746144,\n",
       " 371873072,\n",
       " 185936536,\n",
       " 92968268,\n",
       " 46484134,\n",
       " 23242067,\n",
       " 69726202,\n",
       " 34863101,\n",
       " 104589304,\n",
       " 52294652,\n",
       " 26147326,\n",
       " 13073663,\n",
       " 39220990,\n",
       " 19610495,\n",
       " 58831486,\n",
       " 29415743,\n",
       " 88247230,\n",
       " 44123615,\n",
       " 132370846,\n",
       " 66185423,\n",
       " 198556270,\n",
       " 99278135,\n",
       " 297834406,\n",
       " 148917203,\n",
       " 446751610,\n",
       " 223375805,\n",
       " 670127416,\n",
       " 335063708,\n",
       " 167531854,\n",
       " 83765927,\n",
       " 251297782,\n",
       " 125648891,\n",
       " 376946674,\n",
       " 188473337,\n",
       " 565420012,\n",
       " 282710006,\n",
       " 141355003,\n",
       " 424065010,\n",
       " 212032505,\n",
       " 636097516,\n",
       " 318048758,\n",
       " 159024379,\n",
       " 477073138,\n",
       " 238536569,\n",
       " 715609708,\n",
       " 357804854,\n",
       " 178902427,\n",
       " 536707282,\n",
       " 268353641,\n",
       " 805060924,\n",
       " 402530462,\n",
       " 201265231,\n",
       " 603795694,\n",
       " 301897847,\n",
       " 905693542,\n",
       " 452846771,\n",
       " 1358540314,\n",
       " 679270157,\n",
       " 2037810472,\n",
       " 1018905236,\n",
       " 509452618,\n",
       " 254726309,\n",
       " 764178928,\n",
       " 382089464,\n",
       " 191044732,\n",
       " 95522366,\n",
       " 47761183,\n",
       " 143283550,\n",
       " 71641775,\n",
       " 214925326,\n",
       " 107462663,\n",
       " 322387990,\n",
       " 161193995,\n",
       " 483581986,\n",
       " 241790993,\n",
       " 725372980,\n",
       " 362686490,\n",
       " 181343245,\n",
       " 544029736,\n",
       " 272014868,\n",
       " 136007434,\n",
       " 68003717,\n",
       " 204011152,\n",
       " 102005576,\n",
       " 51002788,\n",
       " 25501394,\n",
       " 12750697,\n",
       " 38252092,\n",
       " 19126046,\n",
       " 9563023,\n",
       " 28689070,\n",
       " 14344535,\n",
       " 43033606,\n",
       " 21516803,\n",
       " 64550410,\n",
       " 32275205,\n",
       " 96825616,\n",
       " 48412808,\n",
       " 24206404,\n",
       " 12103202,\n",
       " 6051601,\n",
       " 18154804,\n",
       " 9077402,\n",
       " 4538701,\n",
       " 13616104,\n",
       " 6808052,\n",
       " 3404026,\n",
       " 1702013,\n",
       " 5106040,\n",
       " 2553020,\n",
       " 1276510,\n",
       " 638255,\n",
       " 1914766,\n",
       " 957383,\n",
       " 2872150,\n",
       " 1436075,\n",
       " 4308226,\n",
       " 2154113,\n",
       " 6462340,\n",
       " 3231170,\n",
       " 1615585,\n",
       " 4846756,\n",
       " 2423378,\n",
       " 1211689,\n",
       " 3635068,\n",
       " 1817534,\n",
       " 908767,\n",
       " 2726302,\n",
       " 1363151,\n",
       " 4089454,\n",
       " 2044727,\n",
       " 6134182,\n",
       " 3067091,\n",
       " 9201274,\n",
       " 4600637,\n",
       " 13801912,\n",
       " 6900956,\n",
       " 3450478,\n",
       " 1725239,\n",
       " 5175718,\n",
       " 2587859,\n",
       " 7763578,\n",
       " 3881789,\n",
       " 11645368,\n",
       " 5822684,\n",
       " 2911342,\n",
       " 1455671,\n",
       " 4367014,\n",
       " 2183507,\n",
       " 6550522,\n",
       " 3275261,\n",
       " 9825784,\n",
       " 4912892,\n",
       " 2456446,\n",
       " 1228223,\n",
       " 3684670,\n",
       " 1842335,\n",
       " 5527006,\n",
       " 2763503,\n",
       " 8290510,\n",
       " 4145255,\n",
       " 12435766,\n",
       " 6217883,\n",
       " 18653650,\n",
       " 9326825,\n",
       " 27980476,\n",
       " 13990238,\n",
       " 6995119,\n",
       " 20985358,\n",
       " 10492679,\n",
       " 31478038,\n",
       " 15739019,\n",
       " 47217058,\n",
       " 23608529,\n",
       " 70825588,\n",
       " 35412794,\n",
       " 17706397,\n",
       " 53119192,\n",
       " 26559596,\n",
       " 13279798,\n",
       " 6639899,\n",
       " 19919698,\n",
       " 9959849,\n",
       " 29879548,\n",
       " 14939774,\n",
       " 7469887,\n",
       " 22409662,\n",
       " 11204831,\n",
       " 33614494,\n",
       " 16807247,\n",
       " 50421742,\n",
       " 25210871,\n",
       " 75632614,\n",
       " 37816307,\n",
       " 113448922,\n",
       " 56724461,\n",
       " 170173384,\n",
       " 85086692,\n",
       " 42543346,\n",
       " 21271673,\n",
       " 63815020,\n",
       " 31907510,\n",
       " 15953755,\n",
       " 47861266,\n",
       " 23930633,\n",
       " 71791900,\n",
       " 35895950,\n",
       " 17947975,\n",
       " 53843926,\n",
       " 26921963,\n",
       " 80765890,\n",
       " 40382945,\n",
       " 121148836,\n",
       " 60574418,\n",
       " 30287209,\n",
       " 90861628,\n",
       " 45430814,\n",
       " 22715407,\n",
       " 68146222,\n",
       " 34073111,\n",
       " 102219334,\n",
       " 51109667,\n",
       " 153329002,\n",
       " 76664501,\n",
       " 229993504,\n",
       " 114996752,\n",
       " 57498376,\n",
       " 28749188,\n",
       " 14374594,\n",
       " 7187297,\n",
       " 21561892,\n",
       " 10780946,\n",
       " 5390473,\n",
       " 16171420,\n",
       " 8085710,\n",
       " 4042855,\n",
       " 12128566,\n",
       " 6064283,\n",
       " 18192850,\n",
       " 9096425,\n",
       " 27289276,\n",
       " 13644638,\n",
       " 6822319,\n",
       " 20466958,\n",
       " 10233479,\n",
       " 30700438,\n",
       " 15350219,\n",
       " 46050658,\n",
       " 23025329,\n",
       " 69075988,\n",
       " 34537994,\n",
       " 17268997,\n",
       " 51806992,\n",
       " 25903496,\n",
       " 12951748,\n",
       " 6475874,\n",
       " 3237937,\n",
       " 9713812,\n",
       " 4856906,\n",
       " 2428453,\n",
       " 7285360,\n",
       " 3642680,\n",
       " 1821340,\n",
       " 910670,\n",
       " 455335,\n",
       " 1366006,\n",
       " 683003,\n",
       " 2049010,\n",
       " 1024505,\n",
       " 3073516,\n",
       " 1536758,\n",
       " 768379,\n",
       " 2305138,\n",
       " 1152569,\n",
       " 3457708,\n",
       " 1728854,\n",
       " 864427,\n",
       " 2593282,\n",
       " 1296641,\n",
       " 3889924,\n",
       " 1944962,\n",
       " 972481,\n",
       " 2917444,\n",
       " 1458722,\n",
       " 729361,\n",
       " 2188084,\n",
       " 1094042,\n",
       " 547021,\n",
       " 1641064,\n",
       " 820532,\n",
       " 410266,\n",
       " 205133,\n",
       " 615400,\n",
       " 307700,\n",
       " 153850,\n",
       " 76925,\n",
       " 230776,\n",
       " 115388,\n",
       " 57694,\n",
       " 28847,\n",
       " 86542,\n",
       " 43271,\n",
       " 129814,\n",
       " 64907,\n",
       " 194722,\n",
       " 97361,\n",
       " 292084,\n",
       " 146042,\n",
       " 73021,\n",
       " 219064,\n",
       " 109532,\n",
       " 54766,\n",
       " 27383,\n",
       " 82150,\n",
       " 41075,\n",
       " 123226,\n",
       " 61613,\n",
       " 184840,\n",
       " 92420,\n",
       " 46210,\n",
       " 23105,\n",
       " 69316,\n",
       " 34658,\n",
       " 17329,\n",
       " 51988,\n",
       " 25994,\n",
       " 12997,\n",
       " 38992,\n",
       " 19496,\n",
       " 9748,\n",
       " 4874,\n",
       " 2437,\n",
       " 7312,\n",
       " 3656,\n",
       " 1828,\n",
       " 914,\n",
       " 457,\n",
       " 1372,\n",
       " 686,\n",
       " 343,\n",
       " 1030,\n",
       " 515,\n",
       " 1546,\n",
       " 773,\n",
       " 2320,\n",
       " 1160,\n",
       " 580,\n",
       " 290,\n",
       " 145,\n",
       " 436,\n",
       " 218,\n",
       " 109,\n",
       " 328,\n",
       " 164,\n",
       " 82,\n",
       " 41,\n",
       " 124,\n",
       " 62,\n",
       " 31,\n",
       " 94,\n",
       " 47,\n",
       " 142,\n",
       " 71,\n",
       " 214,\n",
       " 107,\n",
       " 322,\n",
       " 161,\n",
       " 484,\n",
       " 242,\n",
       " 121,\n",
       " 364,\n",
       " 182,\n",
       " 91,\n",
       " 274,\n",
       " 137,\n",
       " 412,\n",
       " 206,\n",
       " 103,\n",
       " 310,\n",
       " 155,\n",
       " 466,\n",
       " 233,\n",
       " 700,\n",
       " 350,\n",
       " 175,\n",
       " 526,\n",
       " 263,\n",
       " 790,\n",
       " 395,\n",
       " 1186,\n",
       " 593,\n",
       " 1780,\n",
       " 890,\n",
       " 445,\n",
       " 1336,\n",
       " 668,\n",
       " 334,\n",
       " 167,\n",
       " 502,\n",
       " 251,\n",
       " 754,\n",
       " 377,\n",
       " 1132,\n",
       " 566,\n",
       " 283,\n",
       " 850,\n",
       " 425,\n",
       " 1276,\n",
       " 638,\n",
       " 319,\n",
       " 958,\n",
       " 479,\n",
       " 1438,\n",
       " 719,\n",
       " 2158,\n",
       " 1079,\n",
       " 3238,\n",
       " 1619,\n",
       " 4858,\n",
       " 2429,\n",
       " 7288,\n",
       " 3644,\n",
       " 1822,\n",
       " 911,\n",
       " 2734,\n",
       " 1367,\n",
       " 4102,\n",
       " 2051,\n",
       " 6154,\n",
       " 3077,\n",
       " 9232,\n",
       " 4616,\n",
       " 2308,\n",
       " 1154,\n",
       " 577,\n",
       " 1732,\n",
       " 866,\n",
       " 433,\n",
       " 1300,\n",
       " 650,\n",
       " 325,\n",
       " 976,\n",
       " 488,\n",
       " 244,\n",
       " 122,\n",
       " 61,\n",
       " 184,\n",
       " 92,\n",
       " 46,\n",
       " 23,\n",
       " 70,\n",
       " 35,\n",
       " 106,\n",
       " 53,\n",
       " 160,\n",
       " 80,\n",
       " 40,\n",
       " 20,\n",
       " 10,\n",
       " 5,\n",
       " 16,\n",
       " 8,\n",
       " 4,\n",
       " 2,\n",
       " 1]"
      ]
     },
     "execution_count": 24,
     "metadata": {},
     "output_type": "execute_result"
    }
   ],
   "source": [
    "collist(837799)"
   ]
  },
  {
   "cell_type": "markdown",
   "metadata": {},
   "source": [
    "## Mutable vs Immutable types in Python"
   ]
  },
  {
   "cell_type": "markdown",
   "metadata": {},
   "source": [
    "This is something technical about how Python works but is very important."
   ]
  },
  {
   "cell_type": "code",
   "execution_count": 25,
   "metadata": {
    "collapsed": false
   },
   "outputs": [
    {
     "name": "stdout",
     "output_type": "stream",
     "text": [
      "1\n"
     ]
    }
   ],
   "source": [
    "# guess what will happen\n",
    "x = 1\n",
    "print(x)"
   ]
  },
  {
   "cell_type": "code",
   "execution_count": 26,
   "metadata": {
    "collapsed": false
   },
   "outputs": [
    {
     "name": "stdout",
     "output_type": "stream",
     "text": [
      "1 2\n"
     ]
    }
   ],
   "source": [
    "# guess what will happen\n",
    "y = x\n",
    "x += 1\n",
    "print(y, x)"
   ]
  },
  {
   "cell_type": "markdown",
   "metadata": {},
   "source": [
    "Even though we said `y=x`, and then changed `x`, the value of `y` didn't change. Why?\n",
    "\n",
    "It was because when we said `y=x`, it was the value of `y` that got get to value of `x`."
   ]
  },
  {
   "cell_type": "code",
   "execution_count": 27,
   "metadata": {
    "collapsed": true
   },
   "outputs": [],
   "source": [
    "# Let's try the same with lists"
   ]
  },
  {
   "cell_type": "code",
   "execution_count": 28,
   "metadata": {
    "collapsed": false
   },
   "outputs": [
    {
     "name": "stdout",
     "output_type": "stream",
     "text": [
      "[999, 2, 3, 4]\n"
     ]
    }
   ],
   "source": [
    "x = [1,2,3,4]\n",
    "y = x\n",
    "x[0] = 999\n",
    "print(y)"
   ]
  },
  {
   "cell_type": "markdown",
   "metadata": {},
   "source": [
    "What is going on? We saw one behaviour for numbers, and a totally different behaviour for lists."
   ]
  },
  {
   "cell_type": "markdown",
   "metadata": {},
   "source": [
    "This is because numbers are **immutable** whereas lists are **mutable**.\n",
    "\n",
    "If `x` refers to a mutable object, then, when we say `y=x`, y is referring to the same object, which exists as a separate entity to `x` and `y`. On the other hand, if `x` is immutable, then the value of `x` is just copied over to `y`. \n",
    "\n",
    "More concretely, when we say `x=1`, in the memory of the computer, a location, which corresponds to `x` is created, and that location stores the value `1`.\n",
    "\n",
    "On the other hand, when we say `x = [1,2,3,4]`, the list `[1,2,3,4]` is created somewhere in memory. A separate location, which corresponds to `x` is also created, but that location does not contain `[1,2,3,4]`. Instead, the location for `x` contains the address of the location where `[1,2,3,4]` is stored in memoty. We can think of `x` as a *pointer* to the actual place of `[1,2,3,4]` in memory."
   ]
  },
  {
   "cell_type": "markdown",
   "metadata": {},
   "source": [
    "Now, when we put `x = [1,2,3,4]` and then `y=x`, the address in memory that y refers to is changed to the address in memory that x refers to. So `x` and `y` are pointing to the same `[1,2,3,4]` in memory. This means that if we then change `x[0]`, this will also change `y[0]`."
   ]
  },
  {
   "cell_type": "markdown",
   "metadata": {},
   "source": [
    "### Mutable objects as function arguments"
   ]
  },
  {
   "cell_type": "code",
   "execution_count": 29,
   "metadata": {
    "collapsed": false
   },
   "outputs": [
    {
     "data": {
      "text/plain": [
       "2"
      ]
     },
     "execution_count": 29,
     "metadata": {},
     "output_type": "execute_result"
    }
   ],
   "source": [
    "# what will happen?\n",
    "def f(a):\n",
    "    a += a\n",
    "    return a\n",
    "\n",
    "x = 1\n",
    "f(x)"
   ]
  },
  {
   "cell_type": "code",
   "execution_count": 30,
   "metadata": {
    "collapsed": false
   },
   "outputs": [
    {
     "name": "stdout",
     "output_type": "stream",
     "text": [
      "1\n"
     ]
    }
   ],
   "source": [
    "print(x)"
   ]
  },
  {
   "cell_type": "markdown",
   "metadata": {},
   "source": [
    "The value of `x` didn't change because `x` was a local variable inside the function. \n",
    "\n",
    "Let's try the same with lists:"
   ]
  },
  {
   "cell_type": "code",
   "execution_count": 31,
   "metadata": {
    "collapsed": false
   },
   "outputs": [
    {
     "data": {
      "text/plain": [
       "[1, 2, 3, 4, 1, 2, 3, 4]"
      ]
     },
     "execution_count": 31,
     "metadata": {},
     "output_type": "execute_result"
    }
   ],
   "source": [
    "# what will happen?\n",
    "def f(a):\n",
    "    a += a\n",
    "    return a\n",
    "\n",
    "x = [1,2,3,4]\n",
    "f(x)"
   ]
  },
  {
   "cell_type": "code",
   "execution_count": 32,
   "metadata": {
    "collapsed": false
   },
   "outputs": [
    {
     "data": {
      "text/plain": [
       "[1, 2, 3, 4, 1, 2, 3, 4]"
      ]
     },
     "execution_count": 32,
     "metadata": {},
     "output_type": "execute_result"
    }
   ],
   "source": [
    "x"
   ]
  },
  {
   "cell_type": "markdown",
   "metadata": {},
   "source": [
    "The value of x did change!!! This was because `x` was a list was mutable. Which meant that it could be changed in the function. \n",
    "\n",
    "This can actually be a good thing: it means that we can manipulate a list inside a function. In the homework, you will be asked to write a function that will reverse a list for example. You will just call `reverse(x)` and the list referred to by `x` will be reversed. "
   ]
  },
  {
   "cell_type": "markdown",
   "metadata": {},
   "source": [
    "So what if `x = [1,2,3,4]` and we really want a copy of `[1,2,3,4]` that will be different? Easy:"
   ]
  },
  {
   "cell_type": "code",
   "execution_count": 33,
   "metadata": {
    "collapsed": false,
    "scrolled": true
   },
   "outputs": [
    {
     "name": "stdout",
     "output_type": "stream",
     "text": [
      "[1, 2, 3, 4] [1, 2, 3, 4]\n",
      "[999, 2, 3, 4] [1, 2, 3, 4]\n"
     ]
    }
   ],
   "source": [
    "import copy\n",
    "x = [1,2,3,4]\n",
    "y = copy.copy(x)\n",
    "print(x,y)\n",
    "x[0] = 999\n",
    "print(x,y)"
   ]
  },
  {
   "cell_type": "markdown",
   "metadata": {},
   "source": [
    "As expected, `y` didn't change because it was a fresh copy, held at a different place in memory. \n",
    "\n",
    "### Mutable:\n",
    "* Lists\n",
    "* Tuples (later)\n",
    "* Dictionaries (later)\n",
    "* Numpy arrays (later)\n",
    "\n",
    "### Immutable:\n",
    "* Integers, floats, bools\n",
    "* Strings"
   ]
  }
 ],
 "metadata": {
  "kernelspec": {
   "display_name": "Python 3",
   "language": "python",
   "name": "python3"
  },
  "language_info": {
   "codemirror_mode": {
    "name": "ipython",
    "version": 3
   },
   "file_extension": ".py",
   "mimetype": "text/x-python",
   "name": "python",
   "nbconvert_exporter": "python",
   "pygments_lexer": "ipython3",
   "version": "3.5.2"
  }
 },
 "nbformat": 4,
 "nbformat_minor": 2
}
