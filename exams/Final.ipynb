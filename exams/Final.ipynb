{
 "cells": [
  {
   "cell_type": "markdown",
   "metadata": {},
   "source": [
    "# Final questions"
   ]
  },
  {
   "cell_type": "markdown",
   "metadata": {},
   "source": [
    "* write f that would draw a particular picture\n",
    "* function of functions\n",
    "* list comprehension\n",
    "* guess what the code does (esp break, continue, mutable vs immutable, local vs global)\n",
    "* taylor series sum\n",
    "* mutable vs immutable, what's goint to happen\n",
    "* recursion example\n",
    "\n",
    "* given list of lists, determine number of zeros\n",
    "* write code that will use gradient descent to find minimum of easy function\n",
    "* result of evaluating expression\n",
    "* mean and standard deviation of data-set\n",
    "* list comprehension with if\n",
    "\n",
    "\n",
    "\n",
    "\n",
    "* divisors of a number\n",
    "* check if palindrome\n",
    "* recursive picture\n",
    "* polynomials class\n",
    "* first quadrant zoom\n",
    "* monte carlo\n",
    "* check if a line goes through a point\n",
    "* plot simple function\n",
    "* random simulation\n",
    "* make one random from another\n",
    "* unfair coin\n",
    "* slicing numpy array\n",
    "* swap numbers without dummy\n",
    "* plot points given to you as zipped\n",
    "* circle and line segment intersection\n",
    "* parabola and line segment intersection\n"
   ]
  },
  {
   "cell_type": "markdown",
   "metadata": {},
   "source": [
    "### Write the output of the following programs"
   ]
  },
  {
   "cell_type": "code",
   "execution_count": 53,
   "metadata": {
    "collapsed": false
   },
   "outputs": [
    {
     "name": "stdout",
     "output_type": "stream",
     "text": [
      "11111111\n"
     ]
    }
   ],
   "source": [
    "#fin\n",
    "x = 1\n",
    "s = 0\n",
    "for i in range(8):\n",
    "    s += x\n",
    "    x *= 10\n",
    "print(s)"
   ]
  },
  {
   "cell_type": "code",
   "execution_count": 1,
   "metadata": {
    "collapsed": false
   },
   "outputs": [
    {
     "name": "stdout",
     "output_type": "stream",
     "text": [
      "36\n"
     ]
    }
   ],
   "source": [
    "#prac\n",
    "x = 1\n",
    "s = 0\n",
    "for i in range(8):\n",
    "    s += x\n",
    "    x += 1\n",
    "print(s)"
   ]
  },
  {
   "cell_type": "code",
   "execution_count": 2,
   "metadata": {
    "collapsed": false
   },
   "outputs": [
    {
     "name": "stdout",
     "output_type": "stream",
     "text": [
      "18\n"
     ]
    }
   ],
   "source": [
    "#prac\n",
    "def f(n):\n",
    "    if n > 0:\n",
    "        return n * g(n)\n",
    "    return 1\n",
    "\n",
    "def g(n):\n",
    "    return f(n // 2)\n",
    "\n",
    "print(f(6))"
   ]
  },
  {
   "cell_type": "code",
   "execution_count": 69,
   "metadata": {
    "collapsed": false
   },
   "outputs": [
    {
     "name": "stdout",
     "output_type": "stream",
     "text": [
      "12\n"
     ]
    }
   ],
   "source": [
    "#fin\n",
    "def f(n):\n",
    "    if n > 0:\n",
    "        return n + g(n - 1)\n",
    "    return 1\n",
    "\n",
    "def g(n):\n",
    "    return f(n) - n\n",
    "\n",
    "print(f(11))"
   ]
  },
  {
   "cell_type": "code",
   "execution_count": 70,
   "metadata": {
    "collapsed": false
   },
   "outputs": [
    {
     "name": "stdout",
     "output_type": "stream",
     "text": [
      "[1, 0, 1, 0, 0, 0, 0, 1]\n"
     ]
    }
   ],
   "source": [
    "# fin\n",
    "def g(n):\n",
    "    if n == 0:\n",
    "        return [] \n",
    "    return [n % 2] + g(n // 2) \n",
    "\n",
    "print(g(133))"
   ]
  },
  {
   "cell_type": "code",
   "execution_count": 73,
   "metadata": {
    "collapsed": false,
    "scrolled": false
   },
   "outputs": [
    {
     "name": "stdout",
     "output_type": "stream",
     "text": [
      "133\n"
     ]
    }
   ],
   "source": [
    "# prac\n",
    "from functools import reduce\n",
    "x = reduce(lambda a,d: 2*a+d, [1,0,0,0,0,1,0,1])\n",
    "print(x)"
   ]
  },
  {
   "cell_type": "code",
   "execution_count": 74,
   "metadata": {
    "collapsed": false
   },
   "outputs": [
    {
     "name": "stdout",
     "output_type": "stream",
     "text": [
      "133\n"
     ]
    }
   ],
   "source": [
    "# fin\n",
    "xs = [0,2,7]\n",
    "x = sum(map(lambda x: 2 ** x, xs))\n",
    "print(x)"
   ]
  },
  {
   "cell_type": "code",
   "execution_count": 75,
   "metadata": {
    "collapsed": false
   },
   "outputs": [
    {
     "data": {
      "text/plain": [
       "15"
      ]
     },
     "execution_count": 75,
     "metadata": {},
     "output_type": "execute_result"
    }
   ],
   "source": [
    "\n",
    "def f(xs):\n",
    "    if xs == []:\n",
    "        return 0\n",
    "    return xs[0] + f(xs[1:])\n",
    "\n",
    "f([1,2,3,4,5])"
   ]
  },
  {
   "cell_type": "markdown",
   "metadata": {},
   "source": [
    "## Make the following plots"
   ]
  },
  {
   "cell_type": "code",
   "execution_count": 84,
   "metadata": {
    "collapsed": true
   },
   "outputs": [],
   "source": [
    "import numpy as np\n",
    "import matplotlib.pyplot as plt\n",
    "%matplotlib inline"
   ]
  },
  {
   "cell_type": "code",
   "execution_count": 89,
   "metadata": {
    "collapsed": false,
    "scrolled": false
   },
   "outputs": [
    {
     "data": {
      "text/plain": [
       "[<matplotlib.lines.Line2D at 0x10a32c4a8>]"
      ]
     },
     "execution_count": 89,
     "metadata": {},
     "output_type": "execute_result"
    },
    {
     "data": {
      "image/png": "[encoded data removed]",
      "text/plain": [
       "<matplotlib.figure.Figure at 0x10a1f42b0>"
      ]
     },
     "metadata": {},
     "output_type": "display_data"
    }
   ],
   "source": [
    "X = np.linspace(-1,1,200)\n",
    "Y = X * X\n",
    "plt.plot(X, Y)"
   ]
  },
  {
   "cell_type": "code",
   "execution_count": 100,
   "metadata": {
    "collapsed": false
   },
   "outputs": [
    {
     "data": {
      "text/plain": [
       "[<matplotlib.lines.Line2D at 0x10ad47f98>]"
      ]
     },
     "execution_count": 100,
     "metadata": {},
     "output_type": "execute_result"
    },
    {
     "data": {
      "image/png": "[encoded data removed]",
      "text/plain": [
       "<matplotlib.figure.Figure at 0x10ac50e48>"
      ]
     },
     "metadata": {},
     "output_type": "display_data"
    }
   ],
   "source": [
    "X = np.linspace(-5,5,400)\n",
    "Y = 2 ** X\n",
    "plt.plot(X, Y)"
   ]
  },
  {
   "cell_type": "code",
   "execution_count": 95,
   "metadata": {
    "collapsed": false,
    "scrolled": true
   },
   "outputs": [
    {
     "data": {
      "text/plain": [
       "<matplotlib.collections.PathCollection at 0x10a8c61d0>"
      ]
     },
     "execution_count": 95,
     "metadata": {},
     "output_type": "execute_result"
    },
    {
     "data": {
      "image/png": "[encoded data removed]",
      "text/plain": [
       "<matplotlib.figure.Figure at 0x10a7c13c8>"
      ]
     },
     "metadata": {},
     "output_type": "display_data"
    }
   ],
   "source": [
    "X = np.linspace(-1,1,200)\n",
    "Y = X * X + np.random.normal(0,0.1,X.shape[0])\n",
    "plt.scatter(X, Y)"
   ]
  },
  {
   "cell_type": "code",
   "execution_count": 104,
   "metadata": {
    "collapsed": false,
    "scrolled": true
   },
   "outputs": [
    {
     "data": {
      "text/plain": [
       "<matplotlib.collections.PathCollection at 0x10afaaa90>"
      ]
     },
     "execution_count": 104,
     "metadata": {},
     "output_type": "execute_result"
    },
    {
     "data": {
      "image/png": "[encoded data removed]",
      "text/plain": [
       "<matplotlib.figure.Figure at 0x10af9f1d0>"
      ]
     },
     "metadata": {},
     "output_type": "display_data"
    }
   ],
   "source": [
    "X = np.linspace(-1,1,200)\n",
    "Y = X + np.random.normal(0,0.2,X.shape[0])\n",
    "plt.scatter(X, Y)"
   ]
  },
  {
   "cell_type": "markdown",
   "metadata": {},
   "source": [
    "### List comprehension"
   ]
  },
  {
   "cell_type": "markdown",
   "metadata": {},
   "source": [
    "Produce the following lists using list comprehension"
   ]
  },
  {
   "cell_type": "code",
   "execution_count": 108,
   "metadata": {
    "collapsed": false,
    "scrolled": false
   },
   "outputs": [
    {
     "data": {
      "text/plain": [
       "[0, 1, 3, 7, 15, 31, 63, 127, 255, 511]"
      ]
     },
     "execution_count": 108,
     "metadata": {},
     "output_type": "execute_result"
    }
   ],
   "source": [
    "[2 ** x - 1 for x in range(10)]"
   ]
  },
  {
   "cell_type": "code",
   "execution_count": 110,
   "metadata": {
    "collapsed": false,
    "scrolled": false
   },
   "outputs": [
    {
     "data": {
      "text/plain": [
       "[0, 0, 1, 1, 2, 2, 3, 3, 4, 4, 5, 5, 6, 6, 7, 7, 8, 8, 9, 9]"
      ]
     },
     "execution_count": 110,
     "metadata": {},
     "output_type": "execute_result"
    }
   ],
   "source": [
    "[x // 2 for x in range(20)]"
   ]
  },
  {
   "cell_type": "code",
   "execution_count": 113,
   "metadata": {
    "collapsed": false,
    "scrolled": false
   },
   "outputs": [
    {
     "data": {
      "text/plain": [
       "[1, 2, 4, 5, 7, 8, 10, 11, 13, 14, 16, 17, 19]"
      ]
     },
     "execution_count": 113,
     "metadata": {},
     "output_type": "execute_result"
    }
   ],
   "source": [
    "[x for x in range(20) if x % 3 != 0]"
   ]
  },
  {
   "cell_type": "code",
   "execution_count": 124,
   "metadata": {
    "collapsed": false,
    "scrolled": true
   },
   "outputs": [
    {
     "data": {
      "text/plain": [
       "[11, 101, 1001, 10001, 100001, 1000001, 10000001, 100000001, 1000000001]"
      ]
     },
     "execution_count": 124,
     "metadata": {},
     "output_type": "execute_result"
    }
   ],
   "source": [
    "[10 ** x + 1 for x in range(1,10)]"
   ]
  },
  {
   "cell_type": "code",
   "execution_count": 203,
   "metadata": {
    "collapsed": false,
    "scrolled": false
   },
   "outputs": [
    {
     "data": {
      "text/plain": [
       "[-1, 2, -3, 4, -5, 6, -7, 8, -9, 10, -11, 12, -13, 14]"
      ]
     },
     "execution_count": 203,
     "metadata": {},
     "output_type": "execute_result"
    }
   ],
   "source": [
    "[x * (-1)**x for x in range(1,15)]"
   ]
  },
  {
   "cell_type": "code",
   "execution_count": 205,
   "metadata": {
    "collapsed": false
   },
   "outputs": [
    {
     "data": {
      "text/plain": [
       "[0, 101, 2, 103, 4, 105, 6, 107, 8, 109, 10, 111, 12, 113, 14]"
      ]
     },
     "execution_count": 205,
     "metadata": {},
     "output_type": "execute_result"
    }
   ],
   "source": [
    "[x + 100*(x % 2) for x in range(15)]"
   ]
  },
  {
   "cell_type": "markdown",
   "metadata": {},
   "source": [
    "### Create the following numpy arrays"
   ]
  },
  {
   "cell_type": "code",
   "execution_count": 217,
   "metadata": {
    "collapsed": false
   },
   "outputs": [
    {
     "data": {
      "text/plain": [
       "array([[1, 2, 3],\n",
       "       [4, 5, 6],\n",
       "       [7, 8, 9]])"
      ]
     },
     "execution_count": 217,
     "metadata": {},
     "output_type": "execute_result"
    }
   ],
   "source": [
    "def square(n):\n",
    "    X = np.array(range(1, n * n + 1))\n",
    "    return X.reshape((n, n))\n",
    "square(3)"
   ]
  },
  {
   "cell_type": "code",
   "execution_count": 218,
   "metadata": {
    "collapsed": false
   },
   "outputs": [
    {
     "data": {
      "text/plain": [
       "array([[ 1,  2,  3,  4],\n",
       "       [ 5,  6,  7,  8],\n",
       "       [ 9, 10, 11, 12],\n",
       "       [13, 14, 15, 16]])"
      ]
     },
     "execution_count": 218,
     "metadata": {},
     "output_type": "execute_result"
    }
   ],
   "source": [
    "square(4)"
   ]
  },
  {
   "cell_type": "code",
   "execution_count": 221,
   "metadata": {
    "collapsed": false
   },
   "outputs": [
    {
     "data": {
      "text/plain": [
       "array([[0, 1, 2],\n",
       "       [3, 0, 5],\n",
       "       [6, 7, 8]])"
      ]
     },
     "execution_count": 221,
     "metadata": {},
     "output_type": "execute_result"
    }
   ],
   "source": [
    "def square_2(n):\n",
    "    X = squa(n)\n",
    "    X[1:n-1, 1:n-1] = np.zeros([n-2, n-2])\n",
    "    return X\n",
    "\n",
    "square_2(3)"
   ]
  },
  {
   "cell_type": "code",
   "execution_count": 222,
   "metadata": {
    "collapsed": false,
    "scrolled": true
   },
   "outputs": [
    {
     "data": {
      "text/plain": [
       "array([[ 0,  1,  2,  3,  4,  5,  6],\n",
       "       [ 7,  0,  0,  0,  0,  0, 13],\n",
       "       [14,  0,  0,  0,  0,  0, 20],\n",
       "       [21,  0,  0,  0,  0,  0, 27],\n",
       "       [28,  0,  0,  0,  0,  0, 34],\n",
       "       [35,  0,  0,  0,  0,  0, 41],\n",
       "       [42, 43, 44, 45, 46, 47, 48]])"
      ]
     },
     "execution_count": 222,
     "metadata": {},
     "output_type": "execute_result"
    }
   ],
   "source": [
    "square_2(7)"
   ]
  },
  {
   "cell_type": "code",
   "execution_count": 191,
   "metadata": {
    "collapsed": true
   },
   "outputs": [],
   "source": [
    "def chessboard(n):\n",
    "    X = np.array([x % 2 for x in range(n * n)]).reshape([n,n])\n",
    "    return X"
   ]
  },
  {
   "cell_type": "code",
   "execution_count": 207,
   "metadata": {
    "collapsed": false
   },
   "outputs": [
    {
     "data": {
      "text/plain": [
       "array([[0, 1, 0, 1, 0],\n",
       "       [1, 0, 1, 0, 1],\n",
       "       [0, 1, 0, 1, 0],\n",
       "       [1, 0, 1, 0, 1],\n",
       "       [0, 1, 0, 1, 0]])"
      ]
     },
     "execution_count": 207,
     "metadata": {},
     "output_type": "execute_result"
    }
   ],
   "source": [
    "chessboard(5)"
   ]
  },
  {
   "cell_type": "code",
   "execution_count": 212,
   "metadata": {
    "collapsed": false,
    "scrolled": false
   },
   "outputs": [
    {
     "data": {
      "text/plain": [
       "array([[ 0,  1,  0,  1,  0,  1,  0],\n",
       "       [ 1,  0,  1,  0,  1,  0,  1],\n",
       "       [ 0,  1,  0, -1,  0,  1,  0],\n",
       "       [ 1,  0, -1,  0, -1,  0,  1],\n",
       "       [ 0,  1,  0, -1,  0,  1,  0],\n",
       "       [ 1,  0,  1,  0,  1,  0,  1],\n",
       "       [ 0,  1,  0,  1,  0,  1,  0]])"
      ]
     },
     "execution_count": 212,
     "metadata": {},
     "output_type": "execute_result"
    }
   ],
   "source": [
    "def chessgonewrong(n):\n",
    "    X = chessboard(n)\n",
    "    X[n // 2 - 1 : n // 2 + 2, n // 2 - 1 : n // 2 + 2] *= -1\n",
    "    return X\n",
    "\n",
    "chessgonewrong(7)"
   ]
  },
  {
   "cell_type": "markdown",
   "metadata": {},
   "source": [
    "# Open code questions"
   ]
  },
  {
   "cell_type": "markdown",
   "metadata": {},
   "source": [
    "Write a function f that will check if a number is prime\n",
    "\n",
    "Write a function f that will return all positive divisors of a number n.\n",
    "\n",
    "Write a function f(s) that will return true if a string s is a palindrome.\n",
    "\n",
    "Write a function f that will check if one word is an anagram for another.\n",
    "\n",
    "Sum of two polynomials.\n",
    "\n",
    "Evaluate a polynomial.\n",
    "\n",
    "Write gradient descent code for finding the minimum of a polynomial. \n",
    "\n",
    "Write a function that will tell me how fair or unfair the coin is?\n",
    "\n",
    "Monty hall problem simulation\n"
   ]
  },
  {
   "cell_type": "code",
   "execution_count": null,
   "metadata": {
    "collapsed": true
   },
   "outputs": [],
   "source": [
    "# functions you might need:\n",
    "np.zeros\n",
    "np.random.uniform\n",
    "np.random.normal\n",
    "X.reshape()\n",
    "\n",
    "\n"
   ]
  },
  {
   "cell_type": "code",
   "execution_count": 3,
   "metadata": {
    "collapsed": true
   },
   "outputs": [],
   "source": [
    "def divisors(n):\n",
    "    xs = []\n",
    "    for i in range(1,n+1):\n",
    "        if n % i == 0:\n",
    "            xs.append(i)\n",
    "    return xs"
   ]
  },
  {
   "cell_type": "code",
   "execution_count": 5,
   "metadata": {
    "collapsed": false
   },
   "outputs": [
    {
     "data": {
      "text/plain": [
       "[1, 5, 25]"
      ]
     },
     "execution_count": 5,
     "metadata": {},
     "output_type": "execute_result"
    }
   ],
   "source": [
    "divisors(25)"
   ]
  },
  {
   "cell_type": "code",
   "execution_count": 7,
   "metadata": {
    "collapsed": true
   },
   "outputs": [],
   "source": [
    "def ispalin(s):\n",
    "    n = len(s)\n",
    "    for i in range(n//2):\n",
    "        if s[i] != s[n-1-i]:\n",
    "            return False\n",
    "    return True"
   ]
  },
  {
   "cell_type": "code",
   "execution_count": 10,
   "metadata": {
    "collapsed": false
   },
   "outputs": [
    {
     "data": {
      "text/plain": [
       "False"
      ]
     },
     "execution_count": 10,
     "metadata": {},
     "output_type": "execute_result"
    }
   ],
   "source": [
    "ispalin(\"aauba\")"
   ]
  },
  {
   "cell_type": "code",
   "execution_count": 13,
   "metadata": {
    "collapsed": false
   },
   "outputs": [
    {
     "name": "stdout",
     "output_type": "stream",
     "text": [
      "-0.793700525984099 -1.9999999882192285 -4.19055078897615\n"
     ]
    }
   ],
   "source": [
    "f = lambda x, y: x**4 + y**2 + 2*x + 4*y + 1\n",
    "delfdelx = lambda x, y: 4 * x**3 + 2\n",
    "delfdely = lambda x, y: 2*y + 4\n",
    "\n",
    "num_steps = 1000\n",
    "eta = 0.01\n",
    "x = 5\n",
    "y = 5\n",
    "for i in range(num_steps):\n",
    "    dx = delfdelx(x,y)\n",
    "    dy = delfdely(x,y)\n",
    "    x -= eta * dx\n",
    "    y -= eta * dy\n",
    "\n",
    "print(x,y,f(x,y))"
   ]
  },
  {
   "cell_type": "code",
   "execution_count": null,
   "metadata": {
    "collapsed": true
   },
   "outputs": [],
   "source": []
  }
 ],
 "metadata": {
  "kernelspec": {
   "display_name": "Python 3",
   "language": "python",
   "name": "python3"
  },
  "language_info": {
   "codemirror_mode": {
    "name": "ipython",
    "version": 3
   },
   "file_extension": ".py",
   "mimetype": "text/x-python",
   "name": "python",
   "nbconvert_exporter": "python",
   "pygments_lexer": "ipython3",
   "version": "3.5.2"
  }
 },
 "nbformat": 4,
 "nbformat_minor": 2
}
