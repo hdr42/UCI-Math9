{
 "cells": [
  {
   "cell_type": "markdown",
   "metadata": {},
   "source": [
    "# Homework 8 starter code"
   ]
  },
  {
   "cell_type": "markdown",
   "metadata": {},
   "source": [
    "## Intersection of line segments"
   ]
  },
  {
   "cell_type": "code",
   "execution_count": null,
   "metadata": {
    "collapsed": true
   },
   "outputs": [],
   "source": [
    "class LineSegment():\n",
    "    \n",
    "    def __init__(self, x1, y1, x2, y2):\n",
    "        self.x1 = x1\n",
    "        self.x2 = x2\n",
    "        self.y1 = y1\n",
    "        self.y2 = y2\n",
    "    \n",
    "    def intersect(self, other):\n",
    "        # ...\n",
    "    \n",
    "    #optional: plots a line segment on the xy plane\n",
    "    #def plot():"
   ]
  },
  {
   "cell_type": "code",
   "execution_count": null,
   "metadata": {
    "collapsed": false
   },
   "outputs": [],
   "source": [
    "seg1 = LineSegment(0,0,2,2)\n",
    "seg2 = LineSegment(2,0,0,2)\n",
    "print(seg1.intersect(seg2))\n",
    "# should print (1.0, 1.0)\n",
    "\n",
    "seg1 = LineSegment(0,0,2,2)\n",
    "seg2 = LineSegment(12,10,0,2)\n",
    "print(seg1.intersect(seg2))\n",
    "# should print None"
   ]
  },
  {
   "cell_type": "markdown",
   "metadata": {},
   "source": [
    "## Polynomial regression, overfitting, and cross-validation"
   ]
  },
  {
   "cell_type": "code",
   "execution_count": null,
   "metadata": {
    "collapsed": true
   },
   "outputs": [],
   "source": [
    "from sklearn import linear_model\n",
    "\n",
    "class PolyFitter():\n",
    "    \n",
    "    def __init__(self, degree):\n",
    "        self.degree = degree\n",
    "        self.model = linear_model.LinearRegression()\n",
    "    \n",
    "    def train(self, X, Y):\n",
    "        X_aug = self._augment_input_(X)\n",
    "        self.model.fit(X_aug, Y)\n",
    "\n",
    "    def predict(self, X):\n",
    "        X_aug = self._augment_input_(X)\n",
    "        return self.model.predict(X_aug)\n",
    "    \n",
    "    def _augment_input_(self, X):\n",
    "        N = X.shape[0]\n",
    "        k = self.degree\n",
    "        X_aug = np.empty([N,k])\n",
    "        X_aug[:,0] = X[:]\n",
    "        for i in range(1,k):\n",
    "            X_aug[:, i] = X * X_aug[:, i-1]\n",
    "        return X_aug\n",
    "    \n",
    "    def plot(self, X, Y):\n",
    "        XX = np.linspace(-2,5,600)\n",
    "        YY = self.predict(XX)\n",
    "        plt.scatter(X, Y, alpha=0.2)\n",
    "        plt.axis([-0.3,2.2,-1,3.4])\n",
    "        plt.plot(XX,YY,\"r\")\n",
    "        plt.show()\n",
    "        \n",
    "    def mean_squared_error(self, X,Y):\n",
    "        #...\n",
    "        pass"
   ]
  },
  {
   "cell_type": "code",
   "execution_count": null,
   "metadata": {
    "collapsed": true
   },
   "outputs": [],
   "source": [
    "data = [(0.3502147639967661, 0.42360711372194826), (0.67558683741762593, 0.089256664454603785), (0.54539367370986036, -0.072216289799610145), (1.58358030900724, 1.6044689719662841), (1.0807770450466139, 1.2126782731736261), (1.3707089136635866, 1.695367576497691), (1.5516968764878436, 1.3496198441366518), (1.0191411891009656, 1.0433163029672907), (1.4291398658117129, 1.6952226928890728), (0.10748585034406699, 0.34972247743323653), (1.5269838526543447, 1.9084678207717771), (1.3714157118451173, 2.3909505272943581), (0.74448777509849129, 0.78225552993436887), (0.32991665045142016, 0.84396415541354841), (0.0058508539477255539, 0.577057312830353), (0.067057104594972383, 0.49705898900676898), (1.5800175828380314, 1.3648252675248276), (1.0403035963001805, 0.28815863924484009), (1.75596376473015, 2.192468880832779), (1.7473666394768523, 3.271019986663481), (0.87922425034542306, 0.56029404258912652), (1.1801184016580848, 0.85013167936259659), (1.0459646636211197, 0.39150764986639469), (1.5297750500321696, 1.4601421274821511), (0.10698033640930626, 0.86153789277808634), (1.3918534959924436, 2.2551453916118422), (1.4442285422749139, 1.8184981532682287), (0.60307953981665063, 0.030478961545763322), (0.19352721984422883, -0.10725711859795214), (1.7970658790568492, 2.3508078380857249), (0.90194267022245422, 0.021153171197730636), (0.48751494770993942, 1.14633384083292), (0.238940222620313, -0.67329134919299904), (0.27136297629828587, 0.40555437799284616), (1.6007001701719783, 2.1221482149336279), (0.22981969132694746, -0.50218778807116682), (0.90903357152606623, 0.33445159641810795), (0.85532288036339721, 0.30041154513265567), (1.4928522469727192, 1.5821496760309866), (0.05084350558041062, -0.22239746840986024), (0.23264716893638315, -0.24489195221279408), (1.0357044339624182, 1.7045770958037465), (1.6487055721599626, 2.4359243672499029), (1.7127526463585361, 1.9047516704628489), (0.99886920639612953, 0.73907696284837376), (1.4333122264332301, 1.190646199000013), (0.74447499220269342, 0.99483043010298533), (0.13028067638513319, 0.73941037018236233), (0.94952227049245752, 0.44061704526927914), (0.29584331322541835, 0.25198502113238402), (0.49628462812741403, 0.30000683722986093), (1.2001793565421506, 1.2464132840085929), (0.72672116742807691, -0.047340621027787133), (1.4246581539523604, 1.0448237535141556), (0.41613280350184056, -0.20419093929421037), (0.1618665120700542, -1.3134202295077679), (0.46290626001618462, -0.19280282164433021), (1.923389257439311, 2.5295253944473126), (0.63159119871116798, 0.4508981182659324), (1.3793772769809083, 0.99559642650927671), (0.30281345390683168, 0.67417183340883002), (0.041915995921997906, 0.022206179608293384), (1.2104528312371607, 0.67688651789823251), (0.32892339364665735, -1.5360989389339939), (1.0524945547489815, 1.8251723589473254), (0.33361363726799165, 0.45467463236970962), (0.029163533985412604, 0.1791203984170936), (1.1126730952410877, 0.69050359350922708), (0.60196632456290011, 0.23328029993385108), (1.7483041468291354, 2.2866900230524423), (1.7273714553859734, 1.7252991058332217), (1.7302181794617026, 2.2350817339083897), (0.46780045385784064, 0.55845943809232712), (0.51008534610276368, 0.60268133844226401), (1.6960264792253796, 2.1173319203387093), (1.540908738618032, 1.8000801743271724), (0.66370371855134924, 0.1338546982948231), (0.99515806952286012, 1.571116616129983), (0.50700788796459406, 0.34161312641051655), (1.4959705506653225, 1.9033372921257019), (1.1844933786440239, 1.4206431582755954), (1.6405990931513548, 1.3133396759994116), (1.6109291849436882, 2.303361657404742), (1.8216295870243076, 2.1924999220439325), (0.8775520001731052, 0.3791488710560868), (1.4769557479580619, 1.628624654139097), (0.017532716524247594, 0.08326597917596916), (1.3371073540278942, 1.4839963681866311), (0.65877941232547021, -0.24264937664210451), (0.065867199940166987, 0.92125117681413815), (1.2205477238214255, 1.6391604783032276), (1.5688921708982388, 1.6810591497291398), (0.29292292573423406, -0.063105501213693307), (1.4329055558259232, 1.767889074377053), (0.12792450498834684, -0.033584891679141214), (0.75848921003542014, -0.71039123131717075), (0.6477923472265934, 0.88105144499915755), (0.75200519932451337, 0.25634843485944114), (1.997612112338738, 2.3090349350857462), (0.97376749965378839, 1.3158878068753481), (1.4098137672257576, 1.7870498453855916), (1.7052009121877718, 3.2624171678883136), (0.77236272818058405, 0.40580540225834183), (1.5054515876969805, 2.0516419994241755), (1.174399902346517, -0.021887084390616485), (1.2876262994163061, 1.0237957293308473), (1.4368211578139518, 2.2236418765584105), (1.4079855157896384, 1.2579846762445317), (0.24765125897131823, 0.34013530511052531), (1.2380469932426343, 1.2517591087461848), (0.57328914012097409, -0.32939526865487012), (0.59614777162081722, -0.095156769644362982), (1.3235720239568227, 1.8798469308100909), (1.4303944087494631, 2.279452515241049), (1.9240172388701575, 2.5212490191304826), (0.49989958608907115, 0.32085759818958975), (0.6938123959692355, 0.52981114454091338), (1.4602323026482107, 1.66922060887188), (1.3100775370904423, 0.59179602433495071), (1.4403118179777765, 1.0996649775083172)]"
   ]
  },
  {
   "cell_type": "code",
   "execution_count": null,
   "metadata": {
    "collapsed": true
   },
   "outputs": [],
   "source": [
    "model = PolyFitter(2)\n",
    "model.train(X, Y)\n",
    "model.plot(X, Y)"
   ]
  },
  {
   "cell_type": "markdown",
   "metadata": {},
   "source": [
    "## (optional) Linear regression with gradient descent"
   ]
  },
  {
   "cell_type": "markdown",
   "metadata": {},
   "source": [
    "Before doing this problem you might want to review the gradient descent and the linear regression lectures."
   ]
  },
  {
   "cell_type": "code",
   "execution_count": null,
   "metadata": {
    "collapsed": true
   },
   "outputs": [],
   "source": [
    "import numpy as np\n",
    "import csv\n",
    "import matplotlib.pyplot as plt"
   ]
  },
  {
   "cell_type": "code",
   "execution_count": null,
   "metadata": {
    "collapsed": true
   },
   "outputs": [],
   "source": [
    "# this will help us plot stuff later\n",
    "def plot_data_and_line(a,b):\n",
    "    XX = np.linspace(-10,10,200).reshape((-1,1))\n",
    "    YY = f(a,b,XX)\n",
    "\n",
    "    plt.scatter(heights, weights, alpha=0.2)\n",
    "    plt.plot(XX,YY,\"r\")\n",
    "    plt.show()"
   ]
  },
  {
   "cell_type": "markdown",
   "metadata": {},
   "source": [
    "Please read the code below carefully and complete the missing parts. \n",
    "\n",
    "It should do the following:\n",
    "\n",
    "* load the data from the csv file and load the heights and weights of the players into numpy arrays\n",
    "* make the mean of height and weight zero by removing the means of each from them\n",
    "* have functions that compute the (linear) model and the average squared error on the whole data-set\n",
    "* have functions that compute the numerical partial derivatives of any function in two variables\n",
    "* run gradient descent to change the parameters `a` and `b` of the model to reduce the error"
   ]
  },
  {
   "cell_type": "code",
   "execution_count": null,
   "metadata": {
    "collapsed": true
   },
   "outputs": [],
   "source": [
    "# load data\n",
    "with open('nba_data.csv', 'r') as f:\n",
    "    reader = csv.reader(f)\n",
    "    data_list = list(reader)\n",
    "\n",
    "# one less because first row of csv file is labels\n",
    "N = len(data_list) - 1\n",
    "\n",
    "heights = np.zeros(N)\n",
    "weights = np.zeros(N)\n",
    "\n",
    "# fill heights ages weights arrays\n",
    "for i in range(1, N+1):\n",
    "    heights[i-1] = #...\n",
    "    weights[i-1] = #...\n",
    "\n",
    "    \n",
    "# remove the mean of heights from each number in the heights array\n",
    "# same for weights\n",
    "# the new mean of the heights array should be zero\n",
    "# this will help our algorithm work better\n",
    "\n",
    "\n",
    "# ....\n",
    "\n",
    "\n",
    "\n",
    "##########"
   ]
  },
  {
   "cell_type": "code",
   "execution_count": null,
   "metadata": {
    "collapsed": true
   },
   "outputs": [],
   "source": [
    "# this is our model, weight is a linear function of height and age\n",
    "def f(a, b, x):\n",
    "    return a * x + b\n",
    "\n",
    "# total error on the whole data set\n",
    "def error_on_data(a,b):\n",
    "    return # the \"mean squared error\"\n",
    "           # i.e. the average of the square of the difference between the weight predicted by f(a,b,?)\n",
    "           #         and the actual weigh"
   ]
  },
  {
   "cell_type": "code",
   "execution_count": null,
   "metadata": {
    "collapsed": true
   },
   "outputs": [],
   "source": [
    "# numerical partial derivatives\n",
    "h = 0.0000001\n",
    "def numdela(fu):\n",
    "    return (lambda a,b: (fu(a + h, b) - fu(a, b)) / h)\n",
    "def numdelb(fu):\n",
    "    return # ..."
   ]
  },
  {
   "cell_type": "code",
   "execution_count": null,
   "metadata": {
    "collapsed": false
   },
   "outputs": [],
   "source": [
    "eta = 0.005  # learning rate\n",
    "num_steps = 601\n",
    "\n",
    "a = 0.0\n",
    "b = 50.0\n",
    "error_amounts = []\n",
    "for i in range(num_steps):\n",
    "    error_amounts.append(error_on_data(a,b))\n",
    "    # update a and b in the opposite direction of the gradient of the error_on_data at (a,b)\n",
    "    # ...\n",
    "    if i % 40 == 0:\n",
    "        plot_data_and_line(a,b)\n",
    "    \n",
    "plot_data_and_line(a,b)\n",
    "    \n",
    "print(\"final error: \", error_on_data(a,b))"
   ]
  }
 ],
 "metadata": {
  "kernelspec": {
   "display_name": "Python 3",
   "language": "python",
   "name": "python3"
  },
  "language_info": {
   "codemirror_mode": {
    "name": "ipython",
    "version": 3
   },
   "file_extension": ".py",
   "mimetype": "text/x-python",
   "name": "python",
   "nbconvert_exporter": "python",
   "pygments_lexer": "ipython3",
   "version": "3.5.2"
  }
 },
 "nbformat": 4,
 "nbformat_minor": 2
}
